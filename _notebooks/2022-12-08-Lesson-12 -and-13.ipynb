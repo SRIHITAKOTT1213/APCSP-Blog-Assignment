{
 "cells": [
  {
   "attachments": {},
   "cell_type": "markdown",
   "metadata": {},
   "source": [
    "# First Jupyter Notebook\n",
    "\n",
    "> Hacks\n",
    "\n",
    "- title: Lesson 12 and 13 Hacks\n",
    "- categories: [Lesson Hacks]\n",
    "- toc: true\n",
    "- comments: true\n",
    "- title: Lesson 12 and 13 Hacks"
   ]
  },
  {
   "cell_type": "markdown",
   "metadata": {},
   "source": [
    "## Hacks\n",
    "### Topic 3.12 (3.A):\n",
    "1. Define **procedure** and **parameter** in your own words\n",
    "- a procedure is kind of like a function that makes the code work. Ex. multiply() makes whatever the variables are multiply with each other. And parameters are those variables that are used by the procedure. Ex. 3 and y. multiply(3,4), or something like that.\n",
    "2. Paste a **screenshot** of completion of the quiz\n",
    "3. Define **Return Values** and **Output Parameters** in your own words\n",
    "- return values are used to return the value, kind of so they get printed as the output.\n",
    "4. Code a **procedure** that finds the square root of any given number. (make sure to call and return the function)"
   ]
  }
 ],
 "metadata": {
  "kernelspec": {
   "display_name": "Python 3.9.12 ('base')",
   "language": "python",
   "name": "python3"
  },
  "language_info": {
   "name": "python",
   "version": "3.9.12 (main, Apr  5 2022, 06:56:58) \n[GCC 7.5.0]"
  },
  "orig_nbformat": 4,
  "vscode": {
   "interpreter": {
    "hash": "c592ff5847e581e8b66b02dcd331c526c35045e822da212864271a73a90b0063"
   }
  }
 },
 "nbformat": 4,
 "nbformat_minor": 2
}
