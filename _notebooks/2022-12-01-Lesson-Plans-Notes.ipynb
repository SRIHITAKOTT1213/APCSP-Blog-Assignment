{
 "cells": [
  {
   "cell_type": "markdown",
   "metadata": {},
   "source": [
    "# First Jupyter Notebook\n",
    "\n",
    "> Extracting Data \n",
    "\n",
    "- title: Lesson Notes Unit 3\n",
    "- toc: true\n",
    "- comments: true\n",
    "- title: Lesson Notes Unit 3"
   ]
  },
  {
   "cell_type": "markdown",
   "metadata": {},
   "source": [
    "**1.1 and 1.2**\n",
    "- A variable is an abstraction that is in code that holds a value\n",
    "\n",
    "- A variable is like a container with a name (the variable) and whatever you put inside should correspond to that variable to make it easier\n",
    "\n",
    "- College board useless ← instead of = because college board writes in pseudo code\n",
    "\n",
    "- Boolean is when it lists something as true or false\n",
    "\n",
    "- Strings are a series of characters that can either be letters or numbers\n",
    "\n",
    "- Lists are sequences of elements with each element being a variable. An example can be a list of students names\n",
    "\n",
    "- Data Abstraction is taking code and boiling it down to what you see and making it user friendly\n",
    "\n",
    "- To list some variables, you can just print out the list of the variables and the output would be the list of whatever the variables equal\n",
    "\n"
   ]
  },
  {
   "cell_type": "markdown",
   "metadata": {},
   "source": [
    "**Example of a string:** \n",
    "- \"Merry Christmas\" or \"503-777-7777\"\n",
    "\n",
    "**Example of Data Abstraction (The result):**\n",
    "- when using a cell phone, you can figure out how to answer incoming calls and respond to text messages"
   ]
  },
  {
   "cell_type": "markdown",
   "metadata": {},
   "source": [
    "Some of the hacks from this particular topic:\n",
    "![screenshot](https://i.paste.pics/K5VRG.png)"
   ]
  },
  {
   "cell_type": "markdown",
   "metadata": {},
   "source": [
    "This code is an example of why using lists can be useful. You just have to print one variable instead of multiple to get the same result. It also manages complexity and makes a programmers life much simpler."
   ]
  },
  {
   "cell_type": "markdown",
   "metadata": {},
   "source": [
    "**1.3 and 1.4**\n",
    "- Algorithms are basically sequences of code\n",
    "\n",
    "- An iteration is a loop that does something over and over until the certain condition is met\n",
    "\n",
    "- There are also symbols used to calculate math operations. (*) for multiplication, (/) is for division.\n",
    "\n",
    "- An algorithm is a finite set of instructions that accomplish a task\n",
    "\n",
    "- Three are three parts of an algorithm; sequencing, selection, and iteration\n",
    "\n",
    "- Selection allows the algorithm to make decisions based on whether the condition is met\n",
    "\n",
    "- the function len(str) means that it will return the number of letters, or characters in that string. The len stands for length.\n",
    "\n",
    "- a substring gives the length of the entire string. That is the output\n",
    "\n",
    "- the concat funtion is having two strings and addding them together to make one string, or word.\n",
    "\n",
    "- A sequence is code in order of events"
   ]
  },
  {
   "cell_type": "markdown",
   "metadata": {},
   "source": [
    "![screenshot](https://i.paste.pics/K5VT1.png)"
   ]
  },
  {
   "cell_type": "markdown",
   "metadata": {},
   "source": [
    "This is an example of using math expressions. I don't really understand the % symbol, mostly because I don't really know what MOD meant. I think it means remainder. So for this one I have to figuree out what num2 equals and num3 before I proceed to solving for the result. The answer is three."
   ]
  },
  {
   "cell_type": "markdown",
   "metadata": {},
   "source": [
    "**Lesson 5-7**"
   ]
  },
  {
   "cell_type": "markdown",
   "metadata": {},
   "source": [
    "- **Selection:** A selection is a decision or a question. At some point in the program, the computer may need to ask a question because it has reached a point where there are one or more options available\n",
    "\n",
    "- **Algorithm:** It is like a recipe. It is lines of codes that a computer follows to solve a problem\n",
    "\n",
    "- **Condition:** They are basically a decision making statement in code.\n"
   ]
  },
  {
   "cell_type": "markdown",
   "metadata": {},
   "source": [
    "Conditionals example"
   ]
  },
  {
   "cell_type": "code",
   "execution_count": 1,
   "metadata": {},
   "outputs": [
    {
     "name": "stdout",
     "output_type": "stream",
     "text": [
      "Wednesday\n",
      "Monday\n",
      "Friday\n"
     ]
    }
   ],
   "source": [
    "def get_week_day(argument): \n",
    "\n",
    "    if(argument == 0):\n",
    "        day=\"Sunday\"  \n",
    "    elif(argument == 1):\n",
    "        day=\"Monday\"\n",
    "    elif(argument == 2):\n",
    "        day=\"Tuesday\"\n",
    "    elif(argument == 3):\n",
    "        day=\"Wednesday\"\n",
    "    elif(argument == 4):\n",
    "        day=\"Thursday\"\n",
    "    elif(argument == 5):\n",
    "        day=\"Friday\"\n",
    "    elif(argument == 6):\n",
    "        day=\"Saturday\"\n",
    "    else:\n",
    "        day=\"Invalid day\"\n",
    "\n",
    "    return day \n",
    "\n",
    "# Driver program \n",
    "if __name__ == \"__main__\": \n",
    "\t\n",
    "\tprint (get_week_day(3))\n",
    "\tprint (get_week_day(1))\n",
    "\tprint (get_week_day(5))\n"
   ]
  },
  {
   "cell_type": "markdown",
   "metadata": {},
   "source": [
    "**Boolean** - The defention of a Boolean is a denoting a system of algebraic notation used to represent logical propositions, especially in computing and electronics."
   ]
  }
 ],
 "metadata": {
  "kernelspec": {
   "display_name": "Python 3.9.12 ('base')",
   "language": "python",
   "name": "python3"
  },
  "language_info": {
   "codemirror_mode": {
    "name": "ipython",
    "version": 3
   },
   "file_extension": ".py",
   "mimetype": "text/x-python",
   "name": "python",
   "nbconvert_exporter": "python",
   "pygments_lexer": "ipython3",
   "version": "3.9.12"
  },
  "orig_nbformat": 4,
  "vscode": {
   "interpreter": {
    "hash": "c592ff5847e581e8b66b02dcd331c526c35045e822da212864271a73a90b0063"
   }
  }
 },
 "nbformat": 4,
 "nbformat_minor": 2
}
