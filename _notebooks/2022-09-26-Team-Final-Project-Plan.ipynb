{
 "cells": [
  {
   "cell_type": "markdown",
   "metadata": {},
   "source": [
    "# First Jupyter Notebook\n",
    "\n",
    "> Team Final Project Idea\n",
    "\n",
    "- title: Team Project\n",
    "- permalink: /Team/Project\n",
    "- categories: [Projects]\n",
    "- toc: true\n",
    "- comments: true\n",
    "- title: Team Project"
   ]
  },
  {
   "attachments": {},
   "cell_type": "markdown",
   "metadata": {},
   "source": [
    "{% include nav_data7.html %}"
   ]
  },
  {
   "cell_type": "markdown",
   "metadata": {},
   "source": [
    "**Ideas**\n",
    "- Our idea is to make a page where you can find a bunch of games that each one of us has created. We choose what games we want to create and we will put it on a blog for all to see and try!"
   ]
  },
  {
   "cell_type": "markdown",
   "metadata": {},
   "source": [
    "- Now we started to brainstorm what games we could add to our blog. Games that weren't too complicated but also fit all the Collegeboard criteria. \n",
    "- Games such as Snake, Tetris, Pong, etc. \n",
    "- We decided that we would each pick a game to do and that would add up to multiple games."
   ]
  }
 ],
 "metadata": {
  "kernelspec": {
   "display_name": "Python 3.8.10 64-bit",
   "language": "python",
   "name": "python3"
  },
  "language_info": {
   "name": "python",
   "version": "3.8.10"
  },
  "orig_nbformat": 4,
  "vscode": {
   "interpreter": {
    "hash": "916dbcbb3f70747c44a77c7bcd40155683ae19c65e1c03b4aa3499c5328201f1"
   }
  }
 },
 "nbformat": 4,
 "nbformat_minor": 2
}
