{
 "cells": [
  {
   "cell_type": "markdown",
   "metadata": {},
   "source": [
    "# First Jupyter Notebook\n",
    "\n",
    "> Team Final Project Idea\n",
    "\n",
    "- title: Team Project\n",
    "- toc: true\n",
    "- comments: true\n",
    "- title: Team Project"
   ]
  },
  {
   "cell_type": "markdown",
   "metadata": {},
   "source": [
    "**Ideas**\n",
    "- Our idea is to make a page where you can find a bunch of games that each one of us has created. We choose what games we want to create and we will put it on a blog for all to see and try!"
   ]
  },
  {
   "cell_type": "code",
   "execution_count": null,
   "metadata": {
    "vscode": {
     "languageId": "html"
    }
   },
   "outputs": [],
   "source": [
    "<img src=\"https://mail-attachment.googleusercontent.com/attachment/u/0/?ui=2&ik=cdc550927e&attid=0.1&permmsgid=msg-a:r-2034402496175667584&th=18380950ba44d586&view=att&disp=safe&realattid=1838094d1c2cab642521&saddbat=ANGjdJ95_XKezvYj_3Iekj3JGazF32W2b3B6bNa0NzE1oWkdy75Zs46Yc9IxCHESQ-Z_y1lW9mWzeGsegkPABmG17_GLrnI-8Y2llpafu7ttJuB7HqoC-2CrtnIW4_5NDq_CKTQH5uz8AXrNvQHIHZ3jN8rg5V_GFf5OtU21xffsVDuwvPY7QGVUof9h0ddzKNkQKMQXeDSrZZztuLqpuOdPwu112MYksHdx436KJUrpt1m6bE4ljsnQzQsNCROhUxqZEN2ex0Uoy4lWSE9xw4o8kAEwVdNvmLxJJrGsS494AGY5aP2Vqz6Q0CouF-TgDjqjouPdqQgbS3gSvre8QOULSMMJubh6Z0EGuVE3uOyCw5yMLkACXFhEyA18bhyMfTRqwhopHvus8IyqVGEppJDN_kY5idI4FwMLfT0sWuI9hn9WhO5pLCNIvcvksgCMjkt_2Cooy8vHXOp9fw8edalN4H1N8IKqFRP4ANnQr13ATykoCQNtZyX1m8ErR1zH3DXMNgOmPKXV7L90EABn4nIqVz3yp8ndJtgWHTiZinS7uyd5bV8Uqjq5zMvlTLazp8VRsgjyly6f5Tezgp7CcH32nEu5g8LWQDGHBNlbbedQ69GpTVutjmJGCvAWOzHyNfzPLuk8ldV-gP2_Vw0jyl82tlgAnR6AU_Vjvi-ruHQWN-boovPOTCEffgqtvq0MgF9vBNXTEk1vQ9p84p6VcJGsjFVJpgsvcuTK3VoH-mgeHU2le_p9KH0dbMv3l6k\">"
   ]
  }
 ],
 "metadata": {
  "kernelspec": {
   "display_name": "Python 3.9.12 ('base')",
   "language": "python",
   "name": "python3"
  },
  "language_info": {
   "name": "python",
   "version": "3.9.12"
  },
  "orig_nbformat": 4,
  "vscode": {
   "interpreter": {
    "hash": "c592ff5847e581e8b66b02dcd331c526c35045e822da212864271a73a90b0063"
   }
  }
 },
 "nbformat": 4,
 "nbformat_minor": 2
}
