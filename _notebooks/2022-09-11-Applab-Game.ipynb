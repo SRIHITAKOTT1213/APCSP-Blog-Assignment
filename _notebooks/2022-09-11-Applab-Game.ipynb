{
 "cells": [
  {
   "cell_type": "markdown",
   "metadata": {},
   "source": [
    "# First Jupyter Notebook\n",
    "\n",
    "> Want to play?\n",
    "\n",
    "- title: App Lab Game\n",
    "- toc: true\n",
    "- comments: true\n",
    "- title: App Lab Game"
   ]
  },
  {
   "cell_type": "markdown",
   "metadata": {},
   "source": [
    "**About the process:**\n",
    "My goal was to create an app like game and at first it was frustrating. I created this game, kind of like a ping pong game, where you have a ball that goes in all directions, and you have a paddle where it can bounce off of. And there is a coin that you have to try to get, and when you get it, you get a point and the ball moves a little faster and the game continues. I got all of the code to work and the images, but no matter what I did, the paddle and the ball would not move like it was supposed to. Eventually I just left it because there was nothing wrong with my code, but there was nothing I could do to change it. Instead I settled on a quiz about myself and that was pretty easy. Overall I thought being creative was fun and I liked doing this. Although, I hated  the frustration of not getting my game to work."
   ]
  },
  {
   "cell_type": "markdown",
   "metadata": {},
   "source": [
    "- [My Quiz](https://studio.code.org/projects/applab/T532vH_8KnirH8HXz5fc4TgQNOcbOYa0intD1btJQJg/edit)\n",
    "- [My game that did not work](https://studio.code.org/projects/applab/X2w0BKzhDXccGhEPdlKOnNaGb36-8cleqPNxKKp9LXA/edit) and what it should have looked like if it had [worked](https://studio.code.org/projects/applab/9HTvroiKU-6z5gZWaYcenaqqsViR7dAfn6GKGGdgwJo/edit)"
   ]
  }
 ],
 "metadata": {
  "kernelspec": {
   "display_name": "Python 3.8.10 64-bit",
   "language": "python",
   "name": "python3"
  },
  "language_info": {
   "name": "python",
   "version": "3.8.10"
  },
  "orig_nbformat": 4,
  "vscode": {
   "interpreter": {
    "hash": "916dbcbb3f70747c44a77c7bcd40155683ae19c65e1c03b4aa3499c5328201f1"
   }
  }
 },
 "nbformat": 4,
 "nbformat_minor": 2
}
