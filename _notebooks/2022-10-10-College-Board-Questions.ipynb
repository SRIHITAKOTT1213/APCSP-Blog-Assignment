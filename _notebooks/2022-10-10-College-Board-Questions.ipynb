{
 "cells": [
  {
   "cell_type": "markdown",
   "metadata": {},
   "source": [
    "# First Jupyter Notebook\n",
    "\n",
    "> What I did wrong!\n",
    "\n",
    "- title: College Board Questions\n",
    "- permalink: /Collegeboard/Questions\n",
    "- toc: true\n",
    "- comments: true\n",
    "- title: College Board Questions"
   ]
  },
  {
   "cell_type": "markdown",
   "metadata": {},
   "source": [
    "{% include nav_data.html %}"
   ]
  },
  {
   "cell_type": "markdown",
   "metadata": {},
   "source": [
    "- I got some things right, and some things wrong.\n",
    "- The ones that I got right were a little easy for me because it kind of had some math in it. the only thing I had to do was figure out what the program was trying to do and that wasn't so bad\n",
    "- The ones that I got wrong, I guess I didn't understand how it worked. But when I saw the answers I understood why the correct answer was a better answer then what I had picked."
   ]
  }
 ],
 "metadata": {
  "kernelspec": {
   "display_name": "Python 3.9.12 ('base')",
   "language": "python",
   "name": "python3"
  },
  "language_info": {
   "name": "python",
   "version": "3.9.12"
  },
  "orig_nbformat": 4,
  "vscode": {
   "interpreter": {
    "hash": "c592ff5847e581e8b66b02dcd331c526c35045e822da212864271a73a90b0063"
   }
  }
 },
 "nbformat": 4,
 "nbformat_minor": 2
}
