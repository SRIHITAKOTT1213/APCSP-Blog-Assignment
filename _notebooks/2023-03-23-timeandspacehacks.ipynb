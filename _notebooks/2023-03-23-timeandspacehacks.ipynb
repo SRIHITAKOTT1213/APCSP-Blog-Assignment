{
 "cells": [
  {
   "attachments": {},
   "cell_type": "markdown",
   "metadata": {},
   "source": [
    "# First Jupyter Notebook\n",
    "\n",
    "\n",
    "- title: Time and Space Complexity Hacks\n",
    "- toc: true\n",
    "- permalink: /Space/Time\n",
    "- categories: [Other Projects]\n",
    "- comments: true"
   ]
  },
  {
   "attachments": {},
   "cell_type": "markdown",
   "metadata": {},
   "source": [
    "# Notes"
   ]
  },
  {
   "attachments": {},
   "cell_type": "markdown",
   "metadata": {},
   "source": [
    "**Constant O(1)**"
   ]
  },
  {
   "cell_type": "code",
   "execution_count": null,
   "metadata": {},
   "outputs": [],
   "source": [
    "#create a list called numbers with 1,000 numbers in it\n",
    "numbers = list(range(1000))\n",
    "print(numbers)"
   ]
  },
  {
   "attachments": {},
   "cell_type": "markdown",
   "metadata": {},
   "source": [
    "Time:"
   ]
  },
  {
   "cell_type": "code",
   "execution_count": null,
   "metadata": {},
   "outputs": [],
   "source": [
    "#prints the number at index 263\n",
    "print(numbers[263])\n",
    "\n",
    "ncaa_bb_ranks = {1:\"Alabama\",2:\"Houston\", 3:\"Purdue\", 4:\"Kansas\"}\n",
    "#look up a value in a dictionary given a key\n",
    "print(ncaa_bb_ranks[1]) "
   ]
  },
  {
   "attachments": {},
   "cell_type": "markdown",
   "metadata": {},
   "source": [
    "Space:"
   ]
  },
  {
   "cell_type": "code",
   "execution_count": null,
   "metadata": {},
   "outputs": [],
   "source": [
    "#function that takes the sum of two numbers\n",
    "def sum(a, b): \n",
    "  return a + b\n",
    "\n",
    "print(sum(90,88))\n",
    "print(sum(.9,.88))"
   ]
  },
  {
   "attachments": {},
   "cell_type": "markdown",
   "metadata": {},
   "source": [
    "**Linear O(n)**"
   ]
  },
  {
   "attachments": {},
   "cell_type": "markdown",
   "metadata": {},
   "source": [
    "Time:"
   ]
  },
  {
   "cell_type": "code",
   "execution_count": null,
   "metadata": {},
   "outputs": [],
   "source": [
    "#Iterates through the numbers list \n",
    "for i in numbers:\n",
    "    print(i)"
   ]
  },
  {
   "attachments": {},
   "cell_type": "markdown",
   "metadata": {},
   "source": [
    "Space:"
   ]
  },
  {
   "cell_type": "code",
   "execution_count": null,
   "metadata": {},
   "outputs": [],
   "source": [
    "def reverse_list(arr):\n",
    "    n = len(arr) \n",
    "    reversed_arr = [None] * n #create a list of None based on the length or arr\n",
    "    for i in range(n):\n",
    "        reversed_arr[n-i-1] = arr[i] #stores the value at the index of arr to the value at the index of reversed_arr starting at the beginning for arr and end for reversed_arr \n",
    "    return reversed_arr\n",
    "\n",
    "print(numbers)\n",
    "print(reverse_list(numbers))"
   ]
  },
  {
   "attachments": {},
   "cell_type": "markdown",
   "metadata": {},
   "source": [
    "**Quadratic O(n^2)**"
   ]
  },
  {
   "attachments": {},
   "cell_type": "markdown",
   "metadata": {},
   "source": [
    "Time:"
   ]
  },
  {
   "cell_type": "code",
   "execution_count": null,
   "metadata": {},
   "outputs": [],
   "source": [
    "#Iterates through the list twice creating a nested loop\n",
    "for i in numbers:\n",
    "    for j in numbers:\n",
    "        print(i,j)"
   ]
  },
  {
   "attachments": {},
   "cell_type": "markdown",
   "metadata": {},
   "source": [
    "Space:"
   ]
  },
  {
   "cell_type": "code",
   "execution_count": null,
   "metadata": {},
   "outputs": [],
   "source": [
    "def multiply_matrices(matrix1, matrix2):\n",
    "    m = len(matrix1) \n",
    "    n = len(matrix2[0])\n",
    "    result = [[0] * n] * m #this creates the new matrix based on the size of matrix 1 and 2\n",
    "    for i in range(m):\n",
    "        for j in range(n):\n",
    "            for k in range(len(matrix2)):\n",
    "                result[i][j] += matrix1[i][k] * matrix2[k][j]\n",
    "    return result\n",
    "\n",
    "print(multiply_matrices([[1,2],[3,4]], [[3,4],[1,2]]))"
   ]
  },
  {
   "attachments": {},
   "cell_type": "markdown",
   "metadata": {},
   "source": [
    "**Logarithmic O(logn)**"
   ]
  },
  {
   "attachments": {},
   "cell_type": "markdown",
   "metadata": {},
   "source": [
    "Time:"
   ]
  },
  {
   "cell_type": "code",
   "execution_count": null,
   "metadata": {},
   "outputs": [],
   "source": [
    "#function used to search for a target using a binary search\n",
    "def binary_search(arr, low, high, target):\n",
    "    while low <= high:\n",
    "        mid = (low + high) // 2 #integer division\n",
    "        if arr[mid] == target:\n",
    "            return mid\n",
    "        elif arr[mid] < target:\n",
    "            low = mid + 1\n",
    "        else:\n",
    "            high = mid - 1\n",
    "\n",
    "target = 263\n",
    "result = binary_search(numbers, 0, len(numbers) - 1, target)\n",
    "\n",
    "print(result)"
   ]
  },
  {
   "attachments": {},
   "cell_type": "markdown",
   "metadata": {},
   "source": [
    "**Exponential O(2^n)**"
   ]
  },
  {
   "attachments": {},
   "cell_type": "markdown",
   "metadata": {},
   "source": [
    "Time:"
   ]
  },
  {
   "cell_type": "code",
   "execution_count": null,
   "metadata": {},
   "outputs": [],
   "source": [
    "#recrursive function to calculate the fibonacci number at n\n",
    "def fibonacci(n):\n",
    "    if n <= 1:\n",
    "        return n\n",
    "    else:\n",
    "        return fibonacci(n-1) + fibonacci(n-2)\n",
    "\n",
    "#print(fibonacci(5))\n",
    "#print(fibonacci(10))\n",
    "#print(fibonacci(20))\n",
    "#print(fibonacci(30))\n",
    "print(fibonacci(40))"
   ]
  },
  {
   "attachments": {},
   "cell_type": "markdown",
   "metadata": {},
   "source": [
    "Space:"
   ]
  },
  {
   "cell_type": "code",
   "execution_count": null,
   "metadata": {},
   "outputs": [],
   "source": [
    "def generate_subsets(s):\n",
    "    if not s:\n",
    "        return [[]]\n",
    "    subsets = generate_subsets(s[1:])\n",
    "    return [[s[0]] + subset for subset in subsets] + subsets\n",
    "\n",
    "print(generate_subsets([1,2,3,4,5,6]))\n",
    "#print(generate_subsets(numbers))"
   ]
  },
  {
   "attachments": {},
   "cell_type": "markdown",
   "metadata": {},
   "source": [
    "# Hacks\n",
    "- **Record your findings when testing the time elapsed of the different algorithms.**\n",
    "\n",
    "    - **Images:** when running the image that is only basewidth 5000, it takes 0.8 seconds to generate the image. But as I increase the basewidth, it takes longer for my computer to generate the image. For example, my computer took 7.9 seconds to generate an image with a basewidth 20000.\n",
    "\n",
    "- **Although we will go more in depth later, time complexity is a key concept that relates to the different sorting algorithms. Do some basic research on the different types of sorting algorithms and their time complexity.**\n",
    "\n",
    "    - Time complexity I think is compressing the data so that the program runs faster. If the program is too slow, then it might not execute properly. For me, when I tried running the largest image file in the line of code, 40000, it not only took a really long time to run, but once it was done, the image didn't show up. I ran it another time and it crashed my vscode and I had to restart my computer to get it working normally again.\n",
    "\n",
    "- **Why is time and space complexity important when choosing an algorithm?**\n",
    "\n",
    "    - I think it's important because it can effect how fast or how well the program runs. If there is not enough space then the program might stop short because there is not enough space for the algorithm to run completely. As with the previous question, if it takes a very long time, then the program might fail as well.\n",
    "\n",
    "- **Should you always use a constant time algorithm / Should you never use an exponential time algorithm? Explain?**\n",
    "\n",
    "    - For both constant and exponential time, there are certain programs that need different types of time algorithms and not one works for all. Constant is used to access specific elements in an array whereas exponential is exponential uses a nested loop.\n",
    "\n",
    "- **What are some general patterns that you noticed to determine each algorithm's time and space complexity?**\n",
    "\n",
    "    - The more complex the algorithms get, the more time it takes for the algorithm to run. Instead of just adding two numbers together, if you did a binary search or multiplying matrices, that would take longer."
   ]
  },
  {
   "attachments": {},
   "cell_type": "markdown",
   "metadata": {},
   "source": [
    "**PRACTICE PROBLEMS:**"
   ]
  },
  {
   "attachments": {},
   "cell_type": "markdown",
   "metadata": {},
   "source": [
    "**1. What is the time, and space complexity of the following code:**\n",
    "\n",
    "a = 0\n",
    "b = 0\n",
    "for i in range(N):\n",
    "  a = a + random()\n",
    " \n",
    "for i in range(M):\n",
    "  b= b + random()\n",
    "\n",
    "1. O(N * M) time, O(1) space\n",
    "2. O(N + M) time, O(N + M) space\n",
    "3. O(N + M) time, O(1) space\n",
    "4. O(N * M) time, O(N + M) space\n",
    "\n",
    "Number 3 because In the code the it looks like there are some variables being added together. I am not too sure about the space part."
   ]
  },
  {
   "attachments": {},
   "cell_type": "markdown",
   "metadata": {},
   "source": [
    "**2. What is the time complexity of the following code:**\n",
    "\n",
    "a = 0;\n",
    "for i in range(N):\n",
    "  for j in reversed(range(i,N)):\n",
    "    a = a + i + j;\n",
    "\n",
    "1. O(N)\n",
    "2. O(N*log(N))\n",
    "3. O(N * Sqrt(N))\n",
    "4. O(N*N)\n",
    "\n",
    "I'm not quite sure about this one? I thought it was number 1 because it has the reverse function in it but it is numebr 4 and I'm not sure why."
   ]
  },
  {
   "attachments": {},
   "cell_type": "markdown",
   "metadata": {},
   "source": [
    "**3. What is the time complexity of the following code:**\n",
    "\n",
    "k = 0;\n",
    "for i in range(n//2,n):\n",
    "  for j in range(2,n,pow(2,j)):\n",
    "        k = k + n / 2;\n",
    "\n",
    "1. O(n)\n",
    "2. O(N log N)\n",
    "3. O(n^2)\n",
    "4. O(n^2Logn)\n",
    "\n",
    "The answer is 2 because j keeps doubling."
   ]
  },
  {
   "attachments": {},
   "cell_type": "markdown",
   "metadata": {},
   "source": [
    "**4. What does it mean when we say that an algorithm X is asymptotically more efficient than Y?**\n",
    "\n",
    "1. X will always be a better choice for small inputs\n",
    "2. X will always be a better choice for large inputs\n",
    "3. Y will always be a better choice for small inputs\n",
    "4. X will always be a better choice for all inputs\n",
    "\n",
    "The answer is 2 because it makes sense that if X is more efficient than Y, then it will be better at handling the large inputs than Y, so it would be a better choice."
   ]
  }
 ],
 "metadata": {
  "kernelspec": {
   "display_name": "base",
   "language": "python",
   "name": "python3"
  },
  "language_info": {
   "codemirror_mode": {
    "name": "ipython",
    "version": 3
   },
   "file_extension": ".py",
   "mimetype": "text/x-python",
   "name": "python",
   "nbconvert_exporter": "python",
   "pygments_lexer": "ipython3",
   "version": "3.9.12"
  },
  "orig_nbformat": 4
 },
 "nbformat": 4,
 "nbformat_minor": 2
}
