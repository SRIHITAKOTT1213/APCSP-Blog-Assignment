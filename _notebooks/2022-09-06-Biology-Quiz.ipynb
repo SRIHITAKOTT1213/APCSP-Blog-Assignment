{
 "cells": [
  {
   "cell_type": "markdown",
   "metadata": {},
   "source": [
    "# First Jupyter Notebook\n",
    "\n",
    "> Let's see how well you do!\n",
    "\n",
    "- title: Biology Quiz\n",
    "- permalink: /Biology/Quiz\n",
    "- categories: [Python]\n",
    "- toc: true\n",
    "- comments: true\n",
    "- title: Biology Quiz\n",
    "- image: /images/2022-09-06.png\n"
   ]
  },
  {
   "cell_type": "markdown",
   "metadata": {},
   "source": [
    "{% include nav_frontend.html %}"
   ]
  },
  {
   "cell_type": "code",
   "execution_count": 1,
   "metadata": {},
   "outputs": [
    {
     "name": "stdout",
     "output_type": "stream",
     "text": [
      "Hello,srihitak\n",
      "You will be asked 10 questions. \n",
      "Question: Are you ready to take the Quiz?\n",
      "yes is correct!\n",
      "Question: What are nitrogenous bases in DNA?\n",
      "thymine is incorrect\n",
      "The correct answer is Adenine, Guanine, Cytosine, Thymine\n",
      "Question: What does DNA stand for?\n",
      "Deoyribonucleic Acid is incorrect\n",
      "The correct answer is Deoxyribonucleic Acid\n",
      "Question: Who was the person who came up with the theory of Evolution?\n",
      "Charles Darwin is correct!\n",
      "Question: In what cell does photosynthesis take place?\n",
      "Chloroplast is correct!\n",
      "Question: What is the name of the relationship in which both sides benefit?\n",
      "Mutualism is correct!\n",
      "Question: Glycogen is a polymer of what?\n",
      "Glycogen is incorrect\n",
      "The correct answer is Glucose\n",
      "Question: How many chromosomes do humans have?\n",
      "46 is correct!\n",
      "Question: What are the weak bonds between water molecules called?\n",
      "Hydrogen bonds is correct!\n",
      "Question: What is the division of body cells called?\n",
      "Mitosis is correct!\n",
      "Question: What is the division of gametes called?\n",
      "Meiosis is correct!\n",
      "srihitak you scored 8/10\n"
     ]
    }
   ],
   "source": [
    "\n",
    "def question_and_answer(prompt):\n",
    "\n",
    "    print(\"Question: \" + prompt)\n",
    "    msg = input()\n",
    "    print(\"Answer: \" + msg)\n",
    "\n",
    "\n",
    "import getpass, sys\n",
    "\n",
    "def question_with_response(prompt):\n",
    "    print(\"Question: \" + prompt)\n",
    "    msg = input()\n",
    "    return msg\n",
    "\n",
    "questions = 10\n",
    "correct = 0\n",
    "\n",
    "print('Hello,' + getpass.getuser())\n",
    "print(\"You will be asked \" + str(questions) +\" questions. \")\n",
    "\n",
    "\n",
    "questions = [\"Are you ready to take the Quiz?\", \"What are nitrogenous bases in DNA?\", \"What does DNA stand for?\", \"Who was the person who came up with the theory of Evolution?\",\"In what cell does photosynthesis take place?\", \"What is the name of the relationship in which both sides benefit?\", \"Glycogen is a polymer of what?\", \"How many chromosomes do humans have?\", \"What are the weak bonds between water molecules called?\", \"What is the division of body cells called?\", \"What is the division of gametes called?\"]\n",
    "answers = [\"yes\", \"Adenine, Guanine, Cytosine, Thymine\", \"Deoxyribonucleic Acid\", \"Charles Darwin\",\"Chloroplast\", \"Mutualism\", \"Glucose\", \"46\", \"Hydrogen bonds\", \"Mitosis\", \"Meiosis\"]\n",
    "\n",
    "for i in range(len(questions)):\n",
    "    rsp = question_with_response(questions[i])\n",
    "    if rsp == answers[i]:\n",
    "       print(rsp + \" is correct!\")\n",
    "\n",
    "       correct += 1\n",
    "\n",
    "    else:\n",
    "       print(rsp + \" is incorrect\")\n",
    "       print(\"The correct answer is \" + answers[i])\n",
    "\n",
    "print(getpass.getuser() + \" you scored \" + str(correct) +\"/10\")"
   ]
  }
 ],
 "metadata": {
  "kernelspec": {
   "display_name": "Python 3.8.10 64-bit",
   "language": "python",
   "name": "python3"
  },
  "language_info": {
   "codemirror_mode": {
    "name": "ipython",
    "version": 3
   },
   "file_extension": ".py",
   "mimetype": "text/x-python",
   "name": "python",
   "nbconvert_exporter": "python",
   "pygments_lexer": "ipython3",
   "version": "3.8.10"
  },
  "orig_nbformat": 4,
  "vscode": {
   "interpreter": {
    "hash": "916dbcbb3f70747c44a77c7bcd40155683ae19c65e1c03b4aa3499c5328201f1"
   }
  }
 },
 "nbformat": 4,
 "nbformat_minor": 2
}
