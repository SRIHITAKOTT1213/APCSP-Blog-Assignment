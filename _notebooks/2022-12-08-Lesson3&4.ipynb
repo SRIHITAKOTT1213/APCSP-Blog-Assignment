{
 "cells": [
  {
   "attachments": {},
   "cell_type": "markdown",
   "metadata": {},
   "source": [
    "# First Jupyter Notebook\n",
    "\n",
    "> Extracting Data \n",
    "\n",
    "- title: Lesson Notes 3.3 and 3.4\n",
    "- categories: [Lesson 3.3-3.4]\n",
    "- toc: true\n",
    "- comments: true\n",
    "- title: Lesson Notes 3.3 and 3.4"
   ]
  },
  {
   "attachments": {},
   "cell_type": "markdown",
   "metadata": {},
   "source": [
    "**1.3 and 1.4**\n",
    "- Algorithms are basically sequences of code\n",
    "\n",
    "- An iteration is a loop that does something over and over until the certain condition is met\n",
    "\n",
    "- There are also symbols used to calculate math operations. (*) for multiplication, (/) is for division.\n",
    "\n",
    "- An algorithm is a finite set of instructions that accomplish a task\n",
    "\n",
    "- Three are three parts of an algorithm; sequencing, selection, and iteration\n",
    "\n",
    "- Selection allows the algorithm to make decisions based on whether the condition is met\n",
    "\n",
    "- the function len(str) means that it will return the number of letters, or characters in that string. The len stands for length.\n",
    "\n",
    "- a substring gives the length of the entire string. That is the output\n",
    "\n",
    "- the concat funtion is having two strings and addding them together to make one string, or word.\n",
    "\n",
    "- A sequence is code in order of events"
   ]
  },
  {
   "attachments": {},
   "cell_type": "markdown",
   "metadata": {},
   "source": [
    "![screenshot](https://i.paste.pics/K5VT1.png)"
   ]
  },
  {
   "attachments": {},
   "cell_type": "markdown",
   "metadata": {},
   "source": [
    "This is an example of using math expressions. I don't really understand the % symbol, mostly because I don't really know what MOD meant. I think it means remainder. So for this one I have to figuree out what num2 equals and num3 before I proceed to solving for the result. The answer is three."
   ]
  }
 ],
 "metadata": {
  "kernelspec": {
   "display_name": "Python 3.9.12 ('base')",
   "language": "python",
   "name": "python3"
  },
  "language_info": {
   "name": "python",
   "version": "3.9.12 (main, Apr  5 2022, 06:56:58) \n[GCC 7.5.0]"
  },
  "orig_nbformat": 4,
  "vscode": {
   "interpreter": {
    "hash": "c592ff5847e581e8b66b02dcd331c526c35045e822da212864271a73a90b0063"
   }
  }
 },
 "nbformat": 4,
 "nbformat_minor": 2
}
