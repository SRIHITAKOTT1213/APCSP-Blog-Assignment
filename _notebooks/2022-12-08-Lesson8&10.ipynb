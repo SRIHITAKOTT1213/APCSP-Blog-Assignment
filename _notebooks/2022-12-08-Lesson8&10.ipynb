{
 "cells": [
  {
   "attachments": {},
   "cell_type": "markdown",
   "metadata": {},
   "source": [
    "# First Jupyter Notebook\n",
    "\n",
    "> Extracting Data \n",
    "\n",
    "- title: Lesson Notes 3.8 and 3.10\n",
    "- categories: [3.8,3.10]\n",
    "- toc: true\n",
    "- comments: true\n",
    "- title: Lesson Notes 3.8 and 3.10"
   ]
  },
  {
   "cell_type": "code",
   "execution_count": 1,
   "metadata": {},
   "outputs": [
    {
     "name": "stdout",
     "output_type": "stream",
     "text": [
      "1\n",
      "2\n",
      "3\n",
      "4\n"
     ]
    }
   ],
   "source": [
    "iterable = [1, 2, 3, 4]\n",
    "\n",
    "for num in iterable:\n",
    "    print(num)"
   ]
  },
  {
   "attachments": {},
   "cell_type": "markdown",
   "metadata": {},
   "source": [
    "The code above is an example of iteration, which is basically going over and over until the condition is met, then it stops. Or in this case it spits out everything that is in that list in order, and then stops"
   ]
  },
  {
   "attachments": {},
   "cell_type": "markdown",
   "metadata": {},
   "source": [
    "**procedures and Procedure calls**\n",
    "- It takes zero or more arguments\n",
    "\n",
    "- The procedures in college board are block statements\n",
    "\n",
    "- The return statemen may appear at any point inside the procedure and causes an immediate retrn from the procedure back to the calling statement\n",
    "\n",
    "**Robot**\n",
    "- It basically gives directions to move left or right. Or rotate it 90 degrees or something like that. Then I think it is kind of like the turtle function where you can actually see a figure moving to those commands\n",
    "\n",
    "**Listing Operations**\n",
    "- there are several ways that you can list things:\n",
    "\n",
    "- [value1, value2, value3]\n",
    "\n",
    "- there are a few more ways to do a list but the one above is the most common way to do it.\n",
    "\n",
    "**Relational and Boolean Operators**\n",
    "- It evaluates true if the condition is false; otherwise evaluates to false\n",
    "\n",
    "- Boolean are true and false statements\n",
    "\n",
    "- the AND and OR statements compare the two conditions and that is a boolean statement because it is a true or false comparison type of statement."
   ]
  },
  {
   "attachments": {},
   "cell_type": "markdown",
   "metadata": {},
   "source": [
    "- Iteration: a repeating portion of an algorithm, repeats a specified number of times or until a given condition is met\n",
    "\n",
    "- Iteration Statements: change the sequential flow of control by repeating a set of statements zero or more times, until a stopping condition is met\n",
    "\n",
    "- Repeat Until: if the condition evaluates to true initially, the loop body is not executed at all, due to the condition being checked before the loop"
   ]
  },
  {
   "attachments": {},
   "cell_type": "markdown",
   "metadata": {},
   "source": [
    "**Lists examples:**"
   ]
  },
  {
   "attachments": {},
   "cell_type": "markdown",
   "metadata": {},
   "source": [
    "append() - adding element to the end of the list"
   ]
  },
  {
   "cell_type": "code",
   "execution_count": 2,
   "metadata": {},
   "outputs": [],
   "source": [
    "names = ['taiyo', 'ethan', 'parav', 'nikhil']\n",
    "# add element to the end of the list\n",
    "names.append('luna')\n",
    "# start with empty list\n",
    "names = []\n",
    "names.append('taiyo')\n",
    "names.append('ethan')\n",
    "names.append('parav')\n",
    "names. append('nikhil')"
   ]
  },
  {
   "attachments": {},
   "cell_type": "markdown",
   "metadata": {},
   "source": [
    "insert() - adding an element in a specific position"
   ]
  },
  {
   "cell_type": "code",
   "execution_count": 4,
   "metadata": {},
   "outputs": [],
   "source": [
    "names = ['luna', 'taiyo', 'ethan', 'parav', 'nikhil']\n",
    "# adding in a specific position\n",
    "names.insert(0, 'taiyo')\n",
    "names.insert(3, 'ethan')"
   ]
  },
  {
   "attachments": {},
   "cell_type": "markdown",
   "metadata": {},
   "source": [
    "remove() - remove an item from the list"
   ]
  },
  {
   "cell_type": "code",
   "execution_count": 9,
   "metadata": {},
   "outputs": [],
   "source": [
    "names = ['luna', 'taiyo', 'ethan', 'parav', 'nikhil']\n",
    "# deleting by value\n",
    "names.remove('parav')\n",
    "# by position\n",
    "del names[-1]"
   ]
  },
  {
   "attachments": {},
   "cell_type": "markdown",
   "metadata": {},
   "source": [
    "pop() - takes the item off the top of the \"stack\" (by default it returns the last element of the list but you can also pop from any position)"
   ]
  },
  {
   "cell_type": "code",
   "execution_count": 8,
   "metadata": {},
   "outputs": [
    {
     "name": "stdout",
     "output_type": "stream",
     "text": [
      "nikhil\n",
      "luna\n"
     ]
    }
   ],
   "source": [
    "names = ['luna', 'taiyo', 'ethan', 'parav', 'nikhil']\n",
    "# pop last item of list\n",
    "most_recent_name = names.pop()\n",
    "print(most_recent_name)\n",
    "# pop first item of list\n",
    "first_name = names.pop(0)\n",
    "print(first_name)"
   ]
  },
  {
   "attachments": {},
   "cell_type": "markdown",
   "metadata": {},
   "source": [
    "len() - returns the number of items in a list"
   ]
  },
  {
   "cell_type": "code",
   "execution_count": 7,
   "metadata": {},
   "outputs": [
    {
     "name": "stdout",
     "output_type": "stream",
     "text": [
      "There are 5 names.\n"
     ]
    }
   ],
   "source": [
    "names = ['luna', 'taiyo', 'ethan', 'parav', 'nikhil']\n",
    "# find length of list\n",
    "num_names = len(names)\n",
    "print(\"There are \" + str(num_names) + \" names.\")"
   ]
  },
  {
   "attachments": {},
   "cell_type": "markdown",
   "metadata": {},
   "source": [
    "sorted() - returns a copy of the list which leaves the original copy unchanged"
   ]
  },
  {
   "cell_type": "code",
   "execution_count": 10,
   "metadata": {},
   "outputs": [
    {
     "name": "stdout",
     "output_type": "stream",
     "text": [
      "['ethan', 'luna', 'nikhil', 'parav', 'taiyo']\n",
      "['taiyo', 'parav', 'nikhil', 'luna', 'ethan']\n"
     ]
    }
   ],
   "source": [
    "names = ['luna', 'taiyo', 'ethan', 'parav', 'nikhil']\n",
    "# sort permanently\n",
    "names.sort()\n",
    "# sort permanently in reverse alphabetical order\n",
    "names.sort(reverse=True)\n",
    "# temp. sort\n",
    "print(sorted(names))\n",
    "print(sorted(names, reverse=True))\n",
    "# reversing the order of a list\n",
    "names.reverse()"
   ]
  },
  {
   "attachments": {},
   "cell_type": "markdown",
   "metadata": {},
   "source": [
    "range() - use to work with number efficiently"
   ]
  },
  {
   "cell_type": "code",
   "execution_count": 11,
   "metadata": {},
   "outputs": [
    {
     "name": "stdout",
     "output_type": "stream",
     "text": [
      "0\n",
      "1\n",
      "2\n",
      "3\n",
      "4\n",
      "5\n",
      "6\n",
      "7\n",
      "8\n",
      "9\n",
      "10\n"
     ]
    }
   ],
   "source": [
    "# print numbers 0 to 10\n",
    "for number in range(11):\n",
    "    print(number)\n",
    "# making list of numbers 1 to 10\n",
    "# using the list() value can generate a large list of numbers\n",
    "numbers = list(range(1, 10))"
   ]
  },
  {
   "attachments": {},
   "cell_type": "markdown",
   "metadata": {},
   "source": [
    "min() - find the least value in list"
   ]
  },
  {
   "cell_type": "code",
   "execution_count": 12,
   "metadata": {},
   "outputs": [
    {
     "name": "stdout",
     "output_type": "stream",
     "text": [
      "10\n"
     ]
    }
   ],
   "source": [
    "nums = [10, 30, 40, 60, 70, 60]\n",
    "least = min(nums)\n",
    "print(min(nums))"
   ]
  },
  {
   "attachments": {},
   "cell_type": "markdown",
   "metadata": {},
   "source": [
    "max() - find the highest value in list"
   ]
  },
  {
   "cell_type": "code",
   "execution_count": 13,
   "metadata": {},
   "outputs": [
    {
     "name": "stdout",
     "output_type": "stream",
     "text": [
      "70\n"
     ]
    }
   ],
   "source": [
    "nums = [10, 30, 40, 60, 70, 60]\n",
    "highest = max(nums)\n",
    "print(max(nums))"
   ]
  },
  {
   "attachments": {},
   "cell_type": "markdown",
   "metadata": {},
   "source": [
    "sum() - sum of all in list"
   ]
  },
  {
   "cell_type": "code",
   "execution_count": 14,
   "metadata": {},
   "outputs": [
    {
     "name": "stdout",
     "output_type": "stream",
     "text": [
      "270\n"
     ]
    }
   ],
   "source": [
    "nums = [10, 30, 40, 60, 70, 60]\n",
    "total = sum(nums)\n",
    "print(sum(nums))"
   ]
  }
 ],
 "metadata": {
  "kernelspec": {
   "display_name": "Python 3.9.12 ('base')",
   "language": "python",
   "name": "python3"
  },
  "language_info": {
   "codemirror_mode": {
    "name": "ipython",
    "version": 3
   },
   "file_extension": ".py",
   "mimetype": "text/x-python",
   "name": "python",
   "nbconvert_exporter": "python",
   "pygments_lexer": "ipython3",
   "version": "3.9.12"
  },
  "orig_nbformat": 4,
  "vscode": {
   "interpreter": {
    "hash": "c592ff5847e581e8b66b02dcd331c526c35045e822da212864271a73a90b0063"
   }
  }
 },
 "nbformat": 4,
 "nbformat_minor": 2
}
