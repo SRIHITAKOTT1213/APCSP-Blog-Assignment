{
 "cells": [
  {
   "attachments": {},
   "cell_type": "markdown",
   "metadata": {},
   "source": [
    "# First Jupyter Notebook\n",
    "\n",
    "\n",
    "- title: Test # 5 Reflection\n",
    "- toc: true\n",
    "- permalink: /test5/corrections\n",
    "- categories: [Other Projects]\n",
    "- comments: true"
   ]
  },
  {
   "attachments": {},
   "cell_type": "markdown",
   "metadata": {},
   "source": [
    "I didn't do as well as I thought I did but I did do better then my normal score so I think I am definetly improving. There are a few questions that I had genuine doubts on because I had no idea what the questions were asking, but the ones that I got wrong, I can see how I got those questions wrong and I am sure that once I review all of the college board videos and then once I have all of the information then it shouldn't be too bad. The questions I get wrong the most are the questions about certain terminology that I don't know like phising, I know that, but there was another question about a term I didn't know and I tried searching it up but that didn't do me any good so I had to guess. Another reason I might have gotten a lot wrong is because I was sort of rushing through some of it and checking the time frequently because I wasn't proffesionally keeping track of the time when doing this practice test and I got restless after a while of doing the practice questions so that is something I have to work on. "
   ]
  }
 ],
 "metadata": {
  "language_info": {
   "name": "python"
  },
  "orig_nbformat": 4
 },
 "nbformat": 4,
 "nbformat_minor": 2
}
