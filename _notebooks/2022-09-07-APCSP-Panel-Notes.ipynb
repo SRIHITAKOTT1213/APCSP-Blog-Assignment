{
 "cells": [
  {
   "cell_type": "markdown",
   "metadata": {},
   "source": [
    "# First Jupyter Notebook\n",
    "\n",
    "> Extra Credit!\n",
    "\n",
    "- title: APCSP Panel Notes\n",
    "- permalink: /APCSP/Panelnotes\n",
    "- toc: true\n",
    "- comments: true\n",
    "- title: APCSP Panel Notes"
   ]
  },
  {
   "cell_type": "markdown",
   "metadata": {},
   "source": [
    "Notes:\n",
    "**How did you realize you wanted to do computers?**\n",
    "- A few of the people said that they took it because they liked problem solving, others said thhey liked it because they were good at it, and one more said she didn't like it but it was useful for many things and doing a few internships solidified her choice.\n",
    "\n",
    "**What is the biggest challenge you've encountered in computers?**\n",
    "- Starting sucks\n",
    "- There is a solution to everything and you just have to have enough patience\n",
    "- It is hard finding motivation to continue\n",
    "- Fighting the temptation to copy work just to get over it\n",
    "- always getting a syntax error is super frustrating and hard\n",
    "\n",
    "**Are there any PBL scenarios in college computer science classes?**\n",
    "- There are a few projects, one that you do in Freshman year and another you do in Senior year.\n",
    "- Both in class and out of class, a lot of people study in groups and work with other people to learn better because the Professor has too many students and won't always be able to answer your questions.\n",
    "- Finding a good group is important because you rely on them to learn\n",
    "\n",
    "**Have you applied CS in your major?**\n",
    "- Coding will be everywhere and it can be used for pretty much anything\n",
    "- It can be used for all of your assignments and is really useful\n",
    "- What we are now learning is applicable to pretty much everything\n",
    "\n",
    "**For existing college students, have you had a job for school or with a professor?**\n",
    "- They recommend resumes\n",
    "- Doing internships and jobs\n",
    "- Some professors have clubs and others have research labs, and you can ask if there is a spot available and join\n",
    "- There are path finding algorithms everywhere\n",
    "\n",
    "**KEY TAKEAWAYS:**\n",
    " Computer Science can be used for anything and coding is used for everything so it is an important skill to learn. There are also many jobs that use the things/tools that we are learning in class so the more we learn, the more we can put it to use. And yes, computers can be frustrating, but they are worth the hardwork and patience and when you get through it, the output is most of the time rewarding. So this class is important and it is important to always try our best and learn as much as possible."
   ]
  }
 ],
 "metadata": {
  "kernelspec": {
   "display_name": "Python 3.8.10 64-bit",
   "language": "python",
   "name": "python3"
  },
  "language_info": {
   "name": "python",
   "version": "3.8.10"
  },
  "orig_nbformat": 4,
  "vscode": {
   "interpreter": {
    "hash": "916dbcbb3f70747c44a77c7bcd40155683ae19c65e1c03b4aa3499c5328201f1"
   }
  }
 },
 "nbformat": 4,
 "nbformat_minor": 2
}
