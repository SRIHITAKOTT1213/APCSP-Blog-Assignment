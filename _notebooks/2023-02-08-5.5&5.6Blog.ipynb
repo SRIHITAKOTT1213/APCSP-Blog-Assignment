{
 "cells": [
  {
   "attachments": {},
   "cell_type": "markdown",
   "metadata": {},
   "source": [
    "# First Jupyter Notebook\n",
    "\n",
    "\n",
    "- title: 5.5 and 5.6 Notes\n",
    "- categories: [Unit 5]\n",
    "- toc: true\n",
    "- comments: true"
   ]
  },
  {
   "attachments": {},
   "cell_type": "markdown",
   "metadata": {},
   "source": [
    "## 5.5 Notes:\n",
    "- Any closed source system you usually have to pay for. Open source is free.\n",
    "\n",
    "- if you use someone elses code, then you can't use it.\n",
    "\n",
    "- using someone elses code can be used as a learning tool such as linux and ubuntu\n",
    "\n",
    "- GPL liscense is about community whereas closed sources is more of a capitalism and making money\n",
    "\n",
    "- Greatest lie on the internet is \"I agree\" to the t erms and conditions\n",
    "\n",
    "- people participate in digital rights on their phones\n",
    "\n",
    "- all the terms and conditions we agree to are apart of the digital rights\n",
    "\n",
    "- Apple patent the app store and took it away from the earliest appstore which was made by Qualcomm\n",
    "\n",
    "- we violate music, which is a digital right\n"
   ]
  },
  {
   "attachments": {},
   "cell_type": "markdown",
   "metadata": {},
   "source": [
    "## 5.6 Notes:\n",
    "- never ride a skateboard while computing :)\n",
    "\n",
    "- Malware can damage your computer as well as steal your information and selling it to others\n",
    "\n",
    "- Phishing is where unknown sources try to make you click something that you should NEVER click\n",
    "\n",
    "- 2FA (2 factor authentication) to access your account is good to verify whether it is you who is logging in\n",
    "\n",
    "- Asymmetric Cryptography means that you use two keys, a public one and a private one, encrypt and decrypt data\n",
    "\n",
    "- Symmetric uses one key to encrypt and decrypt data\n"
   ]
  },
  {
   "attachments": {},
   "cell_type": "markdown",
   "metadata": {},
   "source": [
    "## Hacks:\n",
    "**5.5 Hacks:**\n",
    "1. **When you create a GitHub repository it requests a license type. Review the license types in relationship to this Tech Talk and make some notes in your personal blog.**\n",
    "Done\n",
    "\n",
    "2. **In your blog, summarize the discussions and personal analysis on Software Licenses/Options, Digital Rights, and other Legal and Ethical thoughts from this College Board topic.**\n",
    "- You can use other peoples code and build off of it but you can't sell it or profit off of it because its not your own. And If you have your own code then you can profit off of it. Usually you have to pay for closed sources and open sources are free and you are a part of a community when you use open sources.\n",
    "\n",
    "3. **Make a license for your personal (blog) and Team repositories for the CPT project. Be sure to have a license for both Team GitHub repositories (frontend/backend). Document license(s) you picked and why. FYI, frontend, since it is built on GitHub pages may come with a license and restrictions. Document in blog how team made license choice and process of update.**\n",
    "- this is for Fitness for baddies:\n",
    "![screenshot](https://i.paste.pics/fedc74a3e5c263d2a7283f00e3209dc0.png)\n",
    "\n",
    "\n"
   ]
  },
  {
   "attachments": {},
   "cell_type": "markdown",
   "metadata": {},
   "source": [
    "**5.6 Hacks:**\n",
    "1. **Describe PII you have seen on project in CompSci Principles.**\n",
    "- In computer science we have been working on a login which has you put your name and email to sign in. We also have forms for each of out pages which asks what the users name is, what workout they did, what the date is, what grade they have (or will get), etc.\n",
    "\n",
    "2. **What are your feelings about PII and your personal exposure?**\n",
    "- I think that PII's are a good thing because that way all of our information is protected and other people won't be able to see it. Things like bank accounts and credit card numbers need to be kep sage like that.\n",
    "\n",
    "3. **Describe good and bad passwords? What is another step that is used to assist in authentication.**\n",
    "- Good passwords are something that no one else would be able to guess and a bad password would be something like 123. A good password is something that has 8 characters, a capital at least once, to make sure that no one else can guess it.\n",
    "\n",
    "4. **Try to describe Symmetric and Asymmetric encryption.**\n",
    "- Symmetric is when you only use one key to encrypt and decrypt information whereas Asymmetric is where you use two keys - public and private- to encrypt and decrypt information. I think one example of Asymmetric encryption is Github, because when you are trying to create a repository then it requires you to copy and paste both the public key and the private key.\n",
    "\n",
    "5. **Provide an example of encryption we used in AWS deployment.**\n",
    "- I think we used symmetric encryption because I remember when doing one of the steps I was given I think a public key and I copied that and saved it just in case I needed it later on. Since there was only one key, i'm guessing it is symmetric encryption.\n",
    "\n",
    "6. **Describe a phishing scheme you have learned about the hard way. Describe some other phishing techniques.**\n",
    "- One example I could think of is a weird one. It was more of me looking for trouble. Sometimes when I can't find movies on Netflix then I go to websites, only three which I thought were safe, and I would find movies there. There was nothing wrong with the website itself but there were so many ads and I guess because of those ads my laptop got a virus. I had to install a bunch of protection stuff to get rid of it but that is one example."
   ]
  }
 ],
 "metadata": {
  "kernelspec": {
   "display_name": "base",
   "language": "python",
   "name": "python3"
  },
  "language_info": {
   "name": "python",
   "version": "3.9.12"
  },
  "orig_nbformat": 4,
  "vscode": {
   "interpreter": {
    "hash": "c592ff5847e581e8b66b02dcd331c526c35045e822da212864271a73a90b0063"
   }
  }
 },
 "nbformat": 4,
 "nbformat_minor": 2
}
