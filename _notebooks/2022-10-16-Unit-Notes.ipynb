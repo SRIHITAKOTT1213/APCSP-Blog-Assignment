{
 "cells": [
  {
   "cell_type": "markdown",
   "metadata": {},
   "source": [
    "# First Jupyter Notebook\n",
    "\n",
    "> Note Time!\n",
    "\n",
    "- title: Unit Notes\n",
    "- permalink: /Unit/Notes\n",
    "- toc: true\n",
    "- comments: true\n",
    "- title: Unit Notes"
   ]
  },
  {
   "cell_type": "markdown",
   "metadata": {},
   "source": [
    "{% include nav_data.html %}"
   ]
  },
  {
   "cell_type": "markdown",
   "metadata": {},
   "source": [
    "\n",
    "\n",
    "**Unit 1.1 Notes:**\n",
    "- A computing innovation includes a program as an integral part of its function\n",
    "- One person is “the driver” where they type out the code. And the other person is “the navigator” who looks over the driver and monitors what they are doing\n",
    "- Sharing ideas with each other is important because then you get more idea\n",
    "- Leaving comments in code is helpful so you or your partner know where you left off or if there is something that needs fixing.\n",
    "- Ask people to test drive your program so that way you get more feedback.\n",
    "\n",
    "**Unit 1.2 Notes:**\n",
    "- There are physical devices such as watches and phones and pacemakers. There are applications such as media and games. And there are systems that are not stored on our local server.\n",
    "- Computers programs accept input in different forms\n",
    "- Computers can take in tactile, audio, visual and text\n",
    "“Events” are triggered by some action which send input to the program\n",
    "- Input effects the output\n",
    "- A statement is a single command and a group of statements are called code segments.\n",
    "- And code segments are different for different programming languages.\n",
    "- Program is often referred to as software\n",
    "\n",
    "**Unit 1.3 Notes:**\n",
    "- All programming starts with an idea and they are developed with a specific program in mind\n",
    "- There are several steps in the process. Both on what you should do and what you should not do\n",
    "- Once we have an idea, then we need to think on how we can turn this idea into reality.\n",
    "- There are time constraints too, so you have to understand how much time you have and plan accordingly.\n",
    "- Then brainstorm on what you have already figured out and it is another form of planning.\n",
    "- After brainstorming they will organize their ideas into modules and divide up the work so it is not too much work.\n",
    "- There is always testing after every step of the programming so they can monitor if the program is working correctly and if the user is able to interact with the program as intended. They also use user feedback to better their program.\n",
    "\n",
    "**Unit 1.4 Notes:**\n",
    "- Errors and  programming go hand-in-hand and it is impossible to write a program without encountering at least one error.\n",
    "- A logic error is a mistake that the programmer makes when typing the line of code.\n",
    "- Syntax error is when a programmer makes a typo and the language doesn’t recognize it and the program fails to run.\n",
    "- A run-time error is when the program fails in the midst of running. This is commonly referred to as a bug\n",
    "- Overflow error results when the program is asked to calculate a problem that is outside the range of values\n",
    "- Use a number of test cases to make sure that your program works\n",
    "- Borderline cases should also be tested.\n",
    "\n",
    "Logic Error Example:\n",
    "[example](image.png)\n",
    "\n",
    "**Unit 4.1 Notes:**\n",
    "- Computers are capable of sending and receiving data\n",
    "- A computer network is a group of interconnected computing devices capable of sending and receiving data.\n",
    "- Packet Switching: the message (file) is broken up into packets and sent in any order. \n",
    "- The packets are then reassembled by the recipient's device.\n",
    "- Bandwidth is the amount of data that can be sent in a fixed amount of time.\n",
    "- Protocols establish a common standard for how to send messages between devices on the internet\n",
    "- A packet contains data that is being transmitted as well as metadata containing information used for routing information.\n",
    "- The internet was designed to be scalable - able to change in size in order to meet new demands\n",
    " \n"
   ]
  }
 ],
 "metadata": {
  "kernelspec": {
   "display_name": "Python 3.9.12 ('base')",
   "language": "python",
   "name": "python3"
  },
  "language_info": {
   "name": "python",
   "version": "3.9.12"
  },
  "orig_nbformat": 4,
  "vscode": {
   "interpreter": {
    "hash": "c592ff5847e581e8b66b02dcd331c526c35045e822da212864271a73a90b0063"
   }
  }
 },
 "nbformat": 4,
 "nbformat_minor": 2
}
