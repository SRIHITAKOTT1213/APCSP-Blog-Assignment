{
 "cells": [
  {
   "attachments": {},
   "cell_type": "markdown",
   "metadata": {},
   "source": [
    "# First Jupyter Notebook\n",
    "\n",
    "> Practice! Practice! Practice!\n",
    "- title: 2020 Practice Test Corrections\n",
    "- toc: true\n",
    "- categories: [Other Projects]\n",
    "- comments: true"
   ]
  },
  {
   "attachments": {},
   "cell_type": "markdown",
   "metadata": {},
   "source": [
    "## Question 14:\n",
    "\n",
    "![screenshot](https://i2.paste.pics/7173d0fe9cf23a3bb0db4e80395759f2.png)"
   ]
  },
  {
   "attachments": {},
   "cell_type": "markdown",
   "metadata": {},
   "source": [
    "## Question 16:\n",
    "\n",
    "![screenshot](https://i2.paste.pics/4c3bf6ff2b7558d0f64695f3fac346ff.png)"
   ]
  },
  {
   "attachments": {},
   "cell_type": "markdown",
   "metadata": {},
   "source": [
    "## Question 18:\n",
    "\n",
    "![screenshot](https://i2.paste.pics/042ffbf47e76ff940cbcbf0309946191.png)"
   ]
  },
  {
   "attachments": {},
   "cell_type": "markdown",
   "metadata": {},
   "source": [
    "## Question 26: \n",
    "\n",
    "![screenshot](https://i2.paste.pics/3ecbdbf16b161abea97a1a91fc8c571a.png)"
   ]
  },
  {
   "attachments": {},
   "cell_type": "markdown",
   "metadata": {},
   "source": [
    "## Question 39:\n",
    "\n",
    "![screenshot](https://i2.paste.pics/554c1928b319e89337873f42de06c1c6.png)"
   ]
  },
  {
   "attachments": {},
   "cell_type": "markdown",
   "metadata": {},
   "source": [
    "## Question 40:\n",
    "\n",
    "![screenshot](https://i2.paste.pics/e726ac50695ac0bbbdeb07fa45e692e3.png)"
   ]
  },
  {
   "attachments": {},
   "cell_type": "markdown",
   "metadata": {},
   "source": [
    "## Question 42:\n",
    "\n",
    "![screenshot](https://i2.paste.pics/b5eab49ae38489e25f98abaf6d705c48.png)"
   ]
  },
  {
   "attachments": {},
   "cell_type": "markdown",
   "metadata": {},
   "source": [
    "## Question 50:\n",
    "\n",
    "![screenshot](https://i2.paste.pics/a880e25cbd15a0e2e2386ac8faacf9b7.png)"
   ]
  },
  {
   "attachments": {},
   "cell_type": "markdown",
   "metadata": {},
   "source": [
    "## Question 51:\n",
    "\n",
    "![screenshot](https://i2.paste.pics/3cee2e74462dd1c127a2998c89b45db3.png)"
   ]
  },
  {
   "attachments": {},
   "cell_type": "markdown",
   "metadata": {},
   "source": [
    "## Question 56:\n",
    "\n",
    "![screenshot](https://i2.paste.pics/da74d5f6f11863dd7bd8a3f845f1e0ad.png)"
   ]
  },
  {
   "attachments": {},
   "cell_type": "markdown",
   "metadata": {},
   "source": [
    "## Question 57:\n",
    "\n",
    "![screenshot](https://i2.paste.pics/bc5848ee9433cdaa76ecb061677e10dc.png)"
   ]
  },
  {
   "attachments": {},
   "cell_type": "markdown",
   "metadata": {},
   "source": [
    "## Question 59:\n",
    "\n",
    "![screenshot](https://i2.paste.pics/99be7554c7af343aac0b60ac092bbec4.png)"
   ]
  },
  {
   "attachments": {},
   "cell_type": "markdown",
   "metadata": {},
   "source": [
    "## Question 66:\n",
    "\n",
    "![screenshot](https://i2.paste.pics/506be82366afe45a075b660c1b88abdc.png)"
   ]
  },
  {
   "attachments": {},
   "cell_type": "markdown",
   "metadata": {},
   "source": [
    "## Question 67:\n",
    "\n",
    "![screenshot](https://i2.paste.pics/ba52b35829a495bb82233f3096de36c7.png)"
   ]
  }
 ],
 "metadata": {
  "language_info": {
   "name": "python"
  },
  "orig_nbformat": 4
 },
 "nbformat": 4,
 "nbformat_minor": 2
}
