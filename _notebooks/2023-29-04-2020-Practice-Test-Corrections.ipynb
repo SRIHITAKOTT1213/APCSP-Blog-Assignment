{
 "cells": [
  {
   "attachments": {},
   "cell_type": "markdown",
   "metadata": {},
   "source": [
    "# First Jupyter Notebook\n",
    "\n",
    "> Practice! Practice! Practice!\n",
    "- title: 2020 Practice Test Corrections\n",
    "- toc: true\n",
    "- categories: [Other Projects]\n",
    "- comments: true"
   ]
  },
  {
   "attachments": {},
   "cell_type": "markdown",
   "metadata": {},
   "source": [
    "## Question 14: 3.3\n",
    "Maybe this is because to switch the values so that when the program is executed, it will have successfully swapped the values. But I still don't get why we used this instead of the other ones.\n",
    "\n",
    "![screenshot](https://i2.paste.pics/7173d0fe9cf23a3bb0db4e80395759f2.png)"
   ]
  },
  {
   "attachments": {},
   "cell_type": "markdown",
   "metadata": {},
   "source": [
    "## Question 16: 1.4\n",
    "I think the answer is D because if you were to choose C, then it would be inside the loop and we don't want that.\n",
    "\n",
    "![screenshot](https://i2.paste.pics/4c3bf6ff2b7558d0f64695f3fac346ff.png)"
   ]
  },
  {
   "attachments": {},
   "cell_type": "markdown",
   "metadata": {},
   "source": [
    "## Question 18: 3.8\n",
    "I still think that both A and B work. But maybe A doesn't work because the moving forward once part is what makes it move into the black area.\n",
    "\n",
    "![screenshot](https://i2.paste.pics/042ffbf47e76ff940cbcbf0309946191.png)"
   ]
  },
  {
   "attachments": {},
   "cell_type": "markdown",
   "metadata": {},
   "source": [
    "## Question 26: 2.3\n",
    "Because this is not information of the image. That is why D is the correct answer.\n",
    "\n",
    "![screenshot](https://i2.paste.pics/3ecbdbf16b161abea97a1a91fc8c571a.png)"
   ]
  },
  {
   "attachments": {},
   "cell_type": "markdown",
   "metadata": {},
   "source": [
    "## Question 39: 1.4\n",
    "Maybe C is correct because you need to use the initial value of i before you change its value, so some must go first\n",
    "\n",
    "![screenshot](https://i2.paste.pics/554c1928b319e89337873f42de06c1c6.png)"
   ]
  },
  {
   "attachments": {},
   "cell_type": "markdown",
   "metadata": {},
   "source": [
    "## Question 40: 5.6\n",
    "I didn't know that, now I do.\n",
    "\n",
    "![screenshot](https://i2.paste.pics/e726ac50695ac0bbbdeb07fa45e692e3.png)"
   ]
  },
  {
   "attachments": {},
   "cell_type": "markdown",
   "metadata": {},
   "source": [
    "## Question 42: 3.5\n",
    "I had a hard time visualizing it but it makes sense. If the score is 50 for example, then the target lets say is 20, 20-10 is less than 50 but 20+10 is not greater than 50, it does not work. that is why D is correct\n",
    "\n",
    "![screenshot](https://i2.paste.pics/b5eab49ae38489e25f98abaf6d705c48.png)"
   ]
  },
  {
   "attachments": {},
   "cell_type": "markdown",
   "metadata": {},
   "source": [
    "## Question 50: 3.17\n",
    "None of the examples are exponential or factorial, so it does not run in an unreasonable time, meaning that all of them run at a reasonable time\n",
    "\n",
    "![screenshot](https://i2.paste.pics/a880e25cbd15a0e2e2386ac8faacf9b7.png)"
   ]
  },
  {
   "attachments": {},
   "cell_type": "markdown",
   "metadata": {},
   "source": [
    "## Question 51: 5.5\n",
    "I didn't know what a Creative Commons License was, now I do after watching the college board video\n",
    "\n",
    "![screenshot](https://i2.paste.pics/3cee2e74462dd1c127a2998c89b45db3.png)"
   ]
  },
  {
   "attachments": {},
   "cell_type": "markdown",
   "metadata": {},
   "source": [
    "## Question 56: 3.17\n",
    "I still have no idea why this is correct. Maybe there is a loop that makes it so that it is 5 minutes\n",
    "\n",
    "![screenshot](https://i2.paste.pics/da74d5f6f11863dd7bd8a3f845f1e0ad.png)"
   ]
  },
  {
   "attachments": {},
   "cell_type": "markdown",
   "metadata": {},
   "source": [
    "## Question 57: 4.1\n",
    "It makes sense considering what TCP means, but I didn't know what IP means, but now I do.\n",
    "\n",
    "![screenshot](https://i2.paste.pics/bc5848ee9433cdaa76ecb061677e10dc.png)"
   ]
  },
  {
   "attachments": {},
   "cell_type": "markdown",
   "metadata": {},
   "source": [
    "## Question 59: 5.5\n",
    "Maybe it means that it is not an advantage for the one who created the thing.\n",
    "\n",
    "![screenshot](https://i2.paste.pics/99be7554c7af343aac0b60ac092bbec4.png)"
   ]
  },
  {
   "attachments": {},
   "cell_type": "markdown",
   "metadata": {},
   "source": [
    "## Question 66: 1.4\n",
    "It is basically taking out the lines that are inside the loops.\n",
    "\n",
    "![screenshot](https://i2.paste.pics/506be82366afe45a075b660c1b88abdc.png)"
   ]
  },
  {
   "attachments": {},
   "cell_type": "markdown",
   "metadata": {},
   "source": [
    "## Question 67: 1.4\n",
    "Maybe B is right because once it gets to the third letter, the count would reset to 0 and print 0 instead of the true value 1.\n",
    "\n",
    "![screenshot](https://i2.paste.pics/ba52b35829a495bb82233f3096de36c7.png)"
   ]
  },
  {
   "attachments": {},
   "cell_type": "markdown",
   "metadata": {},
   "source": [
    "**I looked at the questions I got wrong and from what sections those questions are from. The sections that I kept missing the most are the ones that I looked at the college board videos of and took notes below so that I might be able to better understand the questions that I got wrong and the better prepare me for the AP exam.**"
   ]
  },
  {
   "attachments": {},
   "cell_type": "markdown",
   "metadata": {},
   "source": [
    "## 1.4: Identifying and Correcting Errors:\n",
    "- **Logic error** is caused by the programmer making a mistake in the algorithm, which causes the program to behave unexpectedly.\n",
    "\n",
    "- **Syntax Error** is when a programmer makes a typo or writes some code/or forgets some code that doesn't follow the rules of the programming language.\n",
    "\n",
    "- **Run-time error** is when a program fails in  the midst of running (in other words the program crushes)\n",
    "    Could result from:\n",
    "    - dividing by zero\n",
    "    - inapporpriately entered a data type (such as typing a word when an integer is needed)\n",
    "\n",
    "- **Overflow error** is when a program is required to perform a calculation tht is outside of defined range of values\n",
    "\n",
    "- Syntax errors are usually the most easiest to correct because most integrated development environments (IDE's) display information when there is a syntax error\n",
    "\n",
    "- The more difficult ones to correct are logic errors\n",
    "\n",
    "- **Hand tracing** is simply writingg out the values of the variables within the loop as it iterates to determine if the outcome is correct/"
   ]
  },
  {
   "attachments": {},
   "cell_type": "markdown",
   "metadata": {},
   "source": [
    "## 3.17: Algorithmic Efficiency:\n",
    "- The steps that are in linear or sqaure steps, they run at an reasonable time but if they run at an exponential or a factorial they run at an unreasonable time\n",
    "![screenshot](https://i2.paste.pics/695fdafe65947b0cd251148860c42f9d.png)\n",
    "\n",
    "- You can tell if an algorithm runs at an unreasonable time when the it jumps dramatically\n",
    "\n",
    "- a **heuristic** is an approach to a problem that i s not guaranteed to be optimal every time but can be used since finding the optimal solution would take an unreasonable amount of time\n",
    "\n",
    "![screenshot](https://i2.paste.pics/4589b949de56e421599fff915fc55d1c.png)\n",
    "This is not the best answer but then again it is not the worst\n",
    "\n",
    "- When deciding on whether a situation would need a heuristic solution, think about whether there is a set solution to the problem or whether there might be more than one solution and it would be difficult to determine the best solution every time.\n"
   ]
  },
  {
   "attachments": {},
   "cell_type": "markdown",
   "metadata": {},
   "source": [
    "## 5.5: Legal and Ethical Concerns:\n",
    "- **Intelectual Property (IP):** a work or invention that is the result of creativity to which one has rights\n",
    "\n",
    "- Copyright protects your IP and keeps anyone from using it, unless you give them your permission\n",
    "\n",
    "- Legal ways to use material created by someone else:\n",
    "    - creative commons\n",
    "    - open source\n",
    "    - open access\n",
    "\n",
    "- **Creative Commons:** provides free licenses that you can use to tell others how you want them to use your creations. It clearly tells others what they can and can noto do with your IP\n",
    "\n",
    "- **Open source:** programs made freely available for anyone to use and may be redistributed and modified.\n",
    "\n",
    "- **Open Access:** online research output free of any and all restrictions on access and free of many restrictions on use, such as copyright or license restrictions\n",
    "\n",
    "- **Digital Divide:** unequal distribution of access to technology"
   ]
  }
 ],
 "metadata": {
  "language_info": {
   "name": "python"
  },
  "orig_nbformat": 4
 },
 "nbformat": 4,
 "nbformat_minor": 2
}
