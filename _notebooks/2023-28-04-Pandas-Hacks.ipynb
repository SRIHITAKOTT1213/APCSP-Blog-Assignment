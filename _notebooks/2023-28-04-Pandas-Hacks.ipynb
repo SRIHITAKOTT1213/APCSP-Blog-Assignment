{
 "cells": [
  {
   "attachments": {},
   "cell_type": "markdown",
   "metadata": {},
   "source": [
    "# First Jupyter Notebook\n",
    "\n",
    "> Hacks!!\n",
    "- title: Petite Pandas Data Analysis using Pandas and NumPy Hacks\n",
    "- toc: true\n",
    "- categories: [Other Projects]\n",
    "- comments: true"
   ]
  },
  {
   "attachments": {},
   "cell_type": "markdown",
   "metadata": {},
   "source": [
    "# Popcorn Hacks:"
   ]
  },
  {
   "attachments": {},
   "cell_type": "markdown",
   "metadata": {},
   "source": [
    "Predictive analysis is the use of **statistical**, data mining, and machine learning techniques to analyze current and historical data in order to make predictions about future events or behaviors. It involves identifying **patterns** and trends in data, and then using that information to forecast what is likely to happen in the future.\n",
    "\n",
    "Predictive analysis is used in a wide range of applications, from forecasting sales and demand, to predicting customer behavior, to detecting fraudulent transactions. It involves collecting and analyzing data from a variety of sources, including historical data, customer data, financial data, and social media data, among others.\n",
    "\n",
    "The process of predictive analysis typically involves the following steps:\n",
    "1. Defining the problem and identifying the relevant data sources\n",
    "2. **Collecting and cleaning the data**\n",
    "3. Exploring and analyzing the data to identify patterns and trends\n",
    "4. Selecting an appropriate model or algorithm to use for predictions\n",
    "5. Training and validating the model using historical data\n",
    "6. **Using the model to make predictions on new data**\n",
    "7. Monitoring and evaluating the performance of the model over time\n",
    "\n",
    "Predictive analysis can help organizations make more informed decisions, improve efficiency, and gain a competitive advantage by leveraging insights from data.\n",
    "\n",
    "It is most commonly used in **Retail**, where workers try to predict which products would be most popular and try to advertise those products as much as possible, and also **Healthcare**, where algorithms analyze patterns and reveal prerequisites for diseases and suggest preventive treatment, predict the results of various treatments and choose the best option for each patient individually, and predict disease outbreaks and epidemics."
   ]
  },
  {
   "attachments": {},
   "cell_type": "markdown",
   "metadata": {},
   "source": [
    "An array is the central **data structure** of the NumPy library. They are used as **containers** which are able to store more than one item at the same time. Using the function ```np.array``` is used to create an array, in which you can create multidimensional arrays. "
   ]
  },
  {
   "cell_type": "code",
   "execution_count": 1,
   "metadata": {},
   "outputs": [
    {
     "name": "stdout",
     "output_type": "stream",
     "text": [
      "(2, 2, 3)\n",
      "[[[1 1 2]\n",
      "  [2 3 3]]\n",
      "\n",
      " [[1 1 1]\n",
      "  [1 1 1]]]\n"
     ]
    }
   ],
   "source": [
    "import numpy as np\n",
    "\n",
    "# create 3D array here\n",
    "x = np.array([[[1,1,2], [2,3,3]], [[1,1,1], [1,1,1]]])\n",
    "print(x.shape)\n",
    "print(x)"
   ]
  },
  {
   "attachments": {},
   "cell_type": "markdown",
   "metadata": {},
   "source": [
    "### 3. Basic array operations\n",
    "\n",
    "One of the most basic operations that can be performed on arrays is **arithmetic operations**. With numpy, it is very easy to perform arithmetic operations on arrays. You can **add**, **subtract**, **multiply** and **divide** arrays, just like you would with regular numbers. When performing these operations, numpy applies the operation element-wise, meaning that it performs the operation on each element in the array separately. This makes it easy to perform operations on large amounts of data quickly and efficiently."
   ]
  },
  {
   "cell_type": "code",
   "execution_count": 3,
   "metadata": {},
   "outputs": [
    {
     "name": "stdout",
     "output_type": "stream",
     "text": [
      "[-0.7568025  -0.95892427 -0.2794155 ]\n",
      "[-0.65364362  0.28366219  0.96017029]\n",
      "[ 1.15782128 -3.38051501 -0.29100619]\n",
      "[1.38629436 1.60943791 1.79175947]\n",
      "[0.60205999 0.69897    0.77815125]\n"
     ]
    }
   ],
   "source": [
    "a = np.array([1, 2, 3])\n",
    "b = np.array([4, 5, 6])\n",
    "\n",
    "# calculate sin\n",
    "f = np.sin(b)\n",
    "# calculate cos\n",
    "g = np.cos(b)\n",
    "# calculate tan\n",
    "h = np.tan(b)\n",
    "# calculate natural log\n",
    "i = np.log(b)\n",
    "# calculate log10\n",
    "j = np.log10(b)\n",
    "\n",
    "print(f)\n",
    "print(g)\n",
    "print(h)\n",
    "print(i)\n",
    "print(j)"
   ]
  },
  {
   "attachments": {},
   "cell_type": "markdown",
   "metadata": {},
   "source": [
    "### 4. Data analysis using numpy\n",
    "Numpy provides a convenient and powerful way to perform data analysis tasks on **large datasets**. One of the most common tasks in data analysis is finding the **mean**, **median**, and **standard deviation** of a dataset. Numpy provides functions to perform these operations quickly and easily. The mean function calculates the average value of the data, while the median function calculates the middle value in the data. The standard deviation function calculates how spread out the data is from the mean. Additionally, numpy provides functions to find the minimum and maximum values in the data. These functions are very useful for gaining insight into the properties of large datasets and can be used for a wide range of data analysis tasks."
   ]
  },
  {
   "cell_type": "code",
   "execution_count": 4,
   "metadata": {},
   "outputs": [
    {
     "name": "stdout",
     "output_type": "stream",
     "text": [
      "51\n",
      "29640\n"
     ]
    }
   ],
   "source": [
    "data = np.array([2, 5, 12, 13, 19])\n",
    "\n",
    "# create a different way of solving the sum or products of a dataset from what we learned above\n",
    "print(np.sum(data))\n",
    "print(np.product(data))"
   ]
  },
  {
   "attachments": {},
   "cell_type": "markdown",
   "metadata": {},
   "source": [
    "# Main Hack:\n"
   ]
  },
  {
   "cell_type": "code",
   "execution_count": 43,
   "metadata": {},
   "outputs": [
    {
     "name": "stdout",
     "output_type": "stream",
     "text": [
      "['Age' '18' '19' '20' '21' '22' '23' '24' '25' '26' '27' '28' '29' '30']\n"
     ]
    }
   ],
   "source": [
    "import numpy as np\n",
    "\n",
    "age = np.loadtxt('files/age.csv', delimiter=',', dtype=str, encoding='utf-8')\n",
    "print(age)"
   ]
  },
  {
   "attachments": {},
   "cell_type": "markdown",
   "metadata": {},
   "source": [
    "### Panda:"
   ]
  },
  {
   "attachments": {},
   "cell_type": "markdown",
   "metadata": {},
   "source": [
    "**Min:**"
   ]
  },
  {
   "cell_type": "code",
   "execution_count": 45,
   "metadata": {},
   "outputs": [
    {
     "name": "stdout",
     "output_type": "stream",
     "text": [
      "18\n"
     ]
    }
   ],
   "source": [
    "age= [18, 19, 20, 21, 22, 23, 24, 25, 26, 27, 28, 29, 30]\n",
    "print(np.min(age))"
   ]
  },
  {
   "attachments": {},
   "cell_type": "markdown",
   "metadata": {},
   "source": [
    "**Max:**"
   ]
  },
  {
   "cell_type": "code",
   "execution_count": 46,
   "metadata": {},
   "outputs": [
    {
     "name": "stdout",
     "output_type": "stream",
     "text": [
      "30\n"
     ]
    }
   ],
   "source": [
    "age= [18, 19, 20, 21, 22, 23, 24, 25, 26, 27, 28, 29, 30]\n",
    "print(np.max(age))"
   ]
  },
  {
   "attachments": {},
   "cell_type": "markdown",
   "metadata": {},
   "source": [
    "### Numpy:"
   ]
  },
  {
   "cell_type": "code",
   "execution_count": 47,
   "metadata": {},
   "outputs": [
    {
     "name": "stdout",
     "output_type": "stream",
     "text": [
      "0.22694578746731575\n",
      "[0.90154584 0.14164067 0.1356398  0.17760852 0.8175945 ]\n",
      "[[0.35257292 0.22036514]\n",
      " [0.90568225 0.00206035]\n",
      " [0.5691113  0.27038592]]\n",
      "58\n",
      "[8 3 9 2 4]\n"
     ]
    }
   ],
   "source": [
    "import numpy as np\n",
    "\n",
    "# Generate a single random number\n",
    "random_number = np.random.rand()\n",
    "print(random_number)\n",
    "\n",
    "# Generate an array of random numbers\n",
    "random_array = np.random.rand(5)  # Generates an array of 5 random numbers\n",
    "print(random_array)\n",
    "\n",
    "# Generate a 2D array of random numbers\n",
    "random_matrix = np.random.rand(3, 2)  # Generates a 3x2 matrix of random numbers\n",
    "print(random_matrix)\n",
    "\n",
    "# Generate random integers within a specific range\n",
    "random_int = np.random.randint(1, 100)  # Generates a random integer between 1 and 10 (inclusive)\n",
    "print(random_int)\n",
    "\n",
    "# Generate an array of random integers within a specific range\n",
    "random_int_array = np.random.randint(1, 10, size=5)  # Generates an array of 5 random integers between 1 and 10 (inclusive)\n",
    "print(random_int_array)"
   ]
  },
  {
   "cell_type": "code",
   "execution_count": 49,
   "metadata": {},
   "outputs": [
    {
     "name": "stdout",
     "output_type": "stream",
     "text": [
      "(2, 2, 3)\n",
      "[[[ 1 11  2]\n",
      "  [ 2 13  3]]\n",
      "\n",
      " [[ 1 10  1]\n",
      "  [ 1  1  1]]]\n"
     ]
    }
   ],
   "source": [
    "import numpy as np\n",
    "\n",
    "array = np.array([[[1,11,2], [2,13,3]], [[1,10,1], [1,1,1]]])\n",
    "print(array.shape)\n",
    "print(array)"
   ]
  },
  {
   "cell_type": "code",
   "execution_count": 51,
   "metadata": {},
   "outputs": [
    {
     "name": "stdout",
     "output_type": "stream",
     "text": [
      "[ 0.          1.42857143  2.85714286  4.28571429  5.71428571  7.14285714\n",
      "  8.57142857 10.         11.42857143 12.85714286 14.28571429 15.71428571\n",
      " 17.14285714 18.57142857 20.        ]\n"
     ]
    }
   ],
   "source": [
    "import numpy as np\n",
    "\n",
    "linear_array = np.linspace(0, 20, 15)\n",
    "print(linear_array)"
   ]
  }
 ],
 "metadata": {
  "kernelspec": {
   "display_name": "base",
   "language": "python",
   "name": "python3"
  },
  "language_info": {
   "codemirror_mode": {
    "name": "ipython",
    "version": 3
   },
   "file_extension": ".py",
   "mimetype": "text/x-python",
   "name": "python",
   "nbconvert_exporter": "python",
   "pygments_lexer": "ipython3",
   "version": "3.9.12"
  },
  "orig_nbformat": 4
 },
 "nbformat": 4,
 "nbformat_minor": 2
}
