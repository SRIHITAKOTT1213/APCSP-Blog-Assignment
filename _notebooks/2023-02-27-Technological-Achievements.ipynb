{
 "cells": [
  {
   "attachments": {},
   "cell_type": "markdown",
   "metadata": {},
   "source": [
    "# First Jupyter Notebook\n",
    "\n",
    "\n",
    "- title: Tecnhnological Achievements\n",
    "- toc: true\n",
    "- permalink: /tech/achievements\n",
    "- categories: [Other Projects]\n",
    "- comments: true"
   ]
  },
  {
   "attachments": {},
   "cell_type": "markdown",
   "metadata": {},
   "source": [
    "### Things we Accomplished!\n",
    "- We were able to deploy flask after having so many errors. We kept on getting errors that some part of the code didn't work or some other difficult problem when doing deployment. But after LOTS of help we finally got that done!\n",
    "\n",
    "- For me, fetching on my computer never really worked but my code on Alexa's computer did, so I had to figure out why that was and eventually my computuer was able to fetch.\n",
    "\n",
    "- The biggest challenge for me was that Undefined error that I get instead of names for my table:\n",
    "   - Whenever the user inputs their information in the form, the table just says \"undefined\" for their first name, last name, and workout type, but for some reason the data and number of hours they did a certain workout works.\n",
    "\n",
    "   - I first thought it was the backend code, because that is where the fetching happens. So I made sure that the values  for my table were a different value and then I looked in both the database and api a million times to make sure that those variables stayed the same througout the entire form. They were all the exact same and they were all DEFINED. But I still got that error.\n",
    "\n",
    "   - Next I thought it had to be in the frontend because it was fetching something. There was, technically, tester data there and it was fetching and adding onto the table after I inputted something, so the backend was working. But what showed on the frontend was undefined, again only in 3 of the 5 parts of the table, which was weird so it must have been a frontend problem.\n",
    "\n",
    "   - Then I did the same thing with the frontend that I did with the backend and I went through the entire thing a good number of times and all my variables were the same and there was nothing wrong.\n",
    "\n",
    "   - what was even more troubling was not that I couldn't find anything wrong with my code, but that it was nearly identical to Alexa's, Ava's, and Lydia's, only the variables were different and I checked to make sure they all matched. So for some reason mine was the only one that had that problem and I couldn't figure out why.\n",
    "\n",
    "   - Usually I ask for help at this point. Alexa looked it over and said there was nothing wrong with my code. So did Ava, and even Azeem said that everything looked good.\n",
    "\n",
    "   - I finally came to a conclusion that it couldn't have been my fault because I went through all the steps and made sure that everything was right and I feel like if there was an error I would have caught it by now, or at the very least one of the people I mentioned who checked my code would have too.\n",
    "\n",
    "   - Also, when I clicked inspect on the page there was no error message. Everything was perfect. All my tester data, with all the names and everything, was seen there too so I really don't know why it doesn't show up."
   ]
  }
 ],
 "metadata": {
  "kernelspec": {
   "display_name": "base",
   "language": "python",
   "name": "python3"
  },
  "language_info": {
   "name": "python",
   "version": "3.9.12"
  },
  "orig_nbformat": 4,
  "vscode": {
   "interpreter": {
    "hash": "c592ff5847e581e8b66b02dcd331c526c35045e822da212864271a73a90b0063"
   }
  }
 },
 "nbformat": 4,
 "nbformat_minor": 2
}
