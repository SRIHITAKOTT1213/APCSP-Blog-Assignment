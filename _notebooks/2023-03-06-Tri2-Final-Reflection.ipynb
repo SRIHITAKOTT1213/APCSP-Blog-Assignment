{
 "cells": [
  {
   "attachments": {},
   "cell_type": "markdown",
   "metadata": {},
   "source": [
    "# First Jupyter Notebook\n",
    "\n",
    "\n",
    "- title: Tri 2 Final Exam Reflection #3\n",
    "- toc: true\n",
    "- permalink: /Final3/Reflection\n",
    "- categories: [Other Projects]\n",
    "- comments: true"
   ]
  },
  {
   "attachments": {},
   "cell_type": "markdown",
   "metadata": {},
   "source": [
    "### Question # 1:\n",
    "![screenshot](https://i.paste.pics/a8b55726d7f4fb85be65a8624fe2d4c7.png)\n",
    "\n",
    "**Reflection:**\n",
    "I guess this makes sense because if the cookies are deleted then anything that you did on that browser would also be deleted."
   ]
  },
  {
   "attachments": {},
   "cell_type": "markdown",
   "metadata": {},
   "source": [
    "### Question # 3:\n",
    "![screenshot](https://i.paste.pics/dafde5566876b90494cb190e7c75de3e.png)\n",
    "![screenshot](https://i.paste.pics/f468d9d99a07a9ad1134f9ef8ed9c65b.png)\n",
    "![screenshot](https://i.paste.pics/dcc6ca51bd5496fe094f547ca5d2cb8c.png)\n",
    "\n",
    "**Reflection:**\n",
    "This would make sense because all the information, I think, is stored on this upgraded system unlike the old one so it would be easier for customers information to be compromised if an unauthorized person got into the system"
   ]
  },
  {
   "attachments": {},
   "cell_type": "markdown",
   "metadata": {},
   "source": [
    "### Question # 9:\n",
    "![screenshot](https://i.paste.pics/4404a888387e9676e6d29271d9844ebc.png)\n",
    "\n",
    "**Reflection:**\n",
    "I guess this is because there is only one mechanism being useed more than once so it would count as multifactoral because there is only one factor, but that one factor being used multiple times, where as the other answer choices have multiple verification steps in order to login to somewhere."
   ]
  },
  {
   "attachments": {},
   "cell_type": "markdown",
   "metadata": {},
   "source": [
    "### Question # 21:\n",
    "![screenshot](https://i.paste.pics/01722ffe6885e4b4228d248fc907ad6e.png)\n",
    "\n",
    "**Reflection:**\n",
    "I guess this is because there are other numbers that would make the program NOT run as intended and you can plug in other numbers that are not in the given list to see if the program still works."
   ]
  },
  {
   "attachments": {},
   "cell_type": "markdown",
   "metadata": {},
   "source": [
    "### Question # 23:\n",
    "![screenshot](https://i.paste.pics/ca5b5486811cc4866678cf81525c847e.png)\n",
    "\n",
    "**Reflection:**\n",
    "When you add the results of the binary form of 5 and 3, then that combined number would be too big for the 3 bit to hold and that is why it results in an overflow error."
   ]
  },
  {
   "attachments": {},
   "cell_type": "markdown",
   "metadata": {},
   "source": [
    "### Question # 26:\n",
    "![screenshot](https://i.paste.pics/6abae19a9efacaa41d37a2d91286906a.png)\n",
    "\n",
    "**Reflection:**\n",
    "This makes sense because after you pick that one student, then there are a total of 29 students to choose from for the second round, so D makes sense."
   ]
  },
  {
   "attachments": {},
   "cell_type": "markdown",
   "metadata": {},
   "source": [
    "### Question # 28:\n",
    "![screenshot](https://i.paste.pics/7d54b283ba6d678188fd61687ea9f3e4.png)\n",
    "\n",
    "**Reflection:**\n",
    "I got this one completely wrong but it is actually simple to understand. If I payed attention a little more than I would have gotten this question corect"
   ]
  },
  {
   "attachments": {},
   "cell_type": "markdown",
   "metadata": {},
   "source": [
    "### Question # 29:\n",
    "![screenshot](https://i.paste.pics/7c88b557b74e04fdcbd167c43ecf8dff.png)\n",
    "\n",
    "**Reflection:**\n",
    "I got this wrong because  I thought C was true. But a would be false because the new assigned value was false because it didn't meet both requirements so C, since it needs to be both true and is not, is also false."
   ]
  },
  {
   "attachments": {},
   "cell_type": "markdown",
   "metadata": {},
   "source": [
    "### Question # 31:\n",
    "![screenshot](https://i.paste.pics/cbc91065f986b062ce3efbab19121227.png)\n",
    "\n",
    "**Reflection:**\n",
    "I didn't get this one, but I guess the gate has to be closed in order for the sensor to turn on in the first place."
   ]
  },
  {
   "attachments": {},
   "cell_type": "markdown",
   "metadata": {},
   "source": [
    "### Question # 32:\n",
    "![screenshot](https://i.paste.pics/93c5110dfae3771b6d926ae2bf190929.png)\n",
    "\n",
    "**Reflection:**\n",
    "I guess this makes sense because if num is greater than minimum, the you wouldn't assign that to be the minimum value."
   ]
  },
  {
   "attachments": {},
   "cell_type": "markdown",
   "metadata": {},
   "source": [
    "### Question # 40:\n",
    "![screenshot](https://i.paste.pics/f68b11e5e20807058e7b603e1d099534.png)\n",
    "![screenshot](https://i.paste.pics/5694fd977ac0edd16e82a6b972b00062.png)\n",
    "\n",
    "**Reflection:**\n",
    "I didn't have the energy to think this one through because I kept getting stuck because I got confused on the program but I think I got it now"
   ]
  },
  {
   "attachments": {},
   "cell_type": "markdown",
   "metadata": {},
   "source": [
    "### Question # 42:\n",
    "![screenshot](https://i.paste.pics/0973e192d186bac167f08d1c4b22c86a.png)\n",
    "\n",
    "**Reflection:**\n",
    "this makes sense because in order for the binary search to work, the list must be sorted."
   ]
  },
  {
   "attachments": {},
   "cell_type": "markdown",
   "metadata": {},
   "source": [
    "### Question # 47:\n",
    "![screenshot](https://i.paste.pics/f2cf212f5c7fa967d5bdbf63964da5c9.png)\n",
    "![screenshot](https://i.paste.pics/d0a3b2374235f697ffe447068d64d20b.png)\n",
    "\n",
    "**Reflection:**\n",
    "This makes it so that you score A 25% of the time, B 25% of the time and then Cand D combined make 50% of the time."
   ]
  },
  {
   "attachments": {},
   "cell_type": "markdown",
   "metadata": {},
   "source": [
    "### Question # 50:\n",
    "![screenshot](https://i.paste.pics/66d019df8b82165ac8153f5ca687e58f.png)\n",
    "\n",
    "**Reflection:**\n",
    "A, even though had big numbers at the beginning, throughout the 5 runs had an average or below average run time compared to the others."
   ]
  }
 ],
 "metadata": {
  "language_info": {
   "name": "python"
  },
  "orig_nbformat": 4
 },
 "nbformat": 4,
 "nbformat_minor": 2
}
