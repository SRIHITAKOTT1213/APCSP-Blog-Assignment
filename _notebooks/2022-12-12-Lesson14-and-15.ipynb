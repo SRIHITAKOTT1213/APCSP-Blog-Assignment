{
 "cells": [
  {
   "attachments": {},
   "cell_type": "markdown",
   "metadata": {},
   "source": [
    "# First Jupyter Notebook\n",
    "\n",
    "> Hacks\n",
    "\n",
    "- title: Lesson 3.14-3.15 Hacks\n",
    "- categories: [Lesson Hacks]\n",
    "- permalink: /Hacks/14&15\n",
    "- toc: true\n",
    "- comments: true\n",
    "- title: Lesson 3.14-3.15 Hacks"
   ]
  },
  {
   "attachments": {},
   "cell_type": "markdown",
   "metadata": {},
   "source": [
    "**Hack #1:**"
   ]
  },
  {
   "attachments": {},
   "cell_type": "markdown",
   "metadata": {},
   "source": [
    "Import Math allows you to use a library that already exists and use can use it to perform functions like the square root function below."
   ]
  },
  {
   "cell_type": "code",
   "execution_count": 6,
   "metadata": {},
   "outputs": [
    {
     "data": {
      "text/plain": [
       "16.0"
      ]
     },
     "execution_count": 6,
     "metadata": {},
     "output_type": "execute_result"
    }
   ],
   "source": [
    "import math\n",
    "\n",
    "math.sqrt(256)\n"
   ]
  },
  {
   "attachments": {},
   "cell_type": "markdown",
   "metadata": {},
   "source": [
    "**Hack #2:**\n",
    "\n",
    "* **Define what an import random function do:**\n",
    "It basically provides function that are already there instead of having to type in a bunch of code to compensate for that same function.\n",
    "* **List a few other things that we can import other than random**\n",
    "- import math\n",
    "- import flask\n",
    "- import numpy"
   ]
  },
  {
   "attachments": {},
   "cell_type": "markdown",
   "metadata": {},
   "source": [
    "* **Write a few lines of code that implements the import function**"
   ]
  },
  {
   "cell_type": "code",
   "execution_count": 7,
   "metadata": {},
   "outputs": [
    {
     "name": "stdout",
     "output_type": "stream",
     "text": [
      "6\n",
      "3\n",
      "6\n",
      "18\n"
     ]
    }
   ],
   "source": [
    "import random\n",
    "i = 1\n",
    "while i < 5:\n",
    "    choose = random.randint(1,20)\n",
    "    print(choose)\n",
    "    i += 1"
   ]
  },
  {
   "attachments": {},
   "cell_type": "markdown",
   "metadata": {},
   "source": [
    "**Hack #3:**"
   ]
  },
  {
   "attachments": {},
   "cell_type": "markdown",
   "metadata": {},
   "source": [
    "- For your hacks you need to create a random number generator that will simulate this situation:\n",
    "- There is a spinner divided into eight equal parts. 3 parts of the spinner are green, two parts are blue, one part is purple, one part is red, and one part is orange. How can you simulate this situation using a random number generator.\n",
    " \n",
    "- **Also answer this question: What numbers can be outputted from RANDOM(12,20) and what numbers are excluded?**\n",
    "I think number 12-20 will be outputted and every other number other than those numbers will be excluded."
   ]
  },
  {
   "cell_type": "code",
   "execution_count": 9,
   "metadata": {},
   "outputs": [
    {
     "name": "stdout",
     "output_type": "stream",
     "text": [
      "green\n"
     ]
    }
   ],
   "source": [
    "import random \n",
    "\n",
    "spin = random.randint(1,8)\n",
    "if spin <= 3:\n",
    "    print(\"green\")\n",
    "elif spin <= 5:\n",
    "    print(\"blue\")\n",
    "elif spin <= 6:\n",
    "    print(\"purple\")\n",
    "elif spin <= 7:\n",
    "    print(\"red\")\n",
    "elif spin <= 8:\n",
    "    print(\"orange\")"
   ]
  }
 ],
 "metadata": {
  "kernelspec": {
   "display_name": "base",
   "language": "python",
   "name": "python3"
  },
  "language_info": {
   "codemirror_mode": {
    "name": "ipython",
    "version": 3
   },
   "file_extension": ".py",
   "mimetype": "text/x-python",
   "name": "python",
   "nbconvert_exporter": "python",
   "pygments_lexer": "ipython3",
   "version": "3.9.12"
  },
  "orig_nbformat": 4,
  "vscode": {
   "interpreter": {
    "hash": "c592ff5847e581e8b66b02dcd331c526c35045e822da212864271a73a90b0063"
   }
  }
 },
 "nbformat": 4,
 "nbformat_minor": 2
}
