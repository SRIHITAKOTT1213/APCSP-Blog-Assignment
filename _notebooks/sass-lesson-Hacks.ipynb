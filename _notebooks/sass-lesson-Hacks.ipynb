{
 "cells": [
  {
   "attachments": {},
   "cell_type": "markdown",
   "metadata": {},
   "source": [
    "# First Jupyter Notebook\n",
    "\n",
    "> Hacks!!\n",
    "- title: Sass Lesson Hacks\n",
    "- toc: true\n",
    "- categories: [Other Projects]\n",
    "- comments: true"
   ]
  },
  {
   "attachments": {},
   "cell_type": "markdown",
   "metadata": {},
   "source": [
    "# TAKING NOTES/COMPLETING MINI HACKS:\n",
    "\n",
    "# SASS"
   ]
  },
  {
   "attachments": {},
   "cell_type": "markdown",
   "metadata": {},
   "source": [
    "# Why SASS?\n",
    "\n",
    "SASS is an improvement on CSS in that there are methods of abstraction. It is a **stylesheet** language that is **compiled** into CSS, which means that **Sass will translate the Sass code you wrote into**, which is what your web browser can read.\n",
    "\n",
    "# SASS vs SCSS\n",
    "As you learn about Sass, you might notice something called Scss. They are basically the same thing except that Scss uses curly braces and semicolons to distinguish between lines. Sass uses indentation and newlines instead.\n",
    "\n",
    "We will be teaching the Scss syntax because it is more commonly used."
   ]
  },
  {
   "attachments": {},
   "cell_type": "markdown",
   "metadata": {},
   "source": [
    "# Getting started\n",
    "\n",
    "A easy way to write SASS and have it preprocessed into CSS is by using a Jekyll powered website, such as GitHub pages or Fastpages.\n",
    "\n",
    "The first step is to clone a GitHub pages repo, such as this [one](https://github.com/lwu1822/sassy_squad).\n",
    "\n",
    "Within the repository, head over to `assets/css/`, and open `style.scss`.\n",
    "\n",
    "This is where you can create your SASS code.\n",
    "\n",
    "To see your CSS-translated SASS code, head over to `_site/assets/css/style.css`\n",
    "\n",
    "Note: You will need to run bundle exec jekyll serve before the _site directory appears.\n",
    "\n",
    "The first few hundred lines are used to style Github's theme. Make sure to scroll to the very bottom to see the SASS code that you wrote, which is in the form of CSS."
   ]
  },
  {
   "attachments": {},
   "cell_type": "markdown",
   "metadata": {},
   "source": [
    "# Nesting\n",
    "\n",
    "- CSS selectors share the same elements\n",
    "- SASS and CSS are pretty similar but have a different structure and different ways of doing thingsg."
   ]
  },
  {
   "attachments": {},
   "cell_type": "markdown",
   "metadata": {},
   "source": [
    "# Mini-hack\n",
    "\n",
    "Write out the SASS equivalent for the following CSS code:\n",
    "\n",
    "```\n",
    ".a .b {\n",
    "    color: green;\n",
    "}\n",
    "\n",
    ".a .c {\n",
    "    color: blue;\n",
    "}\n",
    "```"
   ]
  },
  {
   "attachments": {},
   "cell_type": "markdown",
   "metadata": {},
   "source": [
    "**The SASS Version that I made:**"
   ]
  },
  {
   "attachments": {},
   "cell_type": "markdown",
   "metadata": {},
   "source": [
    ".a {\n",
    "    .b {\n",
    "        \n",
    "    color: green;\n",
    "    \n",
    "    }\n",
    "    .c { \n",
    "    color: blue;\n",
    "}}"
   ]
  },
  {
   "attachments": {},
   "cell_type": "markdown",
   "metadata": {},
   "source": [
    "# Extend/Inheritance\n",
    "\n",
    "**What are some similarities that the buttons share? What are the differences?**\n",
    "\n",
    "- the colors are different\n",
    "\n",
    "- The colors, instead of being solid, they are gradients\n",
    "\n",
    "- The boxes are the EXACT same shape and size and the spacing between them is the EXACT same space between each box\n",
    "\n",
    "- They share similar attributes"
   ]
  },
  {
   "attachments": {},
   "cell_type": "markdown",
   "metadata": {},
   "source": [
    "# Mixin\n",
    "\n",
    "- Make two colors colors as the parameter\n",
    "\n",
    "- You can place styling rules that do not take in variables within mixin\n"
   ]
  },
  {
   "attachments": {},
   "cell_type": "markdown",
   "metadata": {},
   "source": [
    "# Mini-hack\n",
    "\n",
    "Write out a mixin in SASS that takes in a color and a font size as the parameter. Within the mixin, set the background color and font color to the color parameter, and set the font size to the font size parameter. Then create a selector that calls the mixin, and pass in a color and font size of your choice as the arguments."
   ]
  },
  {
   "attachments": {},
   "cell_type": "markdown",
   "metadata": {},
   "source": [
    "@mixin buttonLayout($innerColor, $outerColor) {\n",
    "\n",
    "\tbackground: radial-gradient($innerColor, $outerColor);\n",
    "\n",
    "}\n",
    "\n",
    ".gettingStartedButton {\n",
    "\n",
    "\t@include buttonLayout(#1539db, #8a8ce6);\n",
    "\n",
    "}\n",
    "\n",
    "@mixin buttonLayout($innerColor, $outerColor) {\n",
    "\n",
    "\tbackground: radial-gradient($innerColor, $outerColor);\n",
    "\n",
    "\twidth: 15em;\n",
    "\n",
    "\theight: 15em;\n",
    "\n",
    "\tcolor: #FF0000;\n",
    "\n",
    "\tmargin-right: 10%;\n",
    "\n",
    "\tborder-radius: 2em;\n",
    "\n",
    "}\n",
    "\n",
    "$font-size: 16px;\n",
    "\n",
    "body {\n",
    "    font-size: $font-size * 1.6; \n",
    "}"
   ]
  },
  {
   "attachments": {},
   "cell_type": "markdown",
   "metadata": {},
   "source": [
    "# Function\n",
    "\n",
    "- To change between light mode and dark mode, there is a way to create an invert function in SASS\n",
    "\n",
    "- Functions are called by specifying the functtion name with parenthesis.\n"
   ]
  },
  {
   "attachments": {},
   "cell_type": "markdown",
   "metadata": {},
   "source": [
    "# Import\n",
    "\n",
    "- There are ways to split code into multiple files and then import them into one file.\n"
   ]
  },
  {
   "attachments": {},
   "cell_type": "markdown",
   "metadata": {},
   "source": [
    "# COMPLETE THE QUIZ QUESTIONS"
   ]
  },
  {
   "attachments": {},
   "cell_type": "markdown",
   "metadata": {},
   "source": [
    "1. **What is SASS**\n",
    "    \n",
    "    b. A scripting language that has many styling operations\n",
    "\n",
    "2. **What is the difference between SASS and SCSS?**\n",
    "    \n",
    "    a. They are very similar in their function, but their syntax is slightly different\n",
    "\n",
    "3. **What is an example of an advantage of using SASS over just CSS?**\n",
    "    \n",
    "    a. SASS has more functions than CSS\n",
    "\n",
    "4. **What does SASS stand for?**\n",
    "    \n",
    "    b. Syntactically Awesome Style Sheets\n",
    "\n",
    "5. **Which of the following is NOT an example of an available SASS directive?**\n",
    "    \n",
    "    a. warn\n",
    "\n",
    "6. **The __ directive is used to share rules and relationships between selectors.**\n",
    "    \n",
    "    b. extend\n",
    "\n",
    "7. **What is “@___” called?**\n",
    "    \n",
    "    a. Enhancement"
   ]
  },
  {
   "attachments": {},
   "cell_type": "markdown",
   "metadata": {},
   "source": [
    "# SASS Hacks\n",
    "\n",
    "1. Take notes and complete the mini-hacks. (0.9)\n",
    "\n",
    "2. Complete the [quiz questions](https://lwu1822.github.io/sassy_squad/quizQuestions) and provide your answers in this notebook. (0.9)\n",
    "\n",
    "3. Use SASS to create something that uses either extend or mixin. (0.9)\n",
    "\n",
    "4. Extra credit: Research other SASS features and blog about what you learned or add to your SASS project with any extra features not covered in this lesson. More points will be given if both are done."
   ]
  }
 ],
 "metadata": {
  "language_info": {
   "name": "python"
  },
  "orig_nbformat": 4
 },
 "nbformat": 4,
 "nbformat_minor": 2
}
