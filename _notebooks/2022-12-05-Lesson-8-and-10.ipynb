{
 "cells": [
  {
   "attachments": {},
   "cell_type": "markdown",
   "metadata": {},
   "source": [
    "# First Jupyter Notebook\n",
    "\n",
    "> Hacks \n",
    "\n",
    "- title: Lesson 8 and 10 Hacks\n",
    "- categories: [Lesson Hacks]\n",
    "- toc: true\n",
    "- comments: true\n",
    "- title: Lesson 8 and 10 Hacks"
   ]
  },
  {
   "cell_type": "markdown",
   "metadata": {},
   "source": [
    "### **Hacks** Unit 3 Section 3.8.1 "
   ]
  },
  {
   "cell_type": "markdown",
   "metadata": {},
   "source": [
    "-  Define an Iteration\n",
    " an iteration is a loop that goes on and on until a condition is met.\n",
    "\n",
    "- Make your own example of an iteration with at least 4 steps and a stopping condition(Similar to mine that I did)\n",
    " An example could be that you do a multiple choice quiz that has unlimited tries and you keep taking the quiz over and over until you get 100%, or at least the score you want.\n",
    " 1. you take the quiz for the first time\n",
    " 2. you realize that you get a 70%\n",
    " 3. you try again \n",
    " 4. you get an 80%\n",
    " 5. you try again until you get the score that you want."
   ]
  },
  {
   "cell_type": "markdown",
   "metadata": {},
   "source": [
    "3. Program a simple iteration:"
   ]
  },
  {
   "cell_type": "code",
   "execution_count": 1,
   "metadata": {},
   "outputs": [
    {
     "name": "stdout",
     "output_type": "stream",
     "text": [
      "1\n",
      "2\n",
      "3\n",
      "4\n"
     ]
    }
   ],
   "source": [
    "iterable = [1, 2, 3, 4]\n",
    "\n",
    "for num in iterable:\n",
    "    print(num)"
   ]
  },
  {
   "cell_type": "markdown",
   "metadata": {},
   "source": [
    "### **Hacks** Unit 3 Section 3.8.2"
   ]
  },
  {
   "cell_type": "markdown",
   "metadata": {},
   "source": [
    "-  **What is an iteration statement, in your own words?**\n",
    "An iteration statement is basically a loop that goes on and on until a condition is met\n",
    "- **Create a descending list of numbers using for loop**"
   ]
  },
  {
   "cell_type": "code",
   "execution_count": 2,
   "metadata": {},
   "outputs": [
    {
     "name": "stdout",
     "output_type": "stream",
     "text": [
      "4\n",
      "3\n",
      "2\n",
      "1\n"
     ]
    }
   ],
   "source": [
    "iterable = [4, 3, 2, 1]\n",
    "\n",
    "for num in iterable:\n",
    "    print(num)"
   ]
  },
  {
   "cell_type": "markdown",
   "metadata": {},
   "source": [
    "**Using while loop, make a list of numbers which will form an output of 3,16,29,42,55,68,81**"
   ]
  },
  {
   "cell_type": "code",
   "execution_count": 5,
   "metadata": {},
   "outputs": [
    {
     "name": "stdout",
     "output_type": "stream",
     "text": [
      "3\n",
      "16\n",
      "29\n",
      "42\n",
      "55\n",
      "68\n",
      "81\n"
     ]
    }
   ],
   "source": [
    "n = 81\n",
    "i = 3\n",
    "while i <= n:\n",
    "    print(i)\n",
    "    i+=13"
   ]
  },
  {
   "cell_type": "markdown",
   "metadata": {},
   "source": [
    "## **HACKS** Unit 3 Section 10"
   ]
  },
  {
   "cell_type": "markdown",
   "metadata": {},
   "source": [
    "**Part 1**"
   ]
  },
  {
   "cell_type": "code",
   "execution_count": 6,
   "metadata": {},
   "outputs": [
    {
     "name": "stdout",
     "output_type": "stream",
     "text": [
      "38\n"
     ]
    }
   ],
   "source": [
    "nums = ['38', '45', '67', '83', '78']\n",
    "minimum = min(nums)\n",
    "print(min(nums))"
   ]
  },
  {
   "cell_type": "markdown",
   "metadata": {},
   "source": [
    "**Part 2**"
   ]
  },
  {
   "cell_type": "markdown",
   "metadata": {},
   "source": [
    "**procedures and Procedure calls**\n",
    "- It takes zero or more arguments\n",
    "- The procedures in college board are block statements\n",
    "- The return statemen may appear at any point inside the procedure and causes an immediate retrn from the procedure back to the calling statement\n",
    "\n",
    "**Robot**\n",
    "- It basically gives directions to move left or right. Or rotate it 90 degrees or something like that. Then I think it is kind of like the turtle function where you can actually see a figure moving to those commands\n",
    "\n",
    "**Listing Operations**\n",
    "- there are several ways that you can list things:\n",
    "- [value1, value2, value3]\n",
    "- there are a few more ways to do a list but the one above is the most common way to do it.\n",
    "\n",
    "**Relational and Boolean Operators**\n",
    "- It evaluates true if the condition is false; otherwise evaluates to false\n",
    "- Boolean are true and false statements\n",
    "- the AND and OR statements compare the two conditions and that is a boolean statement because it is a true or false comparison type of statement."
   ]
  },
  {
   "cell_type": "markdown",
   "metadata": {},
   "source": [
    "![screenshot](https://i.paste.pics/K91V7.png)"
   ]
  }
 ],
 "metadata": {
  "kernelspec": {
   "display_name": "Python 3",
   "language": "python",
   "name": "python3"
  },
  "language_info": {
   "codemirror_mode": {
    "name": "ipython",
    "version": 3
   },
   "file_extension": ".py",
   "mimetype": "text/x-python",
   "name": "python",
   "nbconvert_exporter": "python",
   "pygments_lexer": "ipython3",
   "version": "3.8.10"
  },
  "orig_nbformat": 4,
  "vscode": {
   "interpreter": {
    "hash": "916dbcbb3f70747c44a77c7bcd40155683ae19c65e1c03b4aa3499c5328201f1"
   }
  }
 },
 "nbformat": 4,
 "nbformat_minor": 2
}
