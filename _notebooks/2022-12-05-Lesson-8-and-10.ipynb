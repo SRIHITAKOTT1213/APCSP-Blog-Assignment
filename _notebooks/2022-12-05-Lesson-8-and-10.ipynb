{
 "cells": [
  {
   "cell_type": "markdown",
   "metadata": {},
   "source": [
    "# First Jupyter Notebook\n",
    "\n",
    "> Extracting Data \n",
    "\n",
    "- title: Lesson Hacks 8 and 10\n",
    "- permalink: \n",
    "- toc: true\n",
    "- comments: true\n",
    "- title: Lesson Hacks 8 and 10"
   ]
  },
  {
   "cell_type": "markdown",
   "metadata": {},
   "source": [
    "## **HACKS** Unit 3 Section 8"
   ]
  },
  {
   "cell_type": "markdown",
   "metadata": {},
   "source": [
    "-  Define an Iteration\n",
    " an iteration is a loop that goes on and on until a condition is met.\n",
    "\n",
    "- Make your own example of an iteration with at least 4 steps and a stopping condition(Similar to mine that I did)\n",
    " An example could be that you do a multiple choice quiz that has unlimited tries and you keep taking the quiz over and over until you get 100%, or at least the score you want.\n",
    " 1. you take the quiz for the first time\n",
    " 2. you realize that you get a 70%\n",
    " 3. you try again \n",
    " 4. you get an 80%\n",
    " 5. you try again until you get the score that you want."
   ]
  },
  {
   "cell_type": "markdown",
   "metadata": {},
   "source": [
    "3. Program a simple iteration:"
   ]
  }
 ],
 "metadata": {
  "kernelspec": {
   "display_name": "Python 3.9.12 ('base')",
   "language": "python",
   "name": "python3"
  },
  "language_info": {
   "codemirror_mode": {
    "name": "ipython",
    "version": 3
   },
   "file_extension": ".py",
   "mimetype": "text/x-python",
   "name": "python",
   "nbconvert_exporter": "python",
   "pygments_lexer": "ipython3",
   "version": "3.9.12"
  },
  "orig_nbformat": 4,
  "vscode": {
   "interpreter": {
    "hash": "c592ff5847e581e8b66b02dcd331c526c35045e822da212864271a73a90b0063"
   }
  }
 },
 "nbformat": 4,
 "nbformat_minor": 2
}
