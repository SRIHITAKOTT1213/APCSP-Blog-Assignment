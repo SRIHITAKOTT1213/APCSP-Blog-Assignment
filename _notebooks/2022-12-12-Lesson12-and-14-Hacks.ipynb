{
 "cells": [
  {
   "attachments": {},
   "cell_type": "markdown",
   "metadata": {},
   "source": [
    "# First Jupyter Notebook\n",
    "\n",
    "> Extracting Data \n",
    "\n",
    "- title: 3.12- 3.13 Hacks\n",
    "- categories: [Lesson 3.12-3.13]\n",
    "- toc: true\n",
    "- comments: true\n",
    "- title: 3.12- 3.13 Hacks"
   ]
  },
  {
   "attachments": {},
   "cell_type": "markdown",
   "metadata": {},
   "source": [
    "## Hack # 1\n",
    "**Topic 3.12 (3.A):**\n",
    "1. Define **procedure** and **parameter** in your own words\n",
    "- parameters are the variable that you use in code (like name or age) and procedures are kind of a way of telling the program what to do (multiply() or print()).\n",
    "2. Paste a **screenshot** of completion of the quiz\n",
    "![screenshot](https://i.paste.pics/KDJPF.png)\n",
    "3. Define **Return Values** and **Output Parameters** in your own words\n",
    "- a return value basically returns whatever the program is running, which means that it keeps the program running. Output parameters are, I think, the values that the program exits, or outputs. So whatever is printed.\n",
    "4. Code a **procedure** that finds the square root of any given number. (make sure to call and return the function)"
   ]
  },
  {
   "cell_type": "code",
   "execution_count": 7,
   "metadata": {},
   "outputs": [
    {
     "name": "stdout",
     "output_type": "stream",
     "text": [
      "8.0\n"
     ]
    }
   ],
   "source": [
    "x = 64\n",
    "\n",
    "def sqrt(x):\n",
    "    value = x**0.5\n",
    "    return value\n",
    "\n",
    "answer = sqrt(x)\n",
    "print(answer)"
   ]
  },
  {
   "attachments": {},
   "cell_type": "markdown",
   "metadata": {},
   "source": [
    "## Hack #2\n",
    "**Topic 3.13 (3.B):**"
   ]
  },
  {
   "attachments": {},
   "cell_type": "markdown",
   "metadata": {},
   "source": [
    "1. Explain, in your own words, why abstracting away your program logic into separate, modular functions is effective\n",
    "- it makes it more user friendly. Since abstraction hides particular details of how a code works, it makes it both manages complexity and make it more easier for people to see and use.\n",
    "\n",
    "2. Create a procedure that uses other sub-procedures (other functions) within it and explain why the abstraction was needed (conciseness, shared behavior, etc.)"
   ]
  },
  {
   "cell_type": "code",
   "execution_count": 8,
   "metadata": {},
   "outputs": [
    {
     "name": "stdout",
     "output_type": "stream",
     "text": [
      "The Original Values:\n",
      " [4, 9, 16, 25, 36, 49]\n",
      "The Square Root Values:\n",
      " [2.0, 3.0, 4.0, 5.0, 6.0, 7.0]\n"
     ]
    }
   ],
   "source": [
    "import math\n",
    "\n",
    "values = [4, 9, 16, 25, 36, 49]\n",
    "\n",
    "squareroots = [math.sqrt(number) for number in values]\n",
    "\n",
    "print(\"The Original Values:\\n\", values)\n",
    "print(\"The Square Root Values:\\n\", squareroots)"
   ]
  },
  {
   "attachments": {},
   "cell_type": "markdown",
   "metadata": {},
   "source": [
    "The abstraction above is needed, more like prefered, because it makes it easier to take the square root of a bunch of numbers at once, instead of having to type in the square root function for each number. It then becomes really repetative and boring and makes life harder, whereas if we wanted to add a new number to take the square root of, we just add it to the list."
   ]
  },
  {
   "attachments": {},
   "cell_type": "markdown",
   "metadata": {},
   "source": [
    "3. Add another layer of abstraction to the word counter program (HINT: create a function that can count the number of words starting with ANY character in a given string -- how can we leverage parameters for this?)"
   ]
  },
  {
   "attachments": {},
   "cell_type": "markdown",
   "metadata": {},
   "source": [
    "I tried adding a list at the very end. But in this case, it wasn't very efficient but gets the job done."
   ]
  },
  {
   "cell_type": "code",
   "execution_count": 19,
   "metadata": {},
   "outputs": [
    {
     "name": "stdout",
     "output_type": "stream",
     "text": [
      "Words starting with a: 1\n",
      "Words starting with c: 1\n"
     ]
    }
   ],
   "source": [
    "# this function takes a string as input and returns a list of words, where each word\n",
    "# is a separate element in the list\n",
    "def split_string(s):\n",
    "    # use the split() method to split the string into a list of words\n",
    "    words = s.split(\" \")\n",
    "\n",
    "\t# initialize a new list to hold all non-empty strings\n",
    "    new_words = []\n",
    "    for word in words:\n",
    "        if word != \"\":\n",
    "            # add all non-empty substrings of `words` to `new_words`\n",
    "            new_words.append(word)\n",
    "    \n",
    "    return words\n",
    "\n",
    "# this function takes a list of words as input and returns the number of words\n",
    "# that start with the given letter (case-insensitive)\n",
    "def count_words_starting_with_letter(words, letter):\n",
    "    count = 0\n",
    "    \n",
    "    # loop through the list of words and check if each word starts with the given letter\n",
    "    for word in words:\n",
    "        # use the lower() method to make the comparison case-insensitive\n",
    "        if word.lower().startswith(letter):\n",
    "            count += 1\n",
    "    \n",
    "    return count\n",
    "\n",
    "# this function takes a string as input and returns the number of words that start with 'a'\n",
    "def count_words_starting_with_a_in_string(s):\n",
    "    # use the split_string() function to split the input string into a list of words\n",
    "    words = split_string(s)\n",
    "    \n",
    "    # use the count_words_starting_with_letter() function to count the number of words\n",
    "    # that start with 'a' in the list of words\n",
    "    count = count_words_starting_with_letter(words, \"a\")\n",
    "    \n",
    "    return count\n",
    "\n",
    "# see above\n",
    "def count_words_starting_with_d_in_string(s):\n",
    "    words = split_string(s)\n",
    "    count = count_words_starting_with_letter(words, \"d\")\n",
    "    return count\n",
    "\n",
    "def count_words_starting_with_c_in_string(s):\n",
    "    words = split_string(s)\n",
    "    count = count_words_starting_with_letter(words, \"c\")\n",
    "    return count\n",
    "\n",
    "# example usage:\n",
    "s = \"   This is  a  test  string! Don't you think this is cool? \"\n",
    "a_count = count_words_starting_with_a_in_string(s)\n",
    "d_count = count_words_starting_with_d_in_string(s)\n",
    "c_count = count_words_starting_with_c_in_string(s)\n",
    "count_letter = [a_count, d_count, c_count]\n",
    "print(\"Words starting with a:\", a_count)\n",
    "print(\"Words starting with c:\", c_count)"
   ]
  },
  {
   "attachments": {},
   "cell_type": "markdown",
   "metadata": {},
   "source": [
    "## Hack #3\n",
    "**Topic 3.13 (3.C):**\n",
    "\n",
    "1. Define <font color=\"#ffffc2\" style=\"font-weight: bold\">procedure names</font> and <font color=\"#ffffc2\" style=\"font-weight: bold\">arguments</font> in your own words.\n",
    "- A procedure name is a that a function has or a procedure has and arguments are information provided to a function\n",
    "\n",
    "2. Code some <font color=\"#ffffc2\" style=\"font-weight: bold\">procedures</font> that use <font color=\"#ffffc2\" style=\"font-weight: bold\">arguments</font> and <font color=\"#ffffc2\" style=\"font-weight: bold\">parameters</font> with Javascript and HTML (make sure they are interactive on your hacks page, allowing the user to input numbers and click a button to produce an output)\n",
    "  - Add two numbers\n",
    "  - Subtract two numbers\n",
    "  - Multiply two numbers\n",
    "  - Divide two numbers"
   ]
  },
  {
   "attachments": {},
   "cell_type": "markdown",
   "metadata": {},
   "source": [
    "<button id=\"enter\" onclick=\"print(a,b)\">Multiply Button</button>\n",
    "<p id=\"result\"></p>\n",
    "<script>\n",
    "    function print(a,b) {\n",
    "        document.getElementById(\"result\").innerHTML = a * b\n",
    "    }\n",
    "    var a = 7\n",
    "    var b = 10\n",
    "</script>\n",
    "\n",
    "```html\n",
    "<!-- function is called here -->\n",
    "<button id=\"enter\" onclick=\"print(a,b)\">Multiply Button</button> \n",
    "<p id=\"result\"></p>\n",
    "<!-- javascript -->\n",
    "<script>\n",
    "    function print(a,b) {\n",
    "        document.getElementById(\"result\").innerHTML = a * b // math\n",
    "    }\n",
    "    // variables are defined\n",
    "    var a = 7\n",
    "    var b = 10\n",
    "</script>\n",
    "```\n"
   ]
  },
  {
   "attachments": {},
   "cell_type": "markdown",
   "metadata": {},
   "source": [
    "I figured out how to do all of the math functions, but it wouldn't let me do all four of them at the same time. :("
   ]
  }
 ],
 "metadata": {
  "kernelspec": {
   "display_name": "base",
   "language": "python",
   "name": "python3"
  },
  "language_info": {
   "codemirror_mode": {
    "name": "ipython",
    "version": 3
   },
   "file_extension": ".py",
   "mimetype": "text/x-python",
   "name": "python",
   "nbconvert_exporter": "python",
   "pygments_lexer": "ipython3",
   "version": "3.9.12 (main, Apr  5 2022, 06:56:58) \n[GCC 7.5.0]"
  },
  "orig_nbformat": 4,
  "vscode": {
   "interpreter": {
    "hash": "c592ff5847e581e8b66b02dcd331c526c35045e822da212864271a73a90b0063"
   }
  }
 },
 "nbformat": 4,
 "nbformat_minor": 2
}
