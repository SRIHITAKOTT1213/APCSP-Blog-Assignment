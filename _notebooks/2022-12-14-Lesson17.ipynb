{
 "cells": [
  {
   "attachments": {},
   "cell_type": "markdown",
   "metadata": {},
   "source": [
    "# First Jupyter Notebook\n",
    "\n",
    "> Lesson Notes\n",
    "\n",
    "- title: Lesson Notes 3.17 and 3.18 \n",
    "- categories: [Lesson 3.17-3.18]\n",
    "- toc: true\n",
    "- comments: true\n",
    "- title: Lesson Notes 3.17 and 3.18 "
   ]
  }
 ],
 "metadata": {
  "language_info": {
   "name": "python"
  },
  "orig_nbformat": 4
 },
 "nbformat": 4,
 "nbformat_minor": 2
}
