{
 "cells": [
  {
   "cell_type": "code",
   "execution_count": 27,
   "metadata": {},
   "outputs": [
    {
     "name": "stdout",
     "output_type": "stream",
     "text": [
      "[5, 3, 5]\n"
     ]
    }
   ],
   "source": [
    "\n",
    "\n",
    "def parse_input(input_string):\n",
    "    if input_string.strip() in {\"1\", \"2\", \"3\",\"4\", \"5\", \"6\"}:\n",
    "        return int(input_string)\n",
    "    else:\n",
    "        print(\"Please enter a number from 1 to 6.\")\n",
    "        raise SystemExit(1)\n",
    "\n",
    "import random\n",
    "\n",
    "def roll_dice(num_dice):\n",
    "    roll_results = []\n",
    "    for _ in range(num_dice):\n",
    "        roll = random.randint(1, 6)\n",
    "        roll_results.append(roll)\n",
    "    return roll_results\n",
    "\n",
    "\n",
    "num_dice_input = input(\"How many dice do you want to roll? [1-6] \")\n",
    "num_dice = parse_input(num_dice_input)\n",
    "roll_results = roll_dice(num_dice)\n",
    "\n",
    "print(roll_results) # remove this line after testing the app\n",
    "\n"
   ]
  },
  {
   "cell_type": "code",
   "execution_count": 18,
   "metadata": {},
   "outputs": [
    {
     "name": "stdout",
     "output_type": "stream",
     "text": [
      "\n",
      "Simulations Quiz\n",
      "\n",
      " 1. Simulations will always have the same result \n",
      "\n",
      "A : True\n",
      "B : False\n",
      "\n",
      " 2. A simulation has results that are more accurate than an experiment \n",
      "\n",
      "A : True\n",
      "B : False\n",
      "\n",
      " 3. A simulation can model real world events that are not practical for experiments \n",
      "\n",
      "A : True\n",
      "B : False\n",
      "\n",
      " 4. Which one of these is FALSE regarding simulations \n",
      "\n",
      "A : Reduces Costs\n",
      "B : Is safer than real life experiments\n",
      "C : More Efficient\n",
      "D : More accurate than real life experiments\n",
      "\n",
      " 5. Which of the following scenarios would be the LEAST beneficial to have as a simulation \n",
      "\n",
      "A : A retail company wants to identify the item which sold the most on their website\n",
      "B : A restaurant wants to determine if the use of robots will increase efficiency\n",
      "C : An insurance company wants to study the impact of rain on car accidents\n",
      "D : A sports car company wants to study design changes to their new bike design \n",
      "Your score is:\n",
      "0\n"
     ]
    }
   ],
   "source": [
    "questions = \\\n",
    "{\n",
    "    \"1. Simulations will always have the same result\": {\n",
    "        \"A\": \"True\",\n",
    "        \"B\": \"False\"\n",
    "        \n",
    "    },\n",
    "    \"2. A simulation has results that are more accurate than an experiment\": {\n",
    "        \"A\": \"True\",\n",
    "        \"B\": \"False\"\n",
    "       \n",
    "    },\n",
    "    \"3. A simulation can model real world events that are not practical for experiments\": {\n",
    "        \"A\": \"True\",\n",
    "        \"B\": \"False\"\n",
    "   \n",
    "    },\n",
    "    \"4. Which one of these is FALSE regarding simulations\": {\n",
    "        \"A\": \"Reduces Costs\",\n",
    "        \"B\": \"Is safer than real life experiments\",\n",
    "        \"C\": \"More Efficient\",\n",
    "        \"D\": \"More accurate than real life experiments\"\n",
    "    },\n",
    "    \"5. Which of the following scenarios would be the LEAST beneficial to have as a simulation\": {\n",
    "        \"A\": \"A retail company wants to identify the item which sold the most on their website\",\n",
    "        \"B\": \"A restaurant wants to determine if the use of robots will increase efficiency\",\n",
    "        \"C\": \"An insurance company wants to study the impact of rain on car accidents\",\n",
    "        \"D\": \"A sports car company wants to study design changes to their new bike design \"\n",
    "    },\n",
    "        \"6. Which of the following is better to do as a simulation than as a calculation\": {\n",
    "        \"A\": \"Keeping score at a basketball game\",\n",
    "        \"B\": \"Keeping track of how many games a person has won\",\n",
    "        \"C\": \"Determining the average grade for a group of tests\",\n",
    "        \"D\": \"Studying the impact of carbon emissions on the environment\"\n",
    "}\n",
    "}\n",
    "\n",
    "print(\"\\nSimulations Quiz\")\n",
    "prompt = \">>> \"\n",
    "correct_options = ['D', 'C', 'D', 'B', 'A']\n",
    "score_count = 0\n",
    "\n",
    "for correct_option, (question, options) in zip(correct_options, questions.items()):\n",
    "    print(\"\\n\", question, \"\\n\")\n",
    "    for option, answer in options.items():\n",
    "        print(option, \":\", answer)\n",
    "    choice = str(input(prompt))\n",
    "    if choice.upper() == correct_option:\n",
    "        score_count = score_count + 1\n",
    "print(\"Your score is:\")\n",
    "print(score_count)"
   ]
  }
 ],
 "metadata": {
  "kernelspec": {
   "display_name": "Python 3.9.12 ('base')",
   "language": "python",
   "name": "python3"
  },
  "language_info": {
   "codemirror_mode": {
    "name": "ipython",
    "version": 3
   },
   "file_extension": ".py",
   "mimetype": "text/x-python",
   "name": "python",
   "nbconvert_exporter": "python",
   "pygments_lexer": "ipython3",
   "version": "3.9.12 (main, Apr  5 2022, 06:56:58) \n[GCC 7.5.0]"
  },
  "orig_nbformat": 4,
  "vscode": {
   "interpreter": {
    "hash": "c592ff5847e581e8b66b02dcd331c526c35045e822da212864271a73a90b0063"
   }
  }
 },
 "nbformat": 4,
 "nbformat_minor": 2
}
