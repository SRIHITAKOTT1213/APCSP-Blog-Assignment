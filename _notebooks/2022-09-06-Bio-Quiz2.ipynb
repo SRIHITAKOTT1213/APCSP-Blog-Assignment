{
 "cells": [
  {
   "cell_type": "markdown",
   "metadata": {},
   "source": [
    "# Jupyter Notebook\n",
    "\n",
    "> Let's get started!\n",
    "\n",
    "- title: Bio Quiz 2.0\n",
    "- permalink: /Bioquiz/2\n",
    "- toc: true\n",
    "- comments: true\n",
    "- title: Bio  Quiz 2.0\n"
   ]
  },
  {
   "cell_type": "markdown",
   "metadata": {},
   "source": [
    "{% include nav_frontend.html %}"
   ]
  },
  {
   "cell_type": "code",
   "execution_count": 12,
   "metadata": {},
   "outputs": [
    {
     "name": "stdout",
     "output_type": "stream",
     "text": [
      "What medicine do people use when they are sick?\n",
      "name Anti-biotics <class 'str'>\n",
      "\n",
      "How do you know which person got the illness first?\n",
      "answer You know if the person has a lot of antigens in their system. it means they were fighting the disease longer. <class 'str'>\n",
      "\n",
      "What is my ideal score in any class?\n",
      "score 90.0 <class 'float'>\n",
      "\n",
      "There are many types of antibiotics.\n",
      "What are the names of some of them?\n",
      "pills ['amoxicillin', 'Penicillin', 'cephalexin'] <class 'list'> length 3\n",
      "- pills[0] amoxicillin <class 'str'>\n",
      "\n",
      "What is the variable name/key? value? type? primitive or collection, why?\n",
      "What is different about the dictionary output?\n",
      "Question and answers {'name': 'Anti-biotics', 'answer': 'You know if the person has a lot of antigens in their system. it means they were fighting the disease longer.', 'score': 90.0, 'pills': ['amoxicillin', 'Penicillin', 'cephalexin']} <class 'dict'> length 4\n",
      "- questions and answers[\"name\"] Anti-biotics <class 'str'>\n"
     ]
    }
   ],
   "source": [
    "# Sample of Python Variables\n",
    "\n",
    "# variable of type string\n",
    "print(\"What medicine do people use when they are sick?\")\n",
    "name = \"Anti-biotics\"\n",
    "print(\"name\", name, type(name))\n",
    "\n",
    "print()\n",
    "\n",
    "\n",
    "# variable of type integer\n",
    "print(\"How do you know which person got the illness first?\")\n",
    "answer = \"You know if the person has a lot of antigens in their system. it means they were fighting the disease longer.\"\n",
    "print(\"answer\", answer, type(answer))\n",
    "\n",
    "print()\n",
    "\n",
    "# variable of type float\n",
    "print(\"What is my ideal score in any class?\")\n",
    "score = 90.0\n",
    "print(\"score\", score, type(score))\n",
    "\n",
    "print()\n",
    "\n",
    "# variable of type list (many values in one variable)\n",
    "print(\"There are many types of antibiotics.\")\n",
    "print(\"What are the names of some of them?\")\n",
    "pills = [\"amoxicillin\", \"Penicillin\", \"cephalexin\"]\n",
    "print(\"pills\", pills, type(pills), \"length\", len(pills))\n",
    "print(\"- pills[0]\", pills[0], type(pills[0]))\n",
    "\n",
    "print()\n",
    "\n",
    "# variable of type dictionary (a group of keys and values)\n",
    "print(\"What is the variable name/key?\", \"value?\", \"type?\", \"primitive or collection, why?\")\n",
    "print(\"What is different about the dictionary output?\")\n",
    "questions_and_answers = {\n",
    "    \"name\": name,\n",
    "    \"answer\": answer,\n",
    "    \"score\": score,\n",
    "    \"pills\": pills\n",
    "}\n",
    "print(\"Question and answers\", questions_and_answers, type(questions_and_answers), \"length\", len(questions_and_answers))\n",
    "print('- questions and answers[\"name\"]', questions_and_answers[\"name\"], type(questions_and_answers[\"name\"]))\n",
    "\n"
   ]
  }
 ],
 "metadata": {
  "kernelspec": {
   "display_name": "Python 3.8.10 64-bit",
   "language": "python",
   "name": "python3"
  },
  "language_info": {
   "codemirror_mode": {
    "name": "ipython",
    "version": 3
   },
   "file_extension": ".py",
   "mimetype": "text/x-python",
   "name": "python",
   "nbconvert_exporter": "python",
   "pygments_lexer": "ipython3",
   "version": "3.8.10"
  },
  "orig_nbformat": 4,
  "vscode": {
   "interpreter": {
    "hash": "916dbcbb3f70747c44a77c7bcd40155683ae19c65e1c03b4aa3499c5328201f1"
   }
  }
 },
 "nbformat": 4,
 "nbformat_minor": 2
}
