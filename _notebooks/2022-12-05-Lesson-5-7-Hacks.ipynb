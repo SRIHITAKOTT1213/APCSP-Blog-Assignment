{
 "cells": [
  {
   "cell_type": "markdown",
   "metadata": {},
   "source": [
    "# First Jupyter Notebook\n",
    "\n",
    "> Extracting Data \n",
    "\n",
    "- title: Lesson 5-7 Hacks\n",
    "- permalink: \n",
    "- toc: true\n",
    "- comments: true\n",
    "- title: Lesson 5-7 Hacks"
   ]
  },
  {
   "cell_type": "markdown",
   "metadata": {},
   "source": [
    "**Hacks 1:**\n",
    "- Explain in your own words what each logical operator does\n",
    "AND: returns true if both of the values being compared are true and returns false if either of the values are false.\n",
    "OR: Returns true if either of the conditions are true. And returns false if both of the conditions are false.\n",
    "NOT: Returns true if the following condition is false. Returns false if it is true.\n"
   ]
  },
  {
   "cell_type": "markdown",
   "metadata": {},
   "source": [
    "- Code your own scenario that makes sense for each logical operator:"
   ]
  },
  {
   "cell_type": "code",
   "execution_count": 1,
   "metadata": {},
   "outputs": [
    {
     "name": "stdout",
     "output_type": "stream",
     "text": [
      "False\n"
     ]
    }
   ],
   "source": [
    "iswindy = True\n",
    "result = not(iswindy)\n",
    "print(result)"
   ]
  },
  {
   "cell_type": "markdown",
   "metadata": {},
   "source": [
    "**Hack 2:** part 1\n",
    "- **Selection:** A selection is a decision or a question. At some point in the program, the computer may need to ask a question because it has reached a point where there are one or more options available\n",
    "- **Algorithm:** It is like a recipe. It is lines of codes that a computer follows to solve a problem\n",
    "- **Condition:** They are basically a decision making statement in code.\n"
   ]
  },
  {
   "cell_type": "markdown",
   "metadata": {},
   "source": [
    "Conditional Statement part 2"
   ]
  },
  {
   "cell_type": "code",
   "execution_count": 14,
   "metadata": {},
   "outputs": [
    {
     "name": "stdout",
     "output_type": "stream",
     "text": [
      "Welcome!!\n",
      "Welcome!!\n"
     ]
    }
   ],
   "source": [
    "for i in range(2):\n",
    "    password = input(\"Please enter the password\")\n",
    "    if password == \"python\" or password == \"Python\":\n",
    "        print(\"Welcome!!\")\n",
    "    else:\n",
    "        print(\"This password is incorrect\")"
   ]
  },
  {
   "cell_type": "markdown",
   "metadata": {},
   "source": [
    "**Hack 3:**\n",
    "\n",
    "\n",
    "![screenshot](https://i.paste.pics/K8A04.png)\n",
    "![screenshot](https://i.paste.pics/K8A2S.png)\n",
    "![screenshot](https://i.paste.pics/K8A4V.png)"
   ]
  }
 ],
 "metadata": {
  "kernelspec": {
   "display_name": "Python 3.9.12 ('base')",
   "language": "python",
   "name": "python3"
  },
  "language_info": {
   "codemirror_mode": {
    "name": "ipython",
    "version": 3
   },
   "file_extension": ".py",
   "mimetype": "text/x-python",
   "name": "python",
   "nbconvert_exporter": "python",
   "pygments_lexer": "ipython3",
   "version": "3.9.12"
  },
  "orig_nbformat": 4,
  "vscode": {
   "interpreter": {
    "hash": "c592ff5847e581e8b66b02dcd331c526c35045e822da212864271a73a90b0063"
   }
  }
 },
 "nbformat": 4,
 "nbformat_minor": 2
}
