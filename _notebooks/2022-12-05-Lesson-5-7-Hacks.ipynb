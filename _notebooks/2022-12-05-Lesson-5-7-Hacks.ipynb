{
 "cells": [
  {
   "attachments": {},
   "cell_type": "markdown",
   "metadata": {},
   "source": [
    "# First Jupyter Notebook\n",
    "\n",
    "> Hacks\n",
    "\n",
    "- title: Lesson 5-7 Hacks\n",
    "- categories: [Lesson Hacks]\n",
    "- toc: true\n",
    "- comments: true\n",
    "- title: Lesson 5-7 Hacks"
   ]
  },
  {
   "cell_type": "markdown",
   "metadata": {},
   "source": [
    "**Hacks 1:**\n",
    "- Explain in your own words what each logical operator does\n",
    "AND: returns true if both of the values being compared are true and returns false if either of the values are false.\n",
    "OR: Returns true if either of the conditions are true. And returns false if both of the conditions are false.\n",
    "NOT: Returns true if the following condition is false. Returns false if it is true.\n"
   ]
  },
  {
   "cell_type": "markdown",
   "metadata": {},
   "source": [
    "- Code your own scenario that makes sense for each logical operator:"
   ]
  },
  {
   "cell_type": "code",
   "execution_count": 1,
   "metadata": {},
   "outputs": [
    {
     "name": "stdout",
     "output_type": "stream",
     "text": [
      "False\n"
     ]
    }
   ],
   "source": [
    "iswindy = True\n",
    "result = not(iswindy)\n",
    "print(result)"
   ]
  },
  {
   "cell_type": "markdown",
   "metadata": {},
   "source": [
    "**Hack 2:** part 1\n",
    "- **Selection:** A selection is a decision or a question. At some point in the program, the computer may need to ask a question because it has reached a point where there are one or more options available\n",
    "- **Algorithm:** It is like a recipe. It is lines of codes that a computer follows to solve a problem\n",
    "- **Condition:** They are basically a decision making statement in code.\n"
   ]
  },
  {
   "cell_type": "markdown",
   "metadata": {},
   "source": [
    "Conditional Statement part 2"
   ]
  },
  {
   "cell_type": "code",
   "execution_count": 14,
   "metadata": {},
   "outputs": [
    {
     "name": "stdout",
     "output_type": "stream",
     "text": [
      "Welcome!!\n",
      "Welcome!!\n"
     ]
    }
   ],
   "source": [
    "for i in range(2):\n",
    "    password = input(\"Please enter the password\")\n",
    "    if password == \"python\" or password == \"Python\":\n",
    "        print(\"Welcome!!\")\n",
    "    else:\n",
    "        print(\"This password is incorrect\")"
   ]
  },
  {
   "cell_type": "markdown",
   "metadata": {},
   "source": [
    "**Hack 3:**\n",
    "\n",
    "\n",
    "![screenshot](https://i.paste.pics/K8A04.png)\n",
    "![screenshot](https://i.paste.pics/K8A2S.png)\n",
    "![screenshot](https://i.paste.pics/K8A4V.png)"
   ]
  },
  {
   "cell_type": "markdown",
   "metadata": {},
   "source": [
    "Create a piece of code that displays four statements instead of three."
   ]
  },
  {
   "cell_type": "code",
   "execution_count": 17,
   "metadata": {},
   "outputs": [
    {
     "name": "stdout",
     "output_type": "stream",
     "text": [
      "Wednesday\n",
      "Monday\n",
      "Friday\n"
     ]
    }
   ],
   "source": [
    "def get_week_day(argument): \n",
    "\n",
    "    if(argument == 0):\n",
    "        day=\"Sunday\"  \n",
    "    elif(argument == 1):\n",
    "        day=\"Monday\"\n",
    "    elif(argument == 2):\n",
    "        day=\"Tuesday\"\n",
    "    elif(argument == 3):\n",
    "        day=\"Wednesday\"\n",
    "    elif(argument == 4):\n",
    "        day=\"Thursday\"\n",
    "    elif(argument == 5):\n",
    "        day=\"Friday\"\n",
    "    elif(argument == 6):\n",
    "        day=\"Saturday\"\n",
    "    else:\n",
    "        day=\"Invalid day\"\n",
    "\n",
    "    return day \n",
    "\n",
    "# Driver program \n",
    "if __name__ == \"__main__\": \n",
    "\t\n",
    "\tprint (get_week_day(3))\n",
    "\tprint (get_week_day(1))\n",
    "\tprint (get_week_day(5))\n"
   ]
  },
  {
   "cell_type": "markdown",
   "metadata": {},
   "source": [
    "Make piece of code that gives three different recommandations for possible classes to take at a scholl based on two different condtions. These conditions could be if the student likes STEM or not."
   ]
  },
  {
   "cell_type": "code",
   "execution_count": 24,
   "metadata": {},
   "outputs": [
    {
     "name": "stdout",
     "output_type": "stream",
     "text": [
      "Biology\n",
      "AP Calc AB\n",
      "Medical Interventions\n"
     ]
    }
   ],
   "source": [
    "def get_class(argument): \n",
    "\n",
    "    if(argument == 0):\n",
    "        subject=\"Physics\"  \n",
    "    elif(argument == 1):\n",
    "        subject=\"Chemistry\"\n",
    "    elif(argument == 2):\n",
    "        subject=\"Biology\"\n",
    "    elif(argument == 3):\n",
    "        subject=\"AP Calc AB\"\n",
    "    elif(argument == 4):\n",
    "        subject=\"Medical Interventions\"\n",
    "    elif(argument == 5):\n",
    "        subject=\"AP Phsycology\"\n",
    " \n",
    "    return subject\n",
    "\n",
    "# Driver program \n",
    "if __name__ == \"__main__\": \n",
    "\t\n",
    "\tprint (get_class(2))\n",
    "\tprint (get_class(3))\n",
    "\tprint (get_class(4))\n"
   ]
  }
 ],
 "metadata": {
  "kernelspec": {
   "display_name": "Python 3.9.12 ('base')",
   "language": "python",
   "name": "python3"
  },
  "language_info": {
   "codemirror_mode": {
    "name": "ipython",
    "version": 3
   },
   "file_extension": ".py",
   "mimetype": "text/x-python",
   "name": "python",
   "nbconvert_exporter": "python",
   "pygments_lexer": "ipython3",
   "version": "3.9.12 (main, Apr  5 2022, 06:56:58) \n[GCC 7.5.0]"
  },
  "orig_nbformat": 4,
  "vscode": {
   "interpreter": {
    "hash": "c592ff5847e581e8b66b02dcd331c526c35045e822da212864271a73a90b0063"
   }
  }
 },
 "nbformat": 4,
 "nbformat_minor": 2
}
