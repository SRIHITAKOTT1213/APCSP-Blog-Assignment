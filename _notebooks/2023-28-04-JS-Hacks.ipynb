{
 "cells": [
  {
   "attachments": {},
   "cell_type": "markdown",
   "metadata": {},
   "source": [
    "# First Jupyter Notebook\n",
    "\n",
    "> Hacks!!\n",
    "- title: JS Lesson Hacks\n",
    "- toc: true\n",
    "- categories: [Other Projects]\n",
    "- comments: true"
   ]
  },
  {
   "attachments": {},
   "cell_type": "markdown",
   "metadata": {},
   "source": [
    "# Notes/ Completing Code Hacks:\n",
    "### Data types- there are 8 JS data types. \n",
    "> List a few data types that you already know\n",
    "- String\n",
    "- Boolean "
   ]
  },
  {
   "attachments": {},
   "cell_type": "markdown",
   "metadata": {},
   "source": [
    "Write a boolean statement that outputs true"
   ]
  },
  {
   "cell_type": "code",
   "execution_count": 1,
   "metadata": {},
   "outputs": [
    {
     "data": {
      "text/plain": [
       "true"
      ]
     },
     "execution_count": 1,
     "metadata": {},
     "output_type": "execute_result"
    }
   ],
   "source": [
    "Boolean(9 > 1)"
   ]
  },
  {
   "attachments": {},
   "cell_type": "markdown",
   "metadata": {},
   "source": [
    "Edit/add to the code above so that it outputs \"Hello World\""
   ]
  },
  {
   "cell_type": "code",
   "execution_count": null,
   "metadata": {},
   "outputs": [],
   "source": [
    "const myObject = {\n",
    "    'Hello World'\n",
    " };\n",
    " \n",
    " console.log(myObject);\n"
   ]
  },
  {
   "attachments": {},
   "cell_type": "markdown",
   "metadata": {},
   "source": [
    "Object\n",
    "- **Identify the name/keys in the object below:** Elly, Rottweiler, 4\n",
    "- **Identify the values in the object below:** name, breed, age"
   ]
  },
  {
   "attachments": {},
   "cell_type": "markdown",
   "metadata": {},
   "source": [
    "Create a conditional statement about how you would greet someone based on the time of day. "
   ]
  },
  {
   "cell_type": "code",
   "execution_count": 3,
   "metadata": {},
   "outputs": [
    {
     "data": {
      "text/plain": [
       "'Hello'"
      ]
     },
     "execution_count": 3,
     "metadata": {},
     "output_type": "execute_result"
    }
   ],
   "source": [
    "let greeting = 54\n",
    "if (present = true) {\n",
    "    cast = \"Hello\";\n",
    "  } \n",
    " else {\n",
    "    cast = \"Bye\";\n",
    "  }\n",
    "\n",
    "cast"
   ]
  },
  {
   "attachments": {},
   "cell_type": "markdown",
   "metadata": {},
   "source": [
    "### JavaScript in HTML- Questions\n",
    "1. **Where do you store the JavaScript Code?**\n",
    "You can store it in a js file and the name of the file mustt end in js. (ex. example.js)\n",
    "\n",
    "2. **How do you import a JS file into HTML?**\n",
    "Either you import it from an external js file or you just imbed it into the html file using script tags.\n",
    "\n",
    "3. **What is onClick?**\n",
    "It is the push of a button. When you use onclick, the whenever you push a button that uses this there is supposed to be some output that comes out after pressing the button, which is a result of the onclick function.\n",
    "\n",
    "4. **What tag do you use to write JavaScript code?**\n",
    "You use script tags\n"
   ]
  },
  {
   "attachments": {},
   "cell_type": "markdown",
   "metadata": {},
   "source": [
    "# Extra Credit: code a small JavaScript game "
   ]
  },
  {
   "attachments": {},
   "cell_type": "markdown",
   "metadata": {},
   "source": [
    "<!DOCTYPE html>\n",
    "<html lang=\"en\">\n",
    "<head>\n",
    "    <meta charset=\"UTF-8\">\n",
    "    <title>Tic Tac Toe JavaScript Game</title>\n",
    "\t<link rel=\"stylesheet\" href=\"style.css\">\n",
    "</head>\n",
    "<body>\n",
    "\t<h1>Tic Tac Toe Game using</h1>\n",
    "    <div id=\"game\">\n",
    "\t\t<div id=\"board\">\n",
    "\t\t\t<div class=\"square\"></div>\n",
    "\t\t\t<div class=\"square\"></div>\n",
    "\t\t\t<div class=\"square\"></div>\n",
    "\t\t\t<div class=\"square\"></div>\n",
    "\t\t\t<div class=\"square\"></div>\n",
    "\t\t\t<div class=\"square\"></div>\n",
    "\t\t\t<div class=\"square\"></div>\n",
    "\t\t\t<div class=\"square\"></div>\n",
    "\t\t\t<div class=\"square\"></div>\n",
    "\t\t</div>\n",
    "        <div id=\"winner-message\"></div>\n",
    "\t</div>\n",
    "    <button id=\"restart-button\">Restart Game</button>\n",
    "\t<script src=\"tic-tac-toe.js\"></script>\n",
    "</body>\n",
    "</html>"
   ]
  }
 ],
 "metadata": {
  "kernelspec": {
   "display_name": "JavaScript (Node.js)",
   "language": "javascript",
   "name": "javascript"
  },
  "language_info": {
   "file_extension": ".js",
   "mimetype": "application/javascript",
   "name": "javascript",
   "version": "6.11.2"
  },
  "orig_nbformat": 4
 },
 "nbformat": 4,
 "nbformat_minor": 2
}
