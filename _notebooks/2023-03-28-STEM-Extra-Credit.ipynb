{
 "cells": [
  {
   "attachments": {},
   "cell_type": "markdown",
   "metadata": {},
   "source": [
    "# First Jupyter Notebook\n",
    "\n",
    "\n",
    "- title: APCSP STEM Extra Credit\n",
    "- toc: true\n",
    "- permalink: /STEM/ExtraCredit\n",
    "- categories: [Extra Credit]\n",
    "- comments: true"
   ]
  },
  {
   "attachments": {},
   "cell_type": "markdown",
   "metadata": {},
   "source": [
    "**STEM at CSUSM:**\n",
    "- Ashley works in a computing group and she joined physics at Cal state and got a D her first semester but still persevered\n",
    "\n",
    "- She failed calc 1 first time and she failed calc 3 but she still kept going no matter what and those failures didn’t define her\n",
    "\n",
    "- John from Escondido and was a bit of a delinquent in highschool. He got two associates in math and computer science. \n",
    "\n",
    "- He didn’t get to see the campus much while he was a student cause of COVID\n",
    "\n",
    "- Took 6 years of bachelors and a computer science degree is very versatile\n",
    "\n",
    "- Ashley is not the best coder but she still uses python to read data\n",
    "\n",
    "- They are the national leader in social mobility and it is very common to see people get internships in Cal state\n",
    "\n",
    "- Some Pathways include Chemistry, Biochem, Chemical education, physics, biological sciences, computer sciences, Computer Engineering,  M.S and Minor in Mathematics, Electrical Engineering, Biotechnology, and other parts inside these pathways.\n",
    "\n",
    "- Departments: Physics, Chemistry, Biochemistry, Biotechnology, Biological Sciences, Math, Computer science, Software engineering, Electrical engineering, etc.\n",
    "\n",
    "- They have a cyber security club, robotics, 3D printing, women in STEM, society of women Engineers, etc.\n",
    "\n",
    "- An internship is a period of work experience offered by an organization for a limited period of time.\n",
    "\n",
    "- To find internships: Join clubs, check your emails, go to campus events, google is also your best friend\n",
    "\n",
    "- Tips for internships: try to avoid when they are unpaid and apply when you are under qualified because the worst thing they can say is no\n",
    "\n",
    "- Programs: There are a lot of programs that can better your interest such as Summer Scholars Program, Quantum Bridge Program, Other program opportunities.\n",
    "\n",
    "- There are many research programs at cal state San Marcos such as cancer cell research, meteorite, etc\n",
    "\n",
    "- Paying for college: scholarship is privately funded whereas a grant is government funded\n",
    "\n",
    "- Scholarships you would have to look for them and you can get them for anything whereas grant is more economic look as well as grades matter for this\n",
    "\n",
    "- If you have to get a loan then there is a subsidized loan is a loan that is partially funded by the government, unsubsidized loan is getting interest as soon as the semester is over\n",
    "\n",
    "- Financial aid office you can see what you qualify for\n",
    "\n",
    "- There is a teacher scholarship if you want to become a teacher\n",
    "\n",
    "- Mr Mortenson works in a public institution whereas many people work in private institutions \n",
    "\n",
    "- Cal state San Marcos is a teaching school mainly\n",
    "\n",
    "- Graduate schools pay you\n",
    "\n",
    "- If your doing a phd then you should be laid and you shouldn’t have to pay for anything\n"
   ]
  }
 ],
 "metadata": {
  "language_info": {
   "name": "python"
  },
  "orig_nbformat": 4
 },
 "nbformat": 4,
 "nbformat_minor": 2
}
