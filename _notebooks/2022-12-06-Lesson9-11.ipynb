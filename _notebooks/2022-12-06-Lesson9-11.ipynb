{
 "cells": [
  {
   "attachments": {},
   "cell_type": "markdown",
   "metadata": {},
   "source": [
    "# First Jupyter Notebook\n",
    "\n",
    "> Hacks\n",
    "\n",
    "- title: Lesson 9-11 Hacks\n",
    "- categories: [Lesson 3.9-3.11]\n",
    "- toc: true\n",
    "- comments: true\n",
    "- title: Lesson 9-11 Hacks"
   ]
  },
  {
   "cell_type": "markdown",
   "metadata": {},
   "source": [
    "**Hack #1:**\n",
    "- **why is it important to know that algorithms that look different can do the same thing and that algorithms that look the same might have different results?**\n",
    "It is important to know that algorithms look different because that way you know that there is more than one way to solve the problem and you know how to approach the code if there is something wrong with it and you can start fixing it."
   ]
  },
  {
   "cell_type": "markdown",
   "metadata": {},
   "source": [
    "- **for the converted conditional to boolean conversion(0.10)**"
   ]
  },
  {
   "cell_type": "code",
   "execution_count": 2,
   "metadata": {},
   "outputs": [
    {
     "name": "stdout",
     "output_type": "stream",
     "text": [
      "I'll go to school\n"
     ]
    }
   ],
   "source": [
    "am_sick = False\n",
    "am_not_sick = True\n",
    "\n",
    "# setting variables here (same as above to make comparison easier)\n",
    "driveSchool = not(am_sick) and am_not_sick\n",
    "if driveSchool == False:\n",
    "    print(\"I don't want to go to school\")\n",
    "if driveSchool == True:\n",
    "    print(\"I'll go to school\")"
   ]
  },
  {
   "cell_type": "markdown",
   "metadata": {},
   "source": [
    "**Hack #2:**"
   ]
  },
  {
   "cell_type": "code",
   "execution_count": 12,
   "metadata": {},
   "outputs": [
    {
     "name": "stdout",
     "output_type": "stream",
     "text": [
      "9\n",
      "8\n",
      "7\n",
      "6\n",
      "5\n",
      "4\n",
      "3\n",
      "2\n",
      "1\n",
      "0\n",
      "Times Up!!\n"
     ]
    }
   ],
   "source": [
    "countdown = 10\n",
    "while (countdown > 0):\n",
    "    countdown -= 1\n",
    "    print(countdown)\n",
    "    if countdown == 0:\n",
    "        print(\"Times Up!!\")"
   ]
  },
  {
   "attachments": {},
   "cell_type": "markdown",
   "metadata": {},
   "source": [
    "![screenshot](https://i.paste.pics/KARRJ.png)"
   ]
  },
  {
   "attachments": {},
   "cell_type": "markdown",
   "metadata": {},
   "source": [
    "**Hack #3:**"
   ]
  },
  {
   "cell_type": "code",
   "execution_count": 20,
   "metadata": {},
   "outputs": [
    {
     "name": "stdout",
     "output_type": "stream",
     "text": [
      "I'm thinking of a number between 1 and 100.\n",
      "You guessed 96.\n",
      "Guess a number between 0 and 100.\n",
      "You guessed the number in 1 guesses!\n"
     ]
    }
   ],
   "source": [
    "import random\n",
    "\n",
    "#sets variables for the game\n",
    "num_guesses = 0\n",
    "user_guess = 0\n",
    "upper_bound = 100\n",
    "lower_bound = 0\n",
    "\n",
    "#generates a random number\n",
    "number = random.randint(1,100)\n",
    "\n",
    "#print(number)     #for testing purposes\n",
    "\n",
    "print(f\"I'm thinking of a number between 1 and 100.\")\n",
    "\n",
    "#Write a function that gets a guess from the user using input()\n",
    "def guess():\n",
    "    #add something here\n",
    "    return number #add something here \n",
    "\n",
    "#Change the print statements to give feedback on whether the player guessed too high or too low\n",
    "def search(number, guess):\n",
    "    global lower_bound, upper_bound\n",
    "    if guess < number:\n",
    "        print(\"You are bad at guessing\") #change this\n",
    "        lower_bound = guess\n",
    "    elif guess > number:\n",
    "        print(\"You suck :(\") #change this\n",
    "        upper_bound = guess\n",
    "    return lower_bound, upper_bound\n",
    "\n",
    "while user_guess != number:\n",
    "    user_guess = guess()\n",
    "    num_guesses += 1\n",
    "    print(f\"You guessed {user_guess}.\")\n",
    "    lower_bound, upper_bound = search(number, user_guess)\n",
    "    print(f\"Guess a number between {lower_bound} and {upper_bound}.\")\n",
    "\n",
    "print(f\"You guessed the number in {num_guesses} guesses!\")"
   ]
  },
  {
   "attachments": {},
   "cell_type": "markdown",
   "metadata": {},
   "source": [
    "![screenshot](https://i.paste.pics/KATG1.png)"
   ]
  },
  {
   "attachments": {},
   "cell_type": "markdown",
   "metadata": {},
   "source": [
    "**Hacks #4:**"
   ]
  },
  {
   "attachments": {},
   "cell_type": "markdown",
   "metadata": {},
   "source": [
    "1. calculate the middle index and create a binary tree for each of these lists\n",
    "- 12, 14, 43, **57**, 79, 80, 99\n",
    "- 92, 43, 74, **66**, 30, 12, 1\n",
    "- 7, 13, 96, **111**, 33, 84, 60\n"
   ]
  },
  {
   "attachments": {},
   "cell_type": "markdown",
   "metadata": {},
   "source": [
    "Binary Trees:"
   ]
  },
  {
   "attachments": {},
   "cell_type": "markdown",
   "metadata": {},
   "source": [
    "![screenshot](https://i.paste.pics/KATOF.png)\n",
    "![screenshot](https://i.paste.pics/KATQV.png)\n",
    "![screenshot](https://i.paste.pics/KATSK.png)"
   ]
  },
  {
   "attachments": {},
   "cell_type": "markdown",
   "metadata": {},
   "source": [
    "2. **Using one of the sets of numbers from the question above, what would be the second number looked at in a binary search if the number is more than the middle number?**\n",
    "- For the first set, it would be 80. For the second set, it would be 12 and for the third set it would be 84."
   ]
  },
  {
   "attachments": {},
   "cell_type": "markdown",
   "metadata": {},
   "source": [
    "3. Which of the following lists can NOT a binary search be used in order to find a targeted value?\n",
    "\n",
    "a. [\"amy\", \"beverly\", \"christian\", \"devin\"]\n",
    "\n",
    "b. [-1, 2, 6, 9, 19]\n",
    "\n",
    "c. [3, 2, 8, 12, 99]\n",
    "\n",
    "d. [\"xylophone\", \"snowman\", \"snake\", \"doorbell\", \"author\"]\n",
    "\n",
    "- I think that C is the correct answer because it has to go in acending order."
   ]
  }
 ],
 "metadata": {
  "kernelspec": {
   "display_name": "Python 3.9.12 ('base')",
   "language": "python",
   "name": "python3"
  },
  "language_info": {
   "codemirror_mode": {
    "name": "ipython",
    "version": 3
   },
   "file_extension": ".py",
   "mimetype": "text/x-python",
   "name": "python",
   "nbconvert_exporter": "python",
   "pygments_lexer": "ipython3",
   "version": "3.9.12 (main, Apr  5 2022, 06:56:58) \n[GCC 7.5.0]"
  },
  "orig_nbformat": 4,
  "vscode": {
   "interpreter": {
    "hash": "c592ff5847e581e8b66b02dcd331c526c35045e822da212864271a73a90b0063"
   }
  }
 },
 "nbformat": 4,
 "nbformat_minor": 2
}
