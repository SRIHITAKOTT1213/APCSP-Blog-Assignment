{
 "cells": [
  {
   "attachments": {},
   "cell_type": "markdown",
   "metadata": {},
   "source": [
    "# First Jupyter Notebook\n",
    "\n",
    "\n",
    "- title: 5.3 and 5.4 Notes\n",
    "- categories: [Unit 5]\n",
    "- permalink: /Unit5/3&4\n",
    "- toc: true\n",
    "- comments: true"
   ]
  },
  {
   "attachments": {},
   "cell_type": "markdown",
   "metadata": {},
   "source": [
    "## Part 1\n",
    "**Google “What age groups use Facebook” vs “… TikTok”? What does the data say? Is there purposeful exclusion in these platforms? Is it harmful? Should it be corrected? Is it good business?**\n",
    "- Facebook users are around 25+ and attracting a more older community and tik tok is more for the newer community\n",
    "\n",
    "- Facebook is mainly sharing photos and tik tok is more of sharing videos\n",
    "\n",
    "- This age gap could divide the old and new generation\n",
    "\n",
    "- I don’t think the division is that big and it is good business because there are target ads for each group\n",
    "\n",
    "- There could  be some content on either Facebook or Tik Tok that is not meant for people who are underaged for it.\n",
    "\n",
    "**Why do virtual assistants have female voices? Amazon, Alexa Google, Apple Siri. Was this purposeful? Is it harmful? Should it be corrected? Is it good business?**\n",
    "- Females have softer voices so it makes customers more comfortable. It could be a bias based on previous gender roles.\n",
    "\n",
    "- There is an option to change the voice to a male or a different accent\n",
    "\n",
    "**Talk about an algorithm that influences your decisions, think about these companies (ie FAANG - Facebook, Amazon, Apple,Netflix, Google)**\n",
    "- Netflix algorithm shows you what shows you’ve already seen and comes up with movies you might want based on what you have already seen\n",
    "\n",
    "- On youtube if you watch a certain video, then youtube will prompt you to watch more of that video because you already viewed it once."
   ]
  },
  {
   "attachments": {},
   "cell_type": "markdown",
   "metadata": {},
   "source": [
    "## Part 2\n",
    "**Does the owner of the computer think this was intentional?** **If yes or no, justify you conclusion.**\n",
    "- Maybe he just doesn't feel included and he might think that it is intentional that the computer doesn't follow his face, cause he has darker skin, but it follows his light skinned co-worker\n",
    "\n",
    "**How do you think this happened?**\n",
    "- This might have happened because HP only tested their face recognition only on what people so when a person with darker skinned uses the face ID, the program didn't work as intended.\n",
    "\n",
    "**Is this harmful? Was it intended to be harmful or exclude?**\n",
    "- Yes, because this type of technology is excluding people just because they look different and that is not their fault. It should work for everyone and it could make people feel excluded.\n",
    "\n",
    "**Should it be corrected?**\n",
    "- Yes, because more than one type of person should be able to use face recognition.\n",
    "\n",
    "**What would you or should you do to produce a better outcome?**\n",
    "- Get everyone's perspective so they can reduce the amount of Bias that goes into the project.\n",
    "\n",
    "\n",
    "**Hacks:**\n",
    "I think that there are many negatives as well as positive to everything technology and that it is important to encourage diversity in the team so that every view point is acknowledged to make the project work for everyone."
   ]
  },
  {
   "attachments": {},
   "cell_type": "markdown",
   "metadata": {},
   "source": [
    "**5.4 Notes:**\n",
    "- the more you crowdsource, the more you can reduce bias\n",
    "\n",
    "- ex. learning history in one state might portray the U.S as good while others may view the U.S as not so good.\n",
    "\n",
    "- Facebook users are around 25+ and attracting a more older community and tik tok is more for the newer community\n",
    "\n",
    "- Facebook is mainly sharing photos and tik tok is more of sharing videos\n",
    "\n",
    "- This age gap could divide the old and new generation\n",
    "\n",
    "- I don’t think the division is that big and it is good business because there are target ads for each group\n",
    "\n",
    "- There could  be some content on either Facebook or Tik Tok that is not meant for people who are underaged for it.\n",
    "\n",
    "- Females have softer voices so it makes customers more comfortable. It could be a bias based on previous gender roles.\n",
    "\n",
    "- Netflix algorithm shows you what shows you’ve already seen and comes up with movies you might want based on what you have already seen\n",
    "\n",
    "\n",
    "\n",
    "**Hacks**\n",
    "**CompSci has 150 ish principles students. Describe a crowdsource idea and how you might initiate it in our environment?**\n",
    "- Maybe combine classes to talk sometime, because there are a  lot of people in each class and when we all come together we can share ideas. We already combined classes once or twice before but for different reasons but that idea could work.\n",
    "\n",
    "**What about Del Norte crowdsourcing? Could your project be better with crowdsourcing?**\n",
    "If we opened it up to people at Del Norte them they could give us their opinion on our project and ideas on howw to make it better.\n",
    "\n",
    "**What kind of data could you capture at N@tM to make evening interesting? Perhaps use this data to impress Teachers during finals week.**\n",
    "Maybe things that we use in school? I am not really sure what a workout would do to others but we could look at others and get an idea on how we can make our project better."
   ]
  }
 ],
 "metadata": {
  "kernelspec": {
   "display_name": "base",
   "language": "python",
   "name": "python3"
  },
  "language_info": {
   "name": "python",
   "version": "3.9.12"
  },
  "orig_nbformat": 4,
  "vscode": {
   "interpreter": {
    "hash": "c592ff5847e581e8b66b02dcd331c526c35045e822da212864271a73a90b0063"
   }
  }
 },
 "nbformat": 4,
 "nbformat_minor": 2
}
