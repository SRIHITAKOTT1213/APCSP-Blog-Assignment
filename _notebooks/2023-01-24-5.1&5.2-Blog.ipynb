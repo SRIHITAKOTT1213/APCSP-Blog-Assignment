{
 "cells": [
  {
   "attachments": {},
   "cell_type": "markdown",
   "metadata": {},
   "source": [
    "# First Jupyter Notebook\n",
    "\n",
    "\n",
    "- title: 5.1 & 5.2 Blog\n",
    "- categories: [Unit 5]\n",
    "- permalink: /Unit5/1&2\n",
    "- toc: true\n",
    "- comments: true"
   ]
  },
  {
   "attachments": {},
   "cell_type": "markdown",
   "metadata": {},
   "source": [
    "# Notes on 5.1 and 5.2"
   ]
  },
  {
   "attachments": {},
   "cell_type": "markdown",
   "metadata": {},
   "source": [
    "- Chat GPT was sponsored by microsoft and put 1 million dollars in it\n",
    "\n",
    "- Chat GPT is good because it gives you an answer right away but it is bad because it only gives you one point of view whereas in our work we often have to consider multiple.\n",
    "\n",
    "- Computer bias is something we have to take into consideration as programmers\n",
    "\n",
    "- Ex. face recognition only worked on light skinned people because they only tested on light skinned people, so when they put it out into the world it didn’t work on darker skinned people. That is an example of bias.\n",
    "\n",
    "- In the future, with AI’s and stuff, we might need to learn how to work with it, not against it.\n",
    "\n",
    "- Technology is not always positive just as it is not always negative.\n",
    "\n",
    "- Google has supercomputers, 4 billion dollar headquarters, better wifi, so they have more resources when compared to highschool students.\n"
   ]
  },
  {
   "attachments": {},
   "cell_type": "markdown",
   "metadata": {},
   "source": [
    "# Reflection Questions (Blog)"
   ]
  },
  {
   "attachments": {},
   "cell_type": "markdown",
   "metadata": {},
   "source": [
    "**5.1:**\n",
    "**Come up with three of your own Beneficial and corresponding Harmful Effects of Computing**\n",
    "- **Pros**: **1)** websites like google allow people to get information that can help them with school homework, getting internships, fixing a car, and any other information that you need in order to get the task at hand done. **2)** It is faster for designs and creation and in a way you can back up data so that way it is in a safe spot and you won't lose the data. **3)** Websites have different perspectives so you can get even more information on a topic than you would if it were just one perspective.\n",
    "**Cons:** **1)** Sometimes the information on the websites might not be true or might be biased, so the information might not be accurate. **2)** If you forget to save your data, because it is as much as you as it is a computer, then there is a chance that everything that you had could be lost and might not be able to be recovered. **3)** Sometimes those different perspectives lead to contraversy and it might be hard to come to a conclusion to what the information from the sources are trying to say. It may be more anticlamatic.\n",
    "\n",
    "**Talk about dopamine issues above. Real? Parent conspiracy? Anything that is impacting your personal study and success in High School?**\n",
    "- I personally have nothing impacting my studies from school and I do believe that dopamine issues are real under the right circumstance. My parents always tell me not to watch too much of the screen because they say that it ruins your eyes and disrupts your sleep, and I believe that, which makes that a negative. I don't need computers or devices to be happy but that doesn't mean that it doesn't contribute to my happiness. For me, watching movies is a nice pass time, but I get happiness from spending time with my friends (Like I did this weekend)."
   ]
  },
  {
   "attachments": {},
   "cell_type": "markdown",
   "metadata": {},
   "source": [
    "**5.2:**\n",
    "**How does someone empower themself in a digital world?**\n",
    "- I think the best way someone can empower themself in the digital world is to learn as much as they can whenever they can. If you don't have a phone, for example, but your parents do, you can always ask to borrow it or that they can help out with texting someone or something, and learn how to use it. \n",
    "\n",
    "**How does someone that is empowered help someone that is not empowered? Describe something you could do at Del Norte HS.**\n",
    "- I think the best example of this is APCSP because I learn from other people who have experience with code and I get them to help me and them explaining it helps us both. It lets me gain knowledge on the digital world and helps reinforce theirs, making it a win win situation.\n",
    "\n",
    "**Is paper or red tape blocking digital empowerment? Are there such barriers at Del Norte? Elsewhere?**\n",
    "- I think it depends on the type of people you are with. Right now I think that we are in a digital age and that paper is only used in some, and not all, classes and that most are embracing the fact of using the devices. For me, I use my computer as much as a use paper and I think that in the future, more devices will be used and less of paper because it is both enviornmentally friendly and more convenient."
   ]
  },
  {
   "attachments": {},
   "cell_type": "markdown",
   "metadata": {},
   "source": [
    "# Reflection Questions (Canvas)"
   ]
  },
  {
   "attachments": {},
   "cell_type": "markdown",
   "metadata": {},
   "source": [
    "**Think of three beneficial effects of your projects based on 5.1 Unit**\n",
    "- **1)** It gives a place where people can record their workouts so they can keep track. **2)** Helps people find motivation to continue their workouts. **3)** They can keep a record and make a plan to work towards their goal.\n",
    "\n",
    "**Think of a potential harmful effect of your project.**\n",
    "- It could be hard for people to keep recording their workouts in the long run because it is tedious to maintain and if they don't then they lose track of their workouts.\n",
    "\n",
    "**What are pros/cons on internet blockers at router and lack of admin password on lab machines at school?**\n",
    "- Pros to having internet blockers means that people won't be able to view inappropriate content, at least during the school day, and not having an admin password for lab machines means that anyone can use it if they really need to. Cons of having internet blockers is that half the stuff we do is on the computer and data plan can only last so long, so we would need internet and the lack of internet would be a problem. and a con for not having an admin password to lab machines means that people with bad intentions can damage it so that no one else can use it, which isn't great.\n",
    "\n",
    "**What concerns do you have personally about the digital divide?  For yourself or for others.**\n",
    "- I personally don't have any concerns about digital divide. But I do feel sad that there are those who aren't as privileged as the people at Del Norte so they have limited oppurtunites to learn what we do. "
   ]
  }
 ],
 "metadata": {
  "kernelspec": {
   "display_name": "base",
   "language": "python",
   "name": "python3"
  },
  "language_info": {
   "name": "python",
   "version": "3.9.12"
  },
  "orig_nbformat": 4,
  "vscode": {
   "interpreter": {
    "hash": "c592ff5847e581e8b66b02dcd331c526c35045e822da212864271a73a90b0063"
   }
  }
 },
 "nbformat": 4,
 "nbformat_minor": 2
}
