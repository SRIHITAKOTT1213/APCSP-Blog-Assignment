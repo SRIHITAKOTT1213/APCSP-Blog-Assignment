{
 "cells": [
  {
   "cell_type": "code",
   "execution_count": null,
   "metadata": {
    "vscode": {
     "languageId": "html"
    }
   },
   "outputs": [],
   "source": [
    "<table>\n",
    "    <tr>\n",
    "        <td><img src=\"{{site.baseurl}}//images/logo.png\" height=\"60\" title=\"Frontend\" alt=\"\"></td>\n",
    "        <td><a href=\"https://srihitakott1213.github.io/APCSP-Blog-Assignment/2022/09/20/The-Good-Life-Notes.html\">The Good Life Notes</a></td>\n",
    "        <td><a href=\"https://srihitakott1213.github.io/APCSP-Blog-Assignment/2022/09/11/Applab-Game.html\">App Lab Games</a></td>\n",
    "        <td><a href=\"https://srihitakott1213.github.io/APCSP-Blog-Assignment/2022/09/07/APCSP-Panel-Notes.html\">APCSP Panel Notes</a></td>\n",
    "        <td><a href=\"https://srihitakott1213.github.io/APCSP-Blog-Assignment/2022/09/06/Biology-Quiz.html\">Biology Quiz</a></td>\n",
    "        <td><a href=\"https://srihitakott1213.github.io/APCSP-Blog-Assignment/2022/09/06/Bio-Quiz2.html\">Bio Quiz 2.0</a></td>\n",
    "        <td><a href=\"https://srihitakott1213.github.io/APCSP-Blog-Assignment/2022/09/25/PBL-js_tutorial.html\">JavaScript</a></td>\n",
    "        <td><a href=\"https://srihitakott1213.github.io/APCSP-Blog-Assignment/2022/09/04/Python-Lists.html\">Python Lists</a></td>\n",
    "        <td><a href=\"https://srihitakott1213.github.io/APCSP-Blog-Assignment/2022/09/04/Bash-Project.html\">Bash Checks</a></td>\n",
    "    </tr>\n",
    "</table>"
   ]
  },
  {
   "cell_type": "markdown",
   "metadata": {},
   "source": [
    "# First Jupyter Notebook\n",
    "\n",
    "> Team work!\n",
    "\n",
    "- title: The Good Life Notes\n",
    "- toc: true\n",
    "- comments: true\n",
    "- title: The Good Life Notes"
   ]
  },
  {
   "cell_type": "markdown",
   "metadata": {},
   "source": [
    "**Key Points**\n",
    "- You can know the science of what makes you happy, but unless you practice it, you won't get any happier.\n",
    "- What we predict is going to make us happy, doesn't actually make us as happy as we think it will.\n",
    "- If you desire happiness, it requires perminent changes and effort everyday of your life.\n",
    "- Our mind lies to us when we think that something will make us happy (like money), when it really doesn't\n",
    "- Happy people prioritize people they care about first, and they are very social\n",
    "- Connecting with other people increases your wellbeing\n",
    "- Helping others hhelps us more then we expect"
   ]
  },
  {
   "cell_type": "markdown",
   "metadata": {},
   "source": [
    "![Infographic](https://www48.online-convert.com/dl/web7/download-file/44011846-c734-43f7-a20f-17c796d66565/2022-09-20%20%281%29.png)"
   ]
  }
 ],
 "metadata": {
  "kernelspec": {
   "display_name": "Python 3.9.12 ('base')",
   "language": "python",
   "name": "python3"
  },
  "language_info": {
   "name": "python",
   "version": "3.9.12"
  },
  "orig_nbformat": 4,
  "vscode": {
   "interpreter": {
    "hash": "c592ff5847e581e8b66b02dcd331c526c35045e822da212864271a73a90b0063"
   }
  }
 },
 "nbformat": 4,
 "nbformat_minor": 2
}
