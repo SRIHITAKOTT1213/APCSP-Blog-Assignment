{
 "cells": [
  {
   "attachments": {},
   "cell_type": "markdown",
   "metadata": {},
   "source": [
    "# First Jupyter Notebook\n",
    "\n",
    "\n",
    "- title: CPT write up\n",
    "- toc: true\n",
    "- permalink: /CPT/Outline\n",
    "- categories: [Other Projects]\n",
    "- comments: true"
   ]
  },
  {
   "attachments": {},
   "cell_type": "markdown",
   "metadata": {},
   "source": [
    "**Row 1 (Purpose & Function):**\n",
    "- The overall purpose of the program is for people to be able to record their workouts, find motivation to continue their workouts, and use the website for educational purpose (P.E).\n",
    "\n",
    "- The video shows the user typing in their name, the date they completed their workout, what type of workout they did, and the duration into the form and then that data gets added to the table.\n",
    "\n",
    "- When the user inputs their name and the other information, that data is sent to be stored in the database (helped being transmitted with the API) and the information comes back to the frontend to be displayed on the table.\n",
    "\n",
    "**Row 2 (Data Abstraction):**\n",
    "\n",
    "\n",
    "![screenshot](https://i.paste.pics/6e818f87ebea86fe4b6fac60c43e9fd7.png)\n",
    "\n",
    "\n",
    "\n",
    "![screenshot](https://i.paste.pics/cf2e482881728cb8592f5cb3d86c9fcf.png)\n",
    "\n",
    "- The list is called uo\n",
    "\n",
    "- The data contained in the list is the ID assigned to each section of the form the user has to input. (ex. name, workout type, etc.)\n",
    "\n",
    "**Row 3 (Managing Complexity):**\n",
    "- The list manages complexity because there is only a numbered amount of places where every user has their information (lets say 4 places) instead of having countless number of variables for each user (if there were 50 people using the program, then having 50 lists, one for each person, would make it less efficient). It's better to have just a few variables (one for ALL names, and one for ALL workouts) than to have one for each person for multiple people. (The list is above)\n",
    "\n",
    "**Row 4 (Procedural Abstraction):**\n",
    "![screenshot](https://i.paste.pics/db3a6b67be28221df57b783dce3ee73c.png)\n",
    "\n",
    "![screenshot](https://i.paste.pics/8717f455f8de4a85a97d4a53b92eb56d.png)\n",
    "\n",
    "- What this does is it takes the uo list and uses create which is what allows the user to add on a new row in the table.\n",
    "\n",
    "**Row 5 (Algorithm Implementation):**\n",
    "![screenshot](https://i.paste.pics/a7de5d9067ffb4ab461d09b98c5b4c44.png)\n",
    "\n",
    "- It basically repeats each step if the user doesn't input something and makes the user type what is needed in order to move onto the next step. If the user were to type in nothing, it wouldn't move forward and add a blank table. The user needs to input something in order for the program to work.\n",
    "\n",
    "\n",
    "\n",
    "**Row 6 (Testing):**\n",
    "- First Call: The user inputs their name, workout, the date, and # of hours and submit\n",
    "   - Conditions: It checks if the data is being added\n",
    "   - Result: Data will appear in the table just below the form\n",
    "\n",
    "- Second Call: User enters something that is not accepted by the program (like numbers in the name entry)\n",
    "   - Conditions: Checks if the data is valid and if it is invalid it will get rid of it.\n",
    "   - Result: The program will return a message asking the user to correct their error."
   ]
  }
 ],
 "metadata": {
  "kernelspec": {
   "display_name": "base",
   "language": "python",
   "name": "python3"
  },
  "language_info": {
   "name": "python",
   "version": "3.9.12"
  },
  "orig_nbformat": 4,
  "vscode": {
   "interpreter": {
    "hash": "c592ff5847e581e8b66b02dcd331c526c35045e822da212864271a73a90b0063"
   }
  }
 },
 "nbformat": 4,
 "nbformat_minor": 2
}
