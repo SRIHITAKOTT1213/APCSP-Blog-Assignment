{
 "cells": [
  {
   "attachments": {},
   "cell_type": "markdown",
   "metadata": {},
   "source": [
    "# First Jupyter Notebook\n",
    "\n",
    "\n",
    "- title: CPT write up\n",
    "- toc: true\n",
    "- permalink: /CPT/Outline\n",
    "- categories: [Other Projects]\n",
    "- comments: true"
   ]
  },
  {
   "attachments": {},
   "cell_type": "markdown",
   "metadata": {},
   "source": [
    "**Row 1 (Purpose & Function):**\n",
    "- For the workout log, you input your name, last name, workout, and the number of hours you've done that workout and the program is supposed to take that information and put it into a table that is right below the workout log.\n",
    "\n",
    "- The purpose of the program is for people to be able to record their workouts and helps them to be organized and keep track of their workouts so they can work towards a goal\n",
    "\n",
    "- The function of the program is that  when you input the information in the form, the data is organized and put into a table right below it.\n",
    "\n",
    "- The input is your name, workout, the date, and the number of hours and the output is that information appearing on a table.\n",
    "\n",
    "**Row 2 (Data Abstraction):**\n",
    "- The list contains the information that was inputted\n",
    "\n",
    "- The name is a class called workouts\n",
    "\n",
    "- The data in the list is whatever the user inputted into the form that they want added to their workout log.\n",
    "\n",
    "**Row 3 (Managing Complexity):**\n",
    "- Again, the list will be the information that was inputted by the user (name, date, workout, hours)\n",
    "\n",
    "- The list manages complexity because there is only a numbered amount of places where every user has their information (lets say 4 places) instead of having countless number of variables for each user (if there were 50 people using the program, then having 50 lists, one for each person, would make it less efficient). The written work is still in progress\n",
    "\n",
    "**Row 4 (Procedural Abstraction):**\n",
    "- Not sure what code segment I want to show for this part, but I will figure that part out\n",
    "\n",
    "- Like I said, still haven't figured that part out, but it will allow the user to actually  be able to add onto the table so they can keep track of their workouts.\n",
    "\n",
    "**Row 5 (Algorithm Implementation):**\n",
    "- Haven't finished the code for the workout log yet so that is still a work in progress as well.\n",
    "\n",
    "- Once the code is finished, then I will go into steps on how it works and figure out how to explain so someoe can replicate but not write an entire essay on it.\n",
    "\n",
    "- Database contains lists for listing the variables, there is a piece of code that gets rid of grabage data so that is selection, \n",
    "\n",
    "**Row 6 (Testing):**\n",
    "- First Call: The user inputs their name, workout, the date, and # of hours and submit\n",
    "   - Conditions: It checks if the data is being added\n",
    "   - Result: Data will appear in the table just below the form\n",
    "\n",
    "- Second Call: User enters something that is not accepted by the program (like numbers in the name entry)\n",
    "   - Conditions: Checks if the data is valid and if it is invalid it will get rid of it.\n",
    "   - Result: The program will return a message asking the user to correct their error."
   ]
  }
 ],
 "metadata": {
  "kernelspec": {
   "display_name": "base",
   "language": "python",
   "name": "python3"
  },
  "language_info": {
   "name": "python",
   "version": "3.9.12"
  },
  "orig_nbformat": 4,
  "vscode": {
   "interpreter": {
    "hash": "c592ff5847e581e8b66b02dcd331c526c35045e822da212864271a73a90b0063"
   }
  }
 },
 "nbformat": 4,
 "nbformat_minor": 2
}
