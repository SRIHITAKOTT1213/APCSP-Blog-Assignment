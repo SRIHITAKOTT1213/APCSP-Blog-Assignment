{
 "cells": [
  {
   "attachments": {},
   "cell_type": "markdown",
   "metadata": {},
   "source": [
    "# First Jupyter Notebook\n",
    "\n",
    "> Hacks!!\n",
    "- title: Tech Talk Hacks\n",
    "- toc: true\n",
    "- categories: [Other Projects]\n",
    "- comments: true"
   ]
  },
  {
   "attachments": {},
   "cell_type": "markdown",
   "metadata": {},
   "source": [
    "# Sorting Algorithms Hacks:"
   ]
  },
  {
   "attachments": {},
   "cell_type": "markdown",
   "metadata": {},
   "source": [
    "### Popcorn Hack:"
   ]
  },
  {
   "attachments": {},
   "cell_type": "markdown",
   "metadata": {},
   "source": [
    "**This Code is using Merge Sort:**\n",
    "\n",
    " Merge sort of reminds me of a binary search because this breaks the list in halves and then sorts the those smaller parts before putting itself back together in the right sorted order. Binary search also cuts the list in half but instead of sorting, it is looking for the number in one of the halves and gets rid of the half that doesn't have the number it wants (although the list has to be sorted already)."
   ]
  },
  {
   "cell_type": "code",
   "execution_count": 58,
   "metadata": {},
   "outputs": [
    {
     "name": "stdout",
     "output_type": "stream",
     "text": [
      "Random List\n",
      "['blaflum', 'nebularize', 'voltaite', 'bishophood', 'housebound', 'Franciscanism', 'psychosensory', 'ovolo', 'ak', 'sadistically']\n",
      "Random List:\n",
      "['Loricata', 'Rupicola', 'aeromantic', 'bedral', 'biosterin', 'galactodensimeter', 'hilding', 'ungenius', 'unmortifiedness', 'warrantable']\n"
     ]
    },
    {
     "name": "stderr",
     "output_type": "stream",
     "text": [
      "[nltk_data] Downloading package words to /home/srihitak/nltk_data...\n",
      "[nltk_data]   Package words is already up-to-date!\n"
     ]
    }
   ],
   "source": [
    "import nltk\n",
    "import random\n",
    "from nltk.corpus import words\n",
    "nltk.download('words')  # Download the word list (only required once)\n",
    "english_words = words.words()\n",
    "\n",
    "def new_words():\n",
    "    # You can now use the 'english_words' list in your code\n",
    "    random_words = []\n",
    "    for i in range(10):\n",
    "        random_words.append(english_words[random.randint(0,len(english_words))])\n",
    "    return random_words\n",
    "        \n",
    "\n",
    "print(\"Random List\")\n",
    "print(new_words())\n",
    "\n",
    "\n",
    "\n",
    "def merge_sort(word_list):\n",
    "    if len(word_list) <= 1:\n",
    "        return word_list\n",
    "\n",
    "    mid = len(word_list) // 2\n",
    "    left_half = word_list[:mid]\n",
    "    right_half = word_list[mid:]\n",
    "\n",
    "    left_half = merge_sort(left_half)\n",
    "    right_half = merge_sort(right_half)\n",
    "\n",
    "    return merge(left_half, right_half)\n",
    "\n",
    "\n",
    "def merge(left_half, right_half):\n",
    "    result = []\n",
    "    left_index = 0\n",
    "    right_index = 0\n",
    "\n",
    "    while left_index < len(left_half) and right_index < len(right_half):\n",
    "        if left_half[left_index] <= right_half[right_index]:\n",
    "            result.append(left_half[left_index])\n",
    "            left_index += 1\n",
    "        else:\n",
    "            result.append(right_half[right_index])\n",
    "            right_index += 1\n",
    "\n",
    "    while left_index < len(left_half):\n",
    "        result.append(left_half[left_index])\n",
    "        left_index += 1\n",
    "\n",
    "    while right_index < len(right_half):\n",
    "        result.append(right_half[right_index])\n",
    "        right_index += 1\n",
    "\n",
    "    return result\n",
    "\n",
    "\n",
    "def new_words():\n",
    "    random_words = []\n",
    "    for _ in range(10):\n",
    "        random_words.append(english_words[random.randint(0, len(english_words) - 1)])\n",
    "    random_words = merge_sort(random_words)\n",
    "    return random_words\n",
    "\n",
    "\n",
    "print(\"Random List:\")\n",
    "random_list = new_words()\n",
    "print(random_list)"
   ]
  },
  {
   "attachments": {},
   "cell_type": "markdown",
   "metadata": {},
   "source": [
    "**Is a list and/or dictionary in python considered a primitive or collection type? Why?**\n",
    "- Lists and Dictionaries are collecton types because they can store multiple variables whereas primitive types are things such as strings and integers, where they can only store one variable.\n",
    "\n",
    "**Is the list passed into bubble sort \"pass-by-value\" or \"pass-by-reference? Describe why in relation to output.**\n",
    "- I think that it might be a pass-by-reference because everything in python is there to describe an object (at least when you put in a class) so since it is that it can't just be referencing a single value so I don't think it is pass-by-value."
   ]
  },
  {
   "attachments": {},
   "cell_type": "markdown",
   "metadata": {},
   "source": [
    "### Research Analysis:\n",
    "\n",
    "- **Comparisons:** This compares the elements in the list in order to figure out what the order of the list is supposed to be. It then swaps elements after comparing and then that is how the list gets ordered.\n",
    "\n",
    "- **Swaps:** The Bubble sort relies heavily on swapping the variables in order to order the list.\n",
    "\n",
    "- **Time:** Sorting algorithms have a time complexity, meaning the amount of time it takes for the program to execute. One example could be the code down below which uses time to count how long it takes for the duck to get to the end."
   ]
  },
  {
   "attachments": {},
   "cell_type": "markdown",
   "metadata": {},
   "source": [
    "**Animation: Instead with a Duck :)**"
   ]
  },
  {
   "cell_type": "code",
   "execution_count": 1,
   "metadata": {},
   "outputs": [
    {
     "name": "stdout",
     "output_type": "stream",
     "text": [
      "\u001b[0m\u001b[2D\n",
      "                                                                         _ \n",
      "                                                                     __(.)< \n",
      "                                                                     \\_)_)\n",
      "\u001b[34m\u001b[2D----------------------------------------------------------------\u001b[0m\u001b[2D\n"
     ]
    }
   ],
   "source": [
    "\"\"\"\n",
    "* Creator: Nighthawk Coding Society\n",
    "Sailing Ship Animation (programatic method)\n",
    "\"\"\"\n",
    "\n",
    "import time # used for delay\n",
    "from IPython.display import clear_output  # jupyter specific clear\n",
    "\n",
    "\n",
    "# ANSI Color Codes\n",
    "OCEAN_COLOR = u\"\\u001B[34m\\u001B[2D\"\n",
    "SHIP_COLOR = u\"\\u001B[35m\\u001B[2D\"\n",
    "RESET_COLOR = u\"\\u001B[0m\\u001B[2D\"\n",
    "\n",
    "def ship_print(position):  # print ship with colors and leading spaces according to position\n",
    "    clear_output(wait=True)\n",
    "    print(RESET_COLOR)\n",
    "    \n",
    "    sp = \" \" * position\n",
    "    print(sp + \"     _ \")\n",
    "    print(sp + \" __(.)< \")\n",
    "    print(sp + \" \\\\_)_)\")\n",
    "    print(OCEAN_COLOR + \"--\"*32 + RESET_COLOR)\n",
    "\n",
    "\n",
    "def ship():  # ship function, loop/controller for animation speed and times\n",
    "    # loop control variables\n",
    "    start = 0  # start at zero\n",
    "    distance = 70  # how many times to repeat\n",
    "    step = 2  # count by 2\n",
    "\n",
    "    # loop purpose is to animate ship sailing\n",
    "    for position in range(start, distance, step):\n",
    "        ship_print(position)  # call to function with parameter\n",
    "        time.sleep(.2)\n",
    "\n",
    "        \n",
    "ship() # activate/call ship function"
   ]
  },
  {
   "attachments": {},
   "cell_type": "markdown",
   "metadata": {},
   "source": [
    "[Memory Game](https://srihitakott1213.github.io/APCSP-Blog-Assignment/memory_game.html)"
   ]
  }
 ],
 "metadata": {
  "kernelspec": {
   "display_name": "base",
   "language": "python",
   "name": "python3"
  },
  "language_info": {
   "codemirror_mode": {
    "name": "ipython",
    "version": 3
   },
   "file_extension": ".py",
   "mimetype": "text/x-python",
   "name": "python",
   "nbconvert_exporter": "python",
   "pygments_lexer": "ipython3",
   "version": "3.9.12"
  },
  "orig_nbformat": 4
 },
 "nbformat": 4,
 "nbformat_minor": 2
}
