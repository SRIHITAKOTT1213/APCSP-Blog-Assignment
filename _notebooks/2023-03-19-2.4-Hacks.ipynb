{
 "cells": [
  {
   "attachments": {},
   "cell_type": "markdown",
   "metadata": {},
   "source": [
    "# First Jupyter Notebook\n",
    "\n",
    "\n",
    "- title: 2.4a and 2.4b Hacks/Notes\n",
    "- categories: [Other Projects]\n",
    "- toc: true\n",
    "- comments: true"
   ]
  },
  {
   "attachments": {},
   "cell_type": "markdown",
   "metadata": {},
   "source": [
    "**Lesson Notes:**\n",
    "\n",
    "- .model inherits is a parameter of class user (this is referencing the code in the lesson) \n",
    "\n",
    "- When you want to set something, you can create it or update it.\n",
    "\n",
    "- Use debugging to take a closer look at the code and how it works\n",
    "\n",
    "- For the initial data code block, if you were to put a red dot next to u6 and one at initusers(), when you debug it, it would go straight to initusers because that is the first time it is called.\n",
    "\n",
    "- Object Relational Model query, you can have a user give you an input, there will then be a query filter, meaning it will look if the user id is the same as the input,\n",
    "\n",
    "- JSON is easier to read in most code languages\n",
    "\n",
    "**College Board Notes:**\n",
    "- Programs are used in an iterative and interactive way when processing information to allow users to gain insight and knowledge about data\n",
    "\n",
    "- Programmers can use programs to filter and clean digital data, which is gaining insight and knowledge from data\n",
    "\n",
    "- Combining data sources, clustering data, and classifyin data are parts of the process of using programs to gain insight and knowledge from data\n",
    "\n",
    "- Insight and knowledge can be obtained from translating and transforming digitally representeed information\n",
    "\n",
    "- Patterns can emerge when data are transformed using programs\n",
    "\n",
    "- People can filter, sort, combine, transform, cluster, or even classify the data in the program and that can lead to more knowledge and insight.\n",
    "\n",
    "- Programs can be used to process data to acquire information\n",
    "\n",
    "- Tables, diagrams, text and other visual tools can be used to communicate insight and knowledge gained from data\n",
    "\n",
    "- Search tools are useful for efficiently finding information\n",
    "\n",
    "- Data filtering systems are important tools for finding information and recognizing patterns in data\n",
    "\n",
    "- Programs such as spreadsheets help efficiently organize  and find trends in information"
   ]
  }
 ],
 "metadata": {
  "language_info": {
   "name": "python"
  },
  "orig_nbformat": 4
 },
 "nbformat": 4,
 "nbformat_minor": 2
}
