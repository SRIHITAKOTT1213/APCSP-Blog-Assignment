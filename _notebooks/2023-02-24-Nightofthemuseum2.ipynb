{
 "cells": [
  {
   "attachments": {},
   "cell_type": "markdown",
   "metadata": {},
   "source": [
    "# First Jupyter Notebook\n",
    "\n",
    "\n",
    "- title: N@tM #2 (2/16)\n",
    "- toc: true\n",
    "- permalink: /N@tM2\n",
    "- categories: [Other Projects]\n",
    "- comments: true"
   ]
  },
  {
   "attachments": {},
   "cell_type": "markdown",
   "metadata": {},
   "source": [
    "**N@tM:** Night of the museum was the same as last trimester, except this time I got to see other projects other than just the ones in the room. I thought this night of the museum was better because we had a lot of people come and see our project and it was pretty relaxed. Other than the computer science projects I saw the CSA projects, ceramics, digital media, and photography. Those were all really great projects to see. I personally think that this trimester's N@tM was better than last trimesters."
   ]
  },
  {
   "attachments": {},
   "cell_type": "markdown",
   "metadata": {},
   "source": [
    "### Fitness Page:\n",
    "- Sponsors super Mort\n",
    "- Exercise Tracker\n",
    "- Calender\n",
    "- Goals\n",
    "- Forum (talking about good exercise habits)\n",
    "- Statistics\n",
    "- **Pics:**\n",
    "![screenshot](https://i.paste.pics/8511eeade846e8dd87cd5228370e8186.png)\n",
    "![screenshot](https://i.paste.pics/e45832ed8c94b8c884e951b5606b59af.png)\n",
    "![screenshot](https://i.paste.pics/ab661336cc2bc05213b030825fd3e2eb.png)\n",
    "![screenshot](https://i.paste.pics/73e6392c791b1480eccfb96b881191f9.png)"
   ]
  },
  {
   "attachments": {},
   "cell_type": "markdown",
   "metadata": {},
   "source": [
    "### Place to Buy Cars:\n",
    "- Car finder (categories)\n",
    "- Feature finder\n",
    "- Car wishlist\n",
    "- **Pics:**\n",
    "![screenshots](https://i.paste.pics/42c6e3c736e051d54202734fa771ef5c.png)"
   ]
  },
  {
   "attachments": {},
   "cell_type": "markdown",
   "metadata": {},
   "source": [
    "### Arcade Website:\n",
    "- Four games (Pong, snake, etc.)\n",
    "- Login\n",
    "- The website is interactive\n",
    "- When playing the games it keeps track of score\n",
    "- **Pics:**\n",
    "![screenshot](https://i.paste.pics/05c4d5035cdc430fe93ad57f6b39ae15.png)\n",
    "![screenshot](https://i.paste.pics/b9f298e63cf61ddf30fc6742a80d3d0f.png)"
   ]
  },
  {
   "attachments": {},
   "cell_type": "markdown",
   "metadata": {},
   "source": [
    "### Flash Cards:\n",
    "- Similar to quizlet and has the same idea\n",
    "- You can add terms and create flashcards with them\n",
    "- You can review the word and then flip it over for the definition\n",
    "- If you are stuck on a definition or feel like you haven't memorized it then you can SAVE it or mark the incorrect button and when you go to the homepage, it'll be there for you to review it without having to go through the entire thing.\n",
    "- It also autogenerates a quiz for you to take to test your skills.\n",
    "- They also have a search bar so you can search for the term.\n",
    "- **Pics:**\n",
    "![screenshot](https://i.paste.pics/051a9de4d71a2d2ac86bc6f7c17ed2ba.png)"
   ]
  },
  {
   "attachments": {},
   "cell_type": "markdown",
   "metadata": {},
   "source": [
    "# Other Projects From N@tM:"
   ]
  },
  {
   "attachments": {},
   "cell_type": "markdown",
   "metadata": {},
   "source": [
    "### Ceramics: (pics)\n",
    "![screenshot](https://i.paste.pics/7d27dd11356100710707258f5d7968ca.png)\n",
    "![screenshot](https://i.paste.pics/ffa7b23935a8cd9593f7d9b913051465.png)\n",
    "\n",
    "\n",
    "\n",
    "#### Another Pic :)\n",
    "![screenshot](https://i.paste.pics/45001b4c468e4f7d74cc8d5250afc0b5.png)"
   ]
  }
 ],
 "metadata": {
  "kernelspec": {
   "display_name": "base",
   "language": "python",
   "name": "python3"
  },
  "language_info": {
   "name": "python",
   "version": "3.9.12"
  },
  "orig_nbformat": 4,
  "vscode": {
   "interpreter": {
    "hash": "c592ff5847e581e8b66b02dcd331c526c35045e822da212864271a73a90b0063"
   }
  }
 },
 "nbformat": 4,
 "nbformat_minor": 2
}
