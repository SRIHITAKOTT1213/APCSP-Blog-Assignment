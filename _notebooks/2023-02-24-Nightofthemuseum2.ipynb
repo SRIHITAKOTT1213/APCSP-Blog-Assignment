{
 "cells": [
  {
   "attachments": {},
   "cell_type": "markdown",
   "metadata": {},
   "source": [
    "# First Jupyter Notebook\n",
    "\n",
    "\n",
    "- title: N@tM #2 (2/16)\n",
    "- toc: true\n",
    "- comments: true"
   ]
  },
  {
   "attachments": {},
   "cell_type": "markdown",
   "metadata": {},
   "source": [
    "**N@tM:** Night of the museum was the same as last trimester, except this time I got to see other projects other than just the ones in the room. I thought this night of the museum was better because we had a lot of people come and see our project and it was pretty relaxed. Other than the computer science projects I saw the CSA projects, ceramics, digital media, and photography. Those were all really great projects to see."
   ]
  }
 ],
 "metadata": {
  "kernelspec": {
   "display_name": "base",
   "language": "python",
   "name": "python3"
  },
  "language_info": {
   "name": "python",
   "version": "3.9.12"
  },
  "orig_nbformat": 4,
  "vscode": {
   "interpreter": {
    "hash": "c592ff5847e581e8b66b02dcd331c526c35045e822da212864271a73a90b0063"
   }
  }
 },
 "nbformat": 4,
 "nbformat_minor": 2
}
