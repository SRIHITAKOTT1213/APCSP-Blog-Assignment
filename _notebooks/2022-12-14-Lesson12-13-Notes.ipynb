{
 "cells": [
  {
   "attachments": {},
   "cell_type": "markdown",
   "metadata": {},
   "source": [
    "# First Jupyter Notebook\n",
    "\n",
    "> Lesson Notes\n",
    "\n",
    "- title: Lesson Notes 3.12 and 3.13 \n",
    "- categories: [Lesson Notes]\n",
    "- toc: true\n",
    "- comments: true\n",
    "- title: Lesson Notes 3.12 and 3.13 "
   ]
  },
  {
   "attachments": {},
   "cell_type": "markdown",
   "metadata": {},
   "source": [
    "- A <font color=\"#ffffc2\" style=\"font-weight: bold\">procedure</font> is a named set of instructions that can take in parameters and return values.\n",
    "\n",
    "    - May be called \"method\" or \"function\" in different programming languages.\n",
    "\n",
    "- <font color=\"#ffffc2\" style=\"font-weight: bold\">Parameters</font> are independent variables used in the procedure to produce a result. It allows a procedure to execute without initially knowing specific input values.\n",
    "\n",
    "- Procedures can be classified as sequencing, selection, and iteration. How?"
   ]
  },
  {
   "cell_type": "code",
   "execution_count": 1,
   "metadata": {},
   "outputs": [
    {
     "name": "stdout",
     "output_type": "stream",
     "text": [
      "The product of 5 times 3 is 15\n"
     ]
    }
   ],
   "source": [
    "x = 5\n",
    "y = 3\n",
    "\n",
    "def multiply(x, y):\n",
    "    product = x * y\n",
    "    return product\n",
    "\n",
    "answer = multiply(x, y)\n",
    "print(\"The product of\", x, \"times\", y, \"is\", answer)"
   ]
  },
  {
   "attachments": {},
   "cell_type": "markdown",
   "metadata": {},
   "source": [
    "In this case, above in the code, multiply() is what is called the procedure because it is what performes the function and x and y are the parameters because they are the variable being used by the procedures."
   ]
  },
  {
   "cell_type": "code",
   "execution_count": 2,
   "metadata": {},
   "outputs": [],
   "source": [
    "num = 5\n",
    "def math(x):\n",
    "    op1 = x * 2\n",
    "    op2 = op1 - 9\n",
    "    return op2"
   ]
  },
  {
   "attachments": {},
   "cell_type": "markdown",
   "metadata": {},
   "source": [
    "Return calls back the procedure output and makes sure that the program keeps running"
   ]
  },
  {
   "cell_type": "code",
   "execution_count": 3,
   "metadata": {},
   "outputs": [
    {
     "name": "stdout",
     "output_type": "stream",
     "text": [
      "Peter Parker\n",
      "Safin Singh\n"
     ]
    }
   ],
   "source": [
    "def function(first_name, last_name):\n",
    "   print(first_name + \" \" + last_name)\n",
    "\n",
    "function(\"Peter\",\"Parker\")\n",
    "function(\"Safin\", \"Singh\")"
   ]
  },
  {
   "attachments": {},
   "cell_type": "markdown",
   "metadata": {},
   "source": [
    "It is kind of like a more complicated version of printing parameters and in this way, you don't have to assign a variable to the value."
   ]
  },
  {
   "cell_type": "code",
   "execution_count": 4,
   "metadata": {},
   "outputs": [
    {
     "name": "stdout",
     "output_type": "stream",
     "text": [
      "The Original Values:\n",
      " [4, 9, 16, 25, 36, 49]\n",
      "The Square Root Values:\n",
      " [2.0, 3.0, 4.0, 5.0, 6.0, 7.0]\n"
     ]
    }
   ],
   "source": [
    "import math\n",
    "\n",
    "values = [4, 9, 16, 25, 36, 49]\n",
    "\n",
    "squareroots = [math.sqrt(number) for number in values]\n",
    "\n",
    "print(\"The Original Values:\\n\", values)\n",
    "print(\"The Square Root Values:\\n\", squareroots)"
   ]
  },
  {
   "attachments": {},
   "cell_type": "markdown",
   "metadata": {},
   "source": [
    "This is a way to efficiently take the square root of multiple values at once instead of writing seperate code for each of them and I thought that was really cool and saved a lot of time."
   ]
  }
 ],
 "metadata": {
  "kernelspec": {
   "display_name": "base",
   "language": "python",
   "name": "python3"
  },
  "language_info": {
   "codemirror_mode": {
    "name": "ipython",
    "version": 3
   },
   "file_extension": ".py",
   "mimetype": "text/x-python",
   "name": "python",
   "nbconvert_exporter": "python",
   "pygments_lexer": "ipython3",
   "version": "3.9.12 (main, Apr  5 2022, 06:56:58) \n[GCC 7.5.0]"
  },
  "orig_nbformat": 4,
  "vscode": {
   "interpreter": {
    "hash": "c592ff5847e581e8b66b02dcd331c526c35045e822da212864271a73a90b0063"
   }
  }
 },
 "nbformat": 4,
 "nbformat_minor": 2
}
