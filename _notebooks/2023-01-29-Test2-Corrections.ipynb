{
 "cells": [
  {
   "attachments": {},
   "cell_type": "markdown",
   "metadata": {},
   "source": [
    "# First Jupyter Notebook\n",
    "\n",
    "\n",
    "- title: Test #2 Corrections/Reflection\n",
    "- toc: true\n",
    "- comments: true"
   ]
  },
  {
   "attachments": {},
   "cell_type": "markdown",
   "metadata": {},
   "source": [
    "**Question #13:**"
   ]
  },
  {
   "attachments": {},
   "cell_type": "markdown",
   "metadata": {},
   "source": [
    "**Question #13:** The answer is all of the following except number 1 because 1 indicates old enough to drive AND old enough to vote which is not what the question is asking.\n",
    "![screenshot](https://i.paste.pics/b03973a0afcf05bcffb4614166b98ea2.png)"
   ]
  },
  {
   "attachments": {},
   "cell_type": "markdown",
   "metadata": {},
   "source": [
    "**Question #15** I think D is correct, making the program incorrect, because there is no way to apply the left rotate function because it only ever needs the robot to go straight and right. I think that is why D is correct.\n",
    "![screenshot](https://i.paste.pics/1cffad5b8acbab21430ab37375dc4e5a.png)"
   ]
  },
  {
   "attachments": {},
   "cell_type": "markdown",
   "metadata": {},
   "source": [
    "**Question #17:** I think both A and D are correct because in the original code segment, you needed both segments in order for the program to come back true and that is what both A and D do.\n",
    "![screenshot](https://i.paste.pics/e64a04951260fcf91c40f0fd1c0a78f3.png)"
   ]
  },
  {
   "attachments": {},
   "cell_type": "markdown",
   "metadata": {},
   "source": [
    "**Question #20:** There are 4 tries, so when head_counter = 2, that means there will be an even amount of heads than there is tails and that is why D is the correct answer.\n",
    "![screenshot](https://i.paste.pics/c84a1fdd0973880116aa0ff910ca1bbc.png)"
   ]
  },
  {
   "attachments": {},
   "cell_type": "markdown",
   "metadata": {},
   "source": [
    "**Question #21:** I think it runs in an infinite loop is because i is assigned to 1 so it will always be 1, which means that i will never reach 4 so the program will just keep on running.\n",
    "![screenshot](https://i.paste.pics/3f87cf0197a96fb815205b901b215132.png)"
   ]
  },
  {
   "attachments": {},
   "cell_type": "markdown",
   "metadata": {},
   "source": [
    "**Question #22:** They are both, in different ways, basically adding up all the heights and then dividing them by 32, which does give the average height of the 32 students\n",
    "![screenshot](https://i.paste.pics/557eabc42bb4a6110983b019968de40c.png)"
   ]
  },
  {
   "attachments": {},
   "cell_type": "markdown",
   "metadata": {},
   "source": [
    "**Question #24:** It is 3y because the program runs y times and then 3, indicating that it is 3 times y and not y to the power 3, which makes more sense.\n",
    "![screenshot](https://i.paste.pics/84790721d086dd2208fd00d6017eb2f7.png)"
   ]
  },
  {
   "attachments": {},
   "cell_type": "markdown",
   "metadata": {},
   "source": [
    "**Question #26:** I think the key to getting this question right is actually going through the procedure and seeing how many times it would take the robot to get into one of the positions that is indicated below. A worked.\n",
    "![screenshot](https://i.paste.pics/6e77f082eb5d9565587804387eb3e0be.png)"
   ]
  },
  {
   "attachments": {},
   "cell_type": "markdown",
   "metadata": {},
   "source": [
    "**Question #30:** I think C is also correct because since the circle that is being drawn is the outer most one, the drawcircle function has to be first before the modification.\n",
    "![screenshot](https://i.paste.pics/874be48eaca2ea46f0725f559bd1ffef.png)"
   ]
  },
  {
   "attachments": {},
   "cell_type": "markdown",
   "metadata": {},
   "source": [
    "**Question #32:**\n",
    "![screenshot]()"
   ]
  },
  {
   "attachments": {},
   "cell_type": "markdown",
   "metadata": {},
   "source": [
    "**Question #33:**\n",
    "![screenshot]()"
   ]
  },
  {
   "attachments": {},
   "cell_type": "markdown",
   "metadata": {},
   "source": [
    "**Question #34:**\n",
    "![screenshot]()"
   ]
  },
  {
   "attachments": {},
   "cell_type": "markdown",
   "metadata": {},
   "source": [
    "**Question #35:**\n",
    "![screenshot]()"
   ]
  },
  {
   "attachments": {},
   "cell_type": "markdown",
   "metadata": {},
   "source": [
    "**Question #36:**\n",
    "![screenshot]()"
   ]
  },
  {
   "attachments": {},
   "cell_type": "markdown",
   "metadata": {},
   "source": [
    "**Question #38:**\n",
    "![screenshot]()"
   ]
  },
  {
   "attachments": {},
   "cell_type": "markdown",
   "metadata": {},
   "source": [
    "**Question #40:**\n",
    "![screenshot]()"
   ]
  },
  {
   "attachments": {},
   "cell_type": "markdown",
   "metadata": {},
   "source": [
    "**Question #41:**\n",
    "![screenshot]()"
   ]
  },
  {
   "attachments": {},
   "cell_type": "markdown",
   "metadata": {},
   "source": [
    "**Question #42:**\n",
    "![screenshot]()"
   ]
  },
  {
   "attachments": {},
   "cell_type": "markdown",
   "metadata": {},
   "source": [
    "**Question #44:**\n",
    "![screenshot]()"
   ]
  },
  {
   "attachments": {},
   "cell_type": "markdown",
   "metadata": {},
   "source": [
    "**Question #45:**\n",
    "![screenshot]()"
   ]
  },
  {
   "attachments": {},
   "cell_type": "markdown",
   "metadata": {},
   "source": [
    "**Question #47:**\n",
    "![screenshot]()"
   ]
  },
  {
   "attachments": {},
   "cell_type": "markdown",
   "metadata": {},
   "source": [
    "**Question #48:**\n",
    "![screenshot]()"
   ]
  },
  {
   "attachments": {},
   "cell_type": "markdown",
   "metadata": {},
   "source": [
    "**Question #50:**\n",
    "![screenshot]()"
   ]
  }
 ],
 "metadata": {
  "kernelspec": {
   "display_name": "base",
   "language": "python",
   "name": "python3"
  },
  "language_info": {
   "name": "python",
   "version": "3.9.12 (main, Apr  5 2022, 06:56:58) \n[GCC 7.5.0]"
  },
  "orig_nbformat": 4,
  "vscode": {
   "interpreter": {
    "hash": "c592ff5847e581e8b66b02dcd331c526c35045e822da212864271a73a90b0063"
   }
  }
 },
 "nbformat": 4,
 "nbformat_minor": 2
}
