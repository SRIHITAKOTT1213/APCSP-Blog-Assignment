{
 "cells": [
  {
   "attachments": {},
   "cell_type": "markdown",
   "metadata": {},
   "source": [
    "# First Jupyter Notebook\n",
    "\n",
    "\n",
    "- title: Test #2 Corrections\n",
    "- toc: true\n",
    "- permalink: /Test2/Corrections\n",
    "- categories: [College Board Quizzes/Tests]\n",
    "- comments: true\n",
    "- title: Test #2 Corrections"
   ]
  },
  {
   "attachments": {},
   "cell_type": "markdown",
   "metadata": {},
   "source": [
    "**Question #13:**"
   ]
  },
  {
   "attachments": {},
   "cell_type": "markdown",
   "metadata": {},
   "source": [
    "{% include nav_data.html %}"
   ]
  },
  {
   "attachments": {},
   "cell_type": "markdown",
   "metadata": {},
   "source": [
    "**Question #13:** The answer is all of the following except number 1 because 1 indicates old enough to drive AND old enough to vote which is not what the question is asking.\n",
    "![screenshot](https://i.paste.pics/b03973a0afcf05bcffb4614166b98ea2.png)"
   ]
  },
  {
   "attachments": {},
   "cell_type": "markdown",
   "metadata": {},
   "source": [
    "**Question #15** I think D is correct, making the program incorrect, because there is no way to apply the left rotate function because it only ever needs the robot to go straight and right. I think that is why D is correct.\n",
    "![screenshot](https://i.paste.pics/1cffad5b8acbab21430ab37375dc4e5a.png)"
   ]
  },
  {
   "attachments": {},
   "cell_type": "markdown",
   "metadata": {},
   "source": [
    "**Question #17:** I think both A and D are correct because in the original code segment, you needed both segments in order for the program to come back true and that is what both A and D do.\n",
    "![screenshot](https://i.paste.pics/e64a04951260fcf91c40f0fd1c0a78f3.png)"
   ]
  },
  {
   "attachments": {},
   "cell_type": "markdown",
   "metadata": {},
   "source": [
    "**Question #20:** There are 4 tries, so when head_counter = 2, that means there will be an even amount of heads than there is tails and that is why D is the correct answer.\n",
    "![screenshot](https://i.paste.pics/c84a1fdd0973880116aa0ff910ca1bbc.png)"
   ]
  },
  {
   "attachments": {},
   "cell_type": "markdown",
   "metadata": {},
   "source": [
    "**Question #21:** I think it runs in an infinite loop is because i is assigned to 1 so it will always be 1, which means that i will never reach 4 so the program will just keep on running.\n",
    "![screenshot](https://i.paste.pics/3f87cf0197a96fb815205b901b215132.png)"
   ]
  },
  {
   "attachments": {},
   "cell_type": "markdown",
   "metadata": {},
   "source": [
    "**Question #22:** They are both, in different ways, basically adding up all the heights and then dividing them by 32, which does give the average height of the 32 students\n",
    "![screenshot](https://i.paste.pics/557eabc42bb4a6110983b019968de40c.png)"
   ]
  },
  {
   "attachments": {},
   "cell_type": "markdown",
   "metadata": {},
   "source": [
    "**Question #24:** It is 3y because the program runs y times and then 3, indicating that it is 3 times y and not y to the power 3, which makes more sense.\n",
    "![screenshot](https://i.paste.pics/84790721d086dd2208fd00d6017eb2f7.png)"
   ]
  },
  {
   "attachments": {},
   "cell_type": "markdown",
   "metadata": {},
   "source": [
    "**Question #26:** I think the key to getting this question right is actually going through the procedure and seeing how many times it would take the robot to get into one of the positions that is indicated below. A worked.\n",
    "![screenshot](https://i.paste.pics/6e77f082eb5d9565587804387eb3e0be.png)"
   ]
  },
  {
   "attachments": {},
   "cell_type": "markdown",
   "metadata": {},
   "source": [
    "**Question #30:** I think C is also correct because since the circle that is being drawn is the outer most one, the drawcircle function has to be first before the modification.\n",
    "![screenshot](https://i.paste.pics/874be48eaca2ea46f0725f559bd1ffef.png)"
   ]
  },
  {
   "attachments": {},
   "cell_type": "markdown",
   "metadata": {},
   "source": [
    "**Question #32:** They both store the sum but in the opposite way. Program 1 starts from 1 and goes to n and adds all those numbers, whereas program 2 starts from n and goes all the way to 1, adding the numbers as well, so they both work.\n",
    "![screenshot](https://i.paste.pics/0e4bfa11fef674590c88a263f5d50114.png)"
   ]
  },
  {
   "attachments": {},
   "cell_type": "markdown",
   "metadata": {},
   "source": [
    "**Question #33:** I think this is similar to the previous question, and isn't too bad to understand.\n",
    "![screenshot](https://i.paste.pics/f84ffc64cac8a8866f0b659ff074741e.png)"
   ]
  },
  {
   "attachments": {},
   "cell_type": "markdown",
   "metadata": {},
   "source": [
    "**Question #34:** This basically means how many times you have to divide the number to get back to 1. ex. 500/2 = 250, 250/2 = 125, 125/2 = 63 (rounded up) and you keep going till you get to one, and then count the number of divisions it took and that is what the question is asking. The number of divisions it took this one to get to 1 is 9 and the number closest to that is 10.\n",
    "![screenshot](https://i.paste.pics/c8b502477a8db9e7a7e748b3543f9e2e.png)"
   ]
  },
  {
   "attachments": {},
   "cell_type": "markdown",
   "metadata": {},
   "source": [
    "**Question #35:** Binary search basically divides things by 2, so I think its better because you can do it with any set of numbers and it would narrow it down faster, and I think that is why B is the correct answer.\n",
    "![screenshot](https://i.paste.pics/74f26fb1a0c8dc85539806ce170b059e.png)"
   ]
  },
  {
   "attachments": {},
   "cell_type": "markdown",
   "metadata": {},
   "source": [
    "**Question #36:** It works because the count will only increase by one when the item in the list is equal to target, which means every time there is the word \"target\" the program will add one to the count.\n",
    "![screenshot](https://i.paste.pics/93f571eff530091683e7b788233a092c.png)"
   ]
  },
  {
   "attachments": {},
   "cell_type": "markdown",
   "metadata": {},
   "source": [
    "**Question #38:** I think this makes sense because if the number is even, then when you subract 2 from it, it will always at some point go to 0 before it goes to any negative number, so I understand why C is the correct answer.\n",
    "![screenshot](https://i.paste.pics/59d68350b95086d87e63a2bea30015c0.png)"
   ]
  },
  {
   "attachments": {},
   "cell_type": "markdown",
   "metadata": {},
   "source": [
    "**Question #40:** I think that the random (1,3) is the range at which how many times the roboot will rotate to the right. It could rotate once and step one or two squares forward. It could rotate twice and step one or two squares forward. or it could rotate three times and step one or two squares forward. And that is why B is the correct answer, shading in the squares that could be the possible solutions.\n",
    "![screenshot](https://i.paste.pics/2427af5695f99d2c45ed5b99773a17ef.png)"
   ]
  },
  {
   "attachments": {},
   "cell_type": "markdown",
   "metadata": {},
   "source": [
    "**Question #41:** This basically means that if the range is set to (1,10) then there is a 2/10 possibility (20%) which is why there is a chance that it could evaulate 1 or 2, and that is why D is also the correct answer.\n",
    "![screenshot](https://i.paste.pics/20c489ead7ea1447426a725bfe606143.png)"
   ]
  },
  {
   "attachments": {},
   "cell_type": "markdown",
   "metadata": {},
   "source": [
    "**Question #42:** All of thtem are right because those all things that you can do with a simulation, no matter how small they might seem. So D is the correct answer\n",
    "![screenshot](https://i.paste.pics/4c0e5f91b85ec3311b1d00c777bdd0ab.png)"
   ]
  },
  {
   "attachments": {},
   "cell_type": "markdown",
   "metadata": {},
   "source": [
    "**Question #44:** This makes sense because you can model a simulation that is like a bank, but It won't be accurate because there is no user input so it won't mimic exactly what you want. That is why D is correct.\n",
    "![screenshot](https://i.paste.pics/19e56d9e496763a24c658377c5aa8a65.png)"
   ]
  },
  {
   "attachments": {},
   "cell_type": "markdown",
   "metadata": {},
   "source": [
    "**Question #45:**  I couldn't find anything to help me understand this question so I don't know how to get this answer\n",
    "![screenshot](https://i.paste.pics/385e0bbbb1c61d70f569498c942de7d0.png)"
   ]
  },
  {
   "attachments": {},
   "cell_type": "markdown",
   "metadata": {},
   "source": [
    "**Question #47:** This is an optimization problem, hence why it is the most benefitted by a hueristic problem\n",
    "![screenshot](https://i.paste.pics/352313c702f92f13d8356f49bc97bb4f.png)"
   ]
  },
  {
   "attachments": {},
   "cell_type": "markdown",
   "metadata": {},
   "source": [
    "**Question #48:** The answer is D because if you changed lines 7 and 8, the average would only need to be calculated once, and would not be in that loop and also not change the program.\n",
    "![screenshot](https://i.paste.pics/f7ba8684f3c3302097ff24a48b41d3e2.png)"
   ]
  },
  {
   "attachments": {},
   "cell_type": "markdown",
   "metadata": {},
   "source": [
    "**Question #50:** This is one that I cannot get. I really don'tt understand how to convert hexadecimal to decimal.\n",
    "![screenshot](https://i.paste.pics/54d7e637d55332d37b440a4b37bf0dd1.png)"
   ]
  },
  {
   "attachments": {},
   "cell_type": "markdown",
   "metadata": {},
   "source": [
    "**Reflection:** I didn't do as well as i would have liked and some of these questions were pretty easy but I just had to understand the code and maybe if I had spent a little bit more time on it I would have gotten them correct. The ones that I didn't understand, no matter how hard I looked at the question, I looked at the college board videos and that helped me a little bit. I also tried the internet to see if it gave a better explanation and eventually I understood what I did wrong."
   ]
  }
 ],
 "metadata": {
  "kernelspec": {
   "display_name": "base",
   "language": "python",
   "name": "python3"
  },
  "language_info": {
   "name": "python",
   "version": "3.9.12"
  },
  "orig_nbformat": 4,
  "vscode": {
   "interpreter": {
    "hash": "c592ff5847e581e8b66b02dcd331c526c35045e822da212864271a73a90b0063"
   }
  }
 },
 "nbformat": 4,
 "nbformat_minor": 2
}
