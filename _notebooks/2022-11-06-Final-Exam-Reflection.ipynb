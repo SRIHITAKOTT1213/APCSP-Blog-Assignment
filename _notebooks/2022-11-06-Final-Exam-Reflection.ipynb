{
 "cells": [
  {
   "attachments": {},
   "cell_type": "markdown",
   "metadata": {},
   "source": [
    "# First Jupyter Notebook\n",
    "\n",
    "> Note Time!\n",
    "\n",
    "- title: Final Exam Reflection (Trimester 1)\n",
    "- categories: [College Board Quizzes/Tests]\n",
    "- toc: true\n",
    "- comments: true\n",
    "- title: Final Exam Reflection (Trimester 1)"
   ]
  },
  {
   "cell_type": "markdown",
   "metadata": {},
   "source": [
    "**Question 1:** I thought that the answer was C because the function is being repeated three times, but I realize that C says that is being repeated 5 times, which is not what is happening. If you were to write out the function, it would be: 2 x 5 x 5 x 5, which is the same thing as 2(5)^3, hence why we limit it to C and D. But the correct answer is D because we multiply the result by 5 and that happens three times (repeats 3 times), that is why the **Answer is D**"
   ]
  },
  {
   "cell_type": "markdown",
   "metadata": {},
   "source": [
    "![screenshot](https://i2.paste.pics/JNB7B.png)"
   ]
  },
  {
   "cell_type": "markdown",
   "metadata": {},
   "source": [
    "**Question 4:** I thought all three was correct because Alejandra would need their contacts in order to set up the meal. But as it turns out, onlly the user needs to give the contact, which when I see it, the question does say that. So only one and two are correct because they need the location of Alejandra to see what places are nearby and they need to know what are the dietary restrictions of each person in the group."
   ]
  },
  {
   "cell_type": "markdown",
   "metadata": {},
   "source": [
    "![Screenshot](https://i2.paste.pics/JND42.png)"
   ]
  },
  {
   "cell_type": "markdown",
   "metadata": {},
   "source": [
    "**Question 6:** The answer is B because It will continue to repeat until the procedure has reached the max, whatever number that may be. The count starts at one, and since it hasn't reached the max yet, it will add two to it, making it the next odd integer and it will repeat through that cycle until it reaches the max, making it less than or equal to the max, printing only positive odd integers. When I first did this, I didn't understand what the first part of the code was doing. Now I do."
   ]
  },
  {
   "cell_type": "markdown",
   "metadata": {},
   "source": [
    "![screenshot](https://i2.paste.pics/JNDBU.png)"
   ]
  },
  {
   "cell_type": "markdown",
   "metadata": {},
   "source": [
    "**Question 8:** Since the numlist k and the numlist j were assigned to each other, they have been swapped, their values have been swapped. But what I couldn't understand is why it had to be between 1 and the length of the list. I think it is because one is the starting of the list in this case, and not 0, and obviously the end had to be the length of the list, so in a way it makes sense that j and k have to be in between those two numbers."
   ]
  },
  {
   "cell_type": "markdown",
   "metadata": {},
   "source": [
    "![screenshot](https://i2.paste.pics/JNDHU.png)"
   ]
  },
  {
   "cell_type": "markdown",
   "metadata": {},
   "source": [
    "**Question 11:** The j + 1 make it so that the program compares with all of the values that follow right after, not just one value that follows after, that is why C is wrong and why D must be wrong to because it doesn't only compare values that preceed it. B makes the most sense because it means that the program will compare the values in order, which makes more sense than the program comparing all the values randommly."
   ]
  },
  {
   "cell_type": "markdown",
   "metadata": {},
   "source": [
    "![screenshot](https://i2.paste.pics/JNDOA.png)"
   ]
  },
  {
   "cell_type": "markdown",
   "metadata": {},
   "source": [
    "**Question 13:** What the question was asking, and I didn't get this, was which one of the lists provided in the answer choices would give a different result than expected of the program. It makes sense that the answer is C because if you plug in A in the procedure, then it will return false for all the values, which is what we want to happen because it contains no positive values, the same goes for B, so we can cross them out. Then comes D, where all of the values will return true because they are positve, which is true because the entire list has positive values, so the program works for that list, so we can eliminate D. But when we get to C, the program says false for the first to numbers, but then true for 1, which shouldn't be true because in order for it to be true, the entire list would have to be full of positive integers, which is not the case."
   ]
  },
  {
   "cell_type": "markdown",
   "metadata": {},
   "source": [
    "![screenshot](https://i2.paste.pics/JNDSF.png)"
   ]
  },
  {
   "cell_type": "markdown",
   "metadata": {},
   "source": [
    "**Question 18:** C has to be the correct answer because the internet is a network, which C is the only option that mentions that. But also, the World Wide Web has to be several linked pages in programs and not just one because you can get all sorts of information from them and they are not apart of the same page, so C has to be the right answer. D isn't because I am pretty sure that the internet uses protocols and is not a protocol itself."
   ]
  },
  {
   "cell_type": "markdown",
   "metadata": {},
   "source": [
    "![screenshot](https://i2.paste.pics/JNDU2.png)"
   ]
  },
  {
   "cell_type": "markdown",
   "metadata": {},
   "source": [
    "**Question 23:** Analog data can be measured by samples, and a sequence of bits, which is why D makes the most sense. I didn't know that when I thought of the answer to this question, but now I do."
   ]
  },
  {
   "cell_type": "markdown",
   "metadata": {},
   "source": [
    "![screenshot](https://i2.paste.pics/JNDVY.png)"
   ]
  },
  {
   "cell_type": "markdown",
   "metadata": {},
   "source": [
    "**Question 25:** This was a simple mistake. since age was a word, I thought that it was a string, but it turns out that age is usually represented as a number. Maybe because we usually asign it to a number so that is probably why."
   ]
  },
  {
   "cell_type": "markdown",
   "metadata": {},
   "source": [
    "![screenshot](https://i2.paste.pics/JNE26.png)"
   ]
  },
  {
   "cell_type": "markdown",
   "metadata": {},
   "source": [
    "**Question 27:** Student name is a string, because it is a word, but the absent part being a boolean confused me a litte. But it makes sense now because a boolean value is a value that either true of false. So, you can either be absent or not and that is why it is a boolean value."
   ]
  },
  {
   "cell_type": "markdown",
   "metadata": {},
   "source": [
    "![screenshot](https://i2.paste.pics/JNE32.png)"
   ]
  },
  {
   "cell_type": "markdown",
   "metadata": {},
   "source": [
    "**Question 35:** The part with if else statement I got because it is pretty straightforward. But the other answer, A and B, I couldn't decide where to put the \n",
    "maxPS <--50, on the top of the bottom. It is on the top, I think, because if that requirent is not met, then it will go down to the next line of code instead of the other way around."
   ]
  },
  {
   "cell_type": "markdown",
   "metadata": {},
   "source": [
    "![screenshot](https://i2.paste.pics/JNE3Y.png)"
   ]
  },
  {
   "cell_type": "markdown",
   "metadata": {},
   "source": [
    "**Question 36:** It was the same problem I had with the previous question. I knew either C or D was the correct answer but I didn't know whether the APPEND function went first or not. Now I know that in this case it does."
   ]
  },
  {
   "cell_type": "markdown",
   "metadata": {},
   "source": [
    "![screenshot](https://i2.paste.pics/JNE4Y.png)"
   ]
  },
  {
   "cell_type": "markdown",
   "metadata": {},
   "source": [
    "**Question 45:** I think it is B because since the value has to be greater than 0 for both, you can't start at 0. So then you got the next number, which is 1, and then  the line of code starts to execute and that is why you get those numbers."
   ]
  },
  {
   "cell_type": "markdown",
   "metadata": {},
   "source": [
    "![screenshot](https://i2.paste.pics/JNE5D.png)"
   ]
  },
  {
   "cell_type": "markdown",
   "metadata": {},
   "source": [
    "**What I did when I got stuck:**\n",
    "- The first thing I did when I got stuck on these questions is that I looked at the question closely and see if there were any hints as to what the topic the question was directing to. Luckily, the question would say something like binary numbers or data abstraction, so that gave me a clue as to what topic I needed to look at. Then I would find that topic on college board (one of the topics straight up said Binary Numbers, or something like that) and then I would look at the videos on that topic to get a better idea of what that topic was, because I had no idea what that topic was. And then after that I would take that information and answer the question, which was a lot easier after seeing the college board videos. There were also questions that were more vocab based. One question asked something about Boolean values, and I didn't know what boolean meant, so then I would search it up on the internet to know what boolean meant and then approach the question. After submitting the test, the college board explanations for the questions that I didn't understand also helped me to better understand why one answer was better than the other, and If it didn't make sense, then I would search up and see if there was a response on the internet that would make more sense to me. This what I did to better help me understand these questions."
   ]
  }
 ],
 "metadata": {
  "kernelspec": {
   "display_name": "Python 3.9.12 ('base')",
   "language": "python",
   "name": "python3"
  },
  "language_info": {
   "codemirror_mode": {
    "name": "ipython",
    "version": 3
   },
   "file_extension": ".py",
   "mimetype": "text/x-python",
   "name": "python",
   "nbconvert_exporter": "python",
   "pygments_lexer": "ipython3",
   "version": "3.9.12"
  },
  "orig_nbformat": 4,
  "vscode": {
   "interpreter": {
    "hash": "c592ff5847e581e8b66b02dcd331c526c35045e822da212864271a73a90b0063"
   }
  }
 },
 "nbformat": 4,
 "nbformat_minor": 2
}
