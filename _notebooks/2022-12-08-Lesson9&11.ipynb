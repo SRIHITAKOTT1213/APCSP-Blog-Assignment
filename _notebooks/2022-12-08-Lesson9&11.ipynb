{
 "cells": [
  {
   "attachments": {},
   "cell_type": "markdown",
   "metadata": {},
   "source": [
    "# First Jupyter Notebook\n",
    "\n",
    "> Lesson Notes\n",
    "\n",
    "- title: Lesson Notes 3.9-3.11\n",
    "- categories: [Lesson Notes]\n",
    "- toc: true\n",
    "- comments: true\n",
    "- title: Lesson Notes 3.9-3.11"
   ]
  },
  {
   "attachments": {},
   "cell_type": "markdown",
   "metadata": {},
   "source": [
    "- **why is it important to know that algorithms that look different can do the same thing and that algorithms that look the same might have different results?**\n",
    "It is important to know that algorithms look different because that way you know that there is more than one way to solve the problem and you know how to approach the code if there is something wrong with it and you can start fixing it."
   ]
  },
  {
   "attachments": {},
   "cell_type": "markdown",
   "metadata": {},
   "source": [
    "![screenshot](https://i.paste.pics/KATQV.png)"
   ]
  },
  {
   "attachments": {},
   "cell_type": "markdown",
   "metadata": {},
   "source": [
    "This is a binary tree and it works by taking the middle value and then putting the sides after that. The list for this is [92,43,74,66,30,12,1]"
   ]
  },
  {
   "attachments": {},
   "cell_type": "markdown",
   "metadata": {},
   "source": [
    "b. [-1, 2, 6, 9, 19]\n",
    "- Binary cannot have any negative numbers or signs, so this example would not work in a binary search."
   ]
  },
  {
   "attachments": {},
   "cell_type": "markdown",
   "metadata": {},
   "source": [
    "When collaborating or working on group projects, two people might come up with two different ways to solve a problem, and that happens a lot.\n",
    "\n",
    "- know that same goal can be achieved in many ways (the possibilities are endless)\n",
    "- make notes in you code! (explain how it works to others or you future self)"
   ]
  },
  {
   "cell_type": "code",
   "execution_count": 1,
   "metadata": {},
   "outputs": [
    {
     "name": "stdout",
     "output_type": "stream",
     "text": [
      "I'll go to school\n"
     ]
    }
   ],
   "source": [
    "am_sick = False\n",
    "am_not_sick = True\n",
    "\n",
    "# setting variables here (same as above to make comparison easier)\n",
    "driveSchool = not(am_sick) and am_not_sick\n",
    "if driveSchool == False:\n",
    "    print(\"I don't want to go to school\")\n",
    "if driveSchool == True:\n",
    "    print(\"I'll go to school\")"
   ]
  },
  {
   "attachments": {},
   "cell_type": "markdown",
   "metadata": {},
   "source": [
    "I think the code above is a Boolean because it had true or false. "
   ]
  }
 ],
 "metadata": {
  "kernelspec": {
   "display_name": "Python 3.9.12 ('base')",
   "language": "python",
   "name": "python3"
  },
  "language_info": {
   "codemirror_mode": {
    "name": "ipython",
    "version": 3
   },
   "file_extension": ".py",
   "mimetype": "text/x-python",
   "name": "python",
   "nbconvert_exporter": "python",
   "pygments_lexer": "ipython3",
   "version": "3.9.12 (main, Apr  5 2022, 06:56:58) \n[GCC 7.5.0]"
  },
  "orig_nbformat": 4,
  "vscode": {
   "interpreter": {
    "hash": "c592ff5847e581e8b66b02dcd331c526c35045e822da212864271a73a90b0063"
   }
  }
 },
 "nbformat": 4,
 "nbformat_minor": 2
}
