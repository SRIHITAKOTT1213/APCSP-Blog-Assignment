{
 "cells": [
  {
   "attachments": {},
   "cell_type": "markdown",
   "metadata": {},
   "source": [
    "# First Jupyter Notebook\n",
    "\n",
    "> Lesson Notes\n",
    "\n",
    "- title: Lesson Notes 3.1 and 3.2\n",
    "- categories: [Lesson Notes]\n",
    "- toc: true\n",
    "- comments: true\n",
    "- title: Lesson Notes 3.1 and 3.2"
   ]
  },
  {
   "attachments": {},
   "cell_type": "markdown",
   "metadata": {},
   "source": [
    "**1.1 and 1.2**\n",
    "- A variable is an abstraction that is in code that holds a value\n",
    "\n",
    "- A variable is like a container with a name (the variable) and whatever you put inside should correspond to that variable to make it easier\n",
    "\n",
    "- College board useless ← instead of = because college board writes in pseudo code\n",
    "\n",
    "- Boolean is when it lists something as true or false\n",
    "\n",
    "- Strings are a series of characters that can either be letters or numbers\n",
    "\n",
    "- Lists are sequences of elements with each element being a variable. An example can be a list of students names\n",
    "\n",
    "- Data Abstraction is taking code and boiling it down to what you see and making it user friendly\n",
    "\n",
    "- To list some variables, you can just print out the list of the variables and the output would be the list of whatever the variables equal"
   ]
  },
  {
   "attachments": {},
   "cell_type": "markdown",
   "metadata": {},
   "source": [
    "**Example of a string:** \n",
    "- \"Merry Christmas\" or \"503-777-7777\"\n",
    "\n",
    "**Example of Data Abstraction (The result):**\n",
    "- when using a cell phone, you can figure out how to answer incoming calls and respond to text messages"
   ]
  },
  {
   "attachments": {},
   "cell_type": "markdown",
   "metadata": {},
   "source": [
    "Some of the hacks from this particular topic:\n",
    "![screenshot](https://i.paste.pics/K5VRG.png)"
   ]
  },
  {
   "attachments": {},
   "cell_type": "markdown",
   "metadata": {},
   "source": [
    "This code is an example of why using lists can be useful. You just have to print one variable instead of multiple to get the same result. It also manages complexity and makes a programmers life much simpler."
   ]
  }
 ],
 "metadata": {
  "kernelspec": {
   "display_name": "Python 3.9.12 ('base')",
   "language": "python",
   "name": "python3"
  },
  "language_info": {
   "name": "python",
   "version": "3.9.12"
  },
  "orig_nbformat": 4,
  "vscode": {
   "interpreter": {
    "hash": "c592ff5847e581e8b66b02dcd331c526c35045e822da212864271a73a90b0063"
   }
  }
 },
 "nbformat": 4,
 "nbformat_minor": 2
}
