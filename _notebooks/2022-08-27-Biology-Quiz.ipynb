{
 "cells": [
  {
   "cell_type": "markdown",
   "metadata": {},
   "source": [
    "---\n",
    "toc: true\n",
    "comments: true\n",
    "title: Deployment Guide\n",
    "image: /images/aws.png\n",
    "---"
   ]
  },
  {
   "cell_type": "code",
   "execution_count": null,
   "metadata": {},
   "outputs": [],
   "source": [
    "\n",
    "def question_and_answer(prompt):\n",
    "\n",
    "    print(\"Question: \" + prompt)\n",
    "    msg = input()\n",
    "    print(\"Answer: \" + msg)\n",
    "\n",
    "\n",
    "import getpass, sys\n",
    "\n",
    "def question_with_response(prompt):\n",
    "    print(\"Question: \" + prompt)\n",
    "    msg = input()\n",
    "    return msg\n",
    "\n",
    "questions = 10\n",
    "correct = 0\n",
    "\n",
    "print('Hello,' + getpass.getuser())\n",
    "print(\"You will be asked \" + str(questions) +\" questions. \")\n",
    "question_and_answer(\"Are you ready to take the Quiz?\")\n",
    "\n",
    "\n",
    "questions = [\"What are nitrogenous bases in DNA?\", \"What does DNA stand for?\", \"Who was the person who came up with the theory of Evolution?\",\"In what cell does photosynthesis take place?\", \"What is the name of the relationship in which both sides benefit?\", \"Glycogen is a polymer of what?\", \"How many chromosomes do humans have?\", \"What are the weak bonds between water molecules called?\", \"What is the division of body cells called?\", \"What is the division of gametes called?\"]\n",
    "answers = [\"Adenine, Guanine, Cytosine, Thymine\", \"Deoxyribonucleic Acid\", \"Charles Darwin\",\"Chloroplast\", \"Mutualism\", \"Glucose\", \"46\", \"Hydrogen bonds\", \"Mitosis\", \"Meiosis\"]\n",
    "\n",
    "for i in range(len(questions)):\n",
    "    rsp = question_with_response(questions[i])\n",
    "    if rsp == answers[i]:\n",
    "       print(rsp + \" is correct!\")\n",
    "\n",
    "       correct += 1\n",
    "\n",
    "    else:\n",
    "       print(rsp + \" is incorrect\")\n",
    "       print(\"The correct answer is \" + answers[i])\n",
    "\n",
    "print(getpass.getuser() + \" you scored \" + str(correct) +\"/10\")"
   ]
  }
 ],
 "metadata": {
  "kernelspec": {
   "display_name": "Python 3.8.10 64-bit",
   "language": "python",
   "name": "python3"
  },
  "language_info": {
   "name": "python",
   "version": "3.8.10"
  },
  "orig_nbformat": 4,
  "vscode": {
   "interpreter": {
    "hash": "916dbcbb3f70747c44a77c7bcd40155683ae19c65e1c03b4aa3499c5328201f1"
   }
  }
 },
 "nbformat": 4,
 "nbformat_minor": 2
}
