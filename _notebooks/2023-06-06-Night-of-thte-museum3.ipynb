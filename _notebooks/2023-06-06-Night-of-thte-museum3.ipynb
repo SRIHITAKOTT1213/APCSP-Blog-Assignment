{
 "cells": [
  {
   "attachments": {},
   "cell_type": "markdown",
   "metadata": {},
   "source": [
    "# First Jupyter Notebook\n",
    "\n",
    "> Practice! Practice! Practice!\n",
    "- title: 2020 Practice Test Corrections\n",
    "- toc: true\n",
    "- categories: [Other Projects]\n",
    "- comments: true"
   ]
  },
  {
   "attachments": {},
   "cell_type": "markdown",
   "metadata": {},
   "source": [
    "This N@tm was really fun. This tri we made a bunch of games for everyone to play and I really enjoyed watching my friends struggle (I know how that sounds) to finish the memory game. I also liked seeing people that I haven't seen in a while (from both CSP and CSA) and I liked seeing what they came up with. I liked seeing what CSA was doing, it was all monkey related for some reason, don't know what that is about. Anyway, this try was fun, and I saw a lot of cool stuff (like the octopus I saw in ceramics was really cute)."
   ]
  },
  {
   "attachments": {},
   "cell_type": "markdown",
   "metadata": {},
   "source": [
    "## Pictures from N@tm #3\n",
    "Sorry if the pictures are a litte... Wonky :)"
   ]
  },
  {
   "attachments": {},
   "cell_type": "markdown",
   "metadata": {},
   "source": [
    "![screenshot](https://i2.paste.pics/1c79f396920f1676ddf2ba0157b2d84b.png)\n",
    "\n",
    "\n",
    "\n",
    "![screenshot](https://i2.paste.pics/32671f9d3bb58029599caa838ba72b22.png)\n",
    "\n",
    "\n",
    "\n",
    "![screenshot](https://i2.paste.pics/ea82971d1c7afe5c54e68210eb17aa4c.png)\n",
    "\n",
    "\n",
    "\n",
    "![screenshot](https://i2.paste.pics/846c58126698de5046f6190575e1d3c9.png)\n",
    "\n",
    "\n",
    "\n",
    "![screenshot](https://i2.paste.pics/13456ddda2288b2008c12a17e3b4e865.png)\n",
    "\n",
    "\n",
    "\n",
    "![screenshot](https://i2.paste.pics/b8672d89631040fcde794892761d0302.png)\n"
   ]
  }
 ],
 "metadata": {
  "language_info": {
   "name": "python"
  },
  "orig_nbformat": 4
 },
 "nbformat": 4,
 "nbformat_minor": 2
}
