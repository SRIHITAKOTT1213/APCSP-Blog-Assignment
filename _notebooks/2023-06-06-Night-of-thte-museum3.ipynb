{
 "cells": [
  {
   "attachments": {},
   "cell_type": "markdown",
   "metadata": {},
   "source": [
    "# First Jupyter Notebook\n",
    "\n",
    "> Practice! Practice! Practice!\n",
    "- title: 2020 Practice Test Corrections\n",
    "- toc: true\n",
    "- categories: [Other Projects]\n",
    "- comments: true"
   ]
  },
  {
   "attachments": {},
   "cell_type": "markdown",
   "metadata": {},
   "source": [
    "This N@tm was really fun. This tri we made a bunch of games for everyone to play and I really enjoyed watching my friends struggle (I know how that sounds) to finish the memory game. I also liked seeing people that I haven't seen in a while (from both CSP and CSA) and I liked seeing what they came up with. I liked seeing what CSA was doing, it was all monkey related for some reason, don't know what that is about. Anyway, this try was fun, and I saw a lot of cool stuff (like the octopus I saw in ceramics was really cute). This year I did learn a lot about code that I didn't know before. I learned HOW to code first of all. I am more comfortable with languages like python and javascript in which I haven't been before. I think the best part of this year would be getting to meet new people and work in new groups and being able to find ways to work better with each other. The downs of this year would be getting the code on time or figuring out how the code works because that was, most of the time I was frusterated. And as for the future, I don't plan on going into the computer science field, but I do believe that everyone has to code at some point in their lives so I think this class and the things that I've learned will come in handy."
   ]
  },
  {
   "attachments": {},
   "cell_type": "markdown",
   "metadata": {},
   "source": [
    "## Pictures from N@tm #3\n",
    "Sorry if the pictures are a litte... Wonky :)"
   ]
  },
  {
   "attachments": {},
   "cell_type": "markdown",
   "metadata": {},
   "source": [
    "![screenshot](https://i2.paste.pics/1c79f396920f1676ddf2ba0157b2d84b.png)\n",
    "\n",
    "\n",
    "\n",
    "![screenshot](https://i2.paste.pics/32671f9d3bb58029599caa838ba72b22.png)\n",
    "\n",
    "\n",
    "\n",
    "![screenshot](https://i2.paste.pics/ea82971d1c7afe5c54e68210eb17aa4c.png)\n",
    "\n",
    "\n",
    "\n",
    "![screenshot](https://i2.paste.pics/846c58126698de5046f6190575e1d3c9.png)\n",
    "\n",
    "\n",
    "\n",
    "![screenshot](https://i2.paste.pics/13456ddda2288b2008c12a17e3b4e865.png)\n",
    "\n",
    "\n",
    "\n",
    "![screenshot](https://i2.paste.pics/b8672d89631040fcde794892761d0302.png)\n"
   ]
  }
 ],
 "metadata": {
  "language_info": {
   "name": "python"
  },
  "orig_nbformat": 4
 },
 "nbformat": 4,
 "nbformat_minor": 2
}
